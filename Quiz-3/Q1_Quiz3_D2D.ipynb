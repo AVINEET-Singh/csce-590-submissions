{
  "nbformat": 4,
  "nbformat_minor": 0,
  "metadata": {
    "colab": {
      "name": "Q1_Quiz3_D2D.ipynb",
      "provenance": []
    },
    "kernelspec": {
      "name": "python3",
      "display_name": "Python 3"
    },
    "language_info": {
      "name": "python"
    }
  },
  "cells": [
    {
      "cell_type": "markdown",
      "metadata": {
        "id": "iWFoI8Hf897q"
      },
      "source": [
        "#Q1.1"
      ]
    },
    {
      "cell_type": "code",
      "metadata": {
        "id": "LYmWv_DPTEbf"
      },
      "source": [
        "import pandas as pd"
      ],
      "execution_count": null,
      "outputs": []
    },
    {
      "cell_type": "code",
      "metadata": {
        "colab": {
          "base_uri": "https://localhost:8080/"
        },
        "id": "b6qed2InYo54",
        "outputId": "65ed8404-0f55-499a-f11a-d98888a3791a"
      },
      "source": [
        "# Read data and parse data\n",
        "data1 = pd.read_csv('SC-Min-temp.csv', parse_dates=['Date'], index_col='Date')\n",
        "data1.shape"
      ],
      "execution_count": null,
      "outputs": [
        {
          "output_type": "execute_result",
          "data": {
            "text/plain": [
              "(46, 3)"
            ]
          },
          "metadata": {
            "tags": []
          },
          "execution_count": 15
        }
      ]
    },
    {
      "cell_type": "code",
      "metadata": {
        "colab": {
          "base_uri": "https://localhost:8080/"
        },
        "id": "_kiRbbqkY48A",
        "outputId": "0f55e28b-85c0-4aea-90a8-239497550de8"
      },
      "source": [
        "data.head()"
      ],
      "execution_count": null,
      "outputs": [
        {
          "output_type": "execute_result",
          "data": {
            "text/html": [
              "<div>\n",
              "<style scoped>\n",
              "    .dataframe tbody tr th:only-of-type {\n",
              "        vertical-align: middle;\n",
              "    }\n",
              "\n",
              "    .dataframe tbody tr th {\n",
              "        vertical-align: top;\n",
              "    }\n",
              "\n",
              "    .dataframe thead th {\n",
              "        text-align: right;\n",
              "    }\n",
              "</style>\n",
              "<table border=\"1\" class=\"dataframe\">\n",
              "  <thead>\n",
              "    <tr style=\"text-align: right;\">\n",
              "      <th></th>\n",
              "      <th>County</th>\n",
              "      <th>Location</th>\n",
              "      <th>Temperature (F)</th>\n",
              "    </tr>\n",
              "    <tr>\n",
              "      <th>Date</th>\n",
              "      <th></th>\n",
              "      <th></th>\n",
              "      <th></th>\n",
              "    </tr>\n",
              "  </thead>\n",
              "  <tbody>\n",
              "    <tr>\n",
              "      <th>1985-01-21</th>\n",
              "      <td>Abbeville</td>\n",
              "      <td>Calhoun Falls</td>\n",
              "      <td>2</td>\n",
              "    </tr>\n",
              "    <tr>\n",
              "      <th>1985-01-21</th>\n",
              "      <td>Aiken</td>\n",
              "      <td>Aiken 5SE</td>\n",
              "      <td>-4</td>\n",
              "    </tr>\n",
              "    <tr>\n",
              "      <th>1985-01-21</th>\n",
              "      <td>Allendale</td>\n",
              "      <td>Allendale 2NW</td>\n",
              "      <td>-2</td>\n",
              "    </tr>\n",
              "    <tr>\n",
              "      <th>1985-01-21</th>\n",
              "      <td>Anderson</td>\n",
              "      <td>Anderson</td>\n",
              "      <td>-6</td>\n",
              "    </tr>\n",
              "    <tr>\n",
              "      <th>1985-01-21</th>\n",
              "      <td>Bamberg</td>\n",
              "      <td>Bamberg</td>\n",
              "      <td>2</td>\n",
              "    </tr>\n",
              "  </tbody>\n",
              "</table>\n",
              "</div>"
            ],
            "text/plain": [
              "               County       Location  Temperature (F)\n",
              "Date                                                 \n",
              "1985-01-21  Abbeville  Calhoun Falls                2\n",
              "1985-01-21      Aiken      Aiken 5SE               -4\n",
              "1985-01-21  Allendale  Allendale 2NW               -2\n",
              "1985-01-21   Anderson       Anderson               -6\n",
              "1985-01-21    Bamberg        Bamberg                2"
            ]
          },
          "metadata": {
            "tags": []
          },
          "execution_count": 16
        }
      ]
    },
    {
      "cell_type": "code",
      "metadata": {
        "id": "BNMX_mHLbMrh"
      },
      "source": [
        "# Display figures\n",
        "import matplotlib.pyplot as plt\n",
        "import matplotlib.dates as mdates\n",
        "import seaborn as sns\n",
        "# Use seaborn style defaults; set the default figure size\n",
        "sns.set(rc={'figure.figsize':(11, 4)})"
      ],
      "execution_count": null,
      "outputs": []
    },
    {
      "cell_type": "code",
      "metadata": {
        "colab": {
          "base_uri": "https://localhost:8080/"
        },
        "id": "hc8lgDGLbjhH",
        "outputId": "b919609c-2fa6-4862-98ae-47e254c8dcbb"
      },
      "source": [
        "# Just consumption\n",
        "data1['Temperature (F)'].plot();"
      ],
      "execution_count": null,
      "outputs": [
        {
          "output_type": "display_data",
          "data": {
            "image/png": "[encoded data removed]",
            "text/plain": [
              "<Figure size 792x288 with 1 Axes>"
            ]
          },
          "metadata": {
            "tags": []
          }
        }
      ]
    },
    {
      "cell_type": "markdown",
      "metadata": {
        "id": "e4Q7nC1i9DDB"
      },
      "source": [
        "#Q1.2"
      ]
    },
    {
      "cell_type": "code",
      "metadata": {
        "id": "2oyf4Nl0KAQ7"
      },
      "source": [
        "import pandas as pd"
      ],
      "execution_count": null,
      "outputs": []
    },
    {
      "cell_type": "code",
      "metadata": {
        "colab": {
          "base_uri": "https://localhost:8080/"
        },
        "id": "gNE6EuVYKAQ-",
        "outputId": "70a266b0-4763-48ba-a7d0-b131daed3d60"
      },
      "source": [
        "# Read data and parse data\n",
        "data2 = pd.read_csv('South Carolina County 24-Hour Precipitation Records.csv', parse_dates=['Date'],index_col='Date')\n",
        "data2.shape"
      ],
      "execution_count": null,
      "outputs": [
        {
          "output_type": "execute_result",
          "data": {
            "text/plain": [
              "(46, 3)"
            ]
          },
          "metadata": {
            "tags": []
          },
          "execution_count": 20
        }
      ]
    },
    {
      "cell_type": "code",
      "metadata": {
        "colab": {
          "base_uri": "https://localhost:8080/"
        },
        "id": "vexHEDHWKAQ_",
        "outputId": "fb7eb52f-43fa-4ac7-ae26-dbfbb9647b85"
      },
      "source": [
        "data2.head()"
      ],
      "execution_count": null,
      "outputs": [
        {
          "output_type": "execute_result",
          "data": {
            "text/html": [
              "<div>\n",
              "<style scoped>\n",
              "    .dataframe tbody tr th:only-of-type {\n",
              "        vertical-align: middle;\n",
              "    }\n",
              "\n",
              "    .dataframe tbody tr th {\n",
              "        vertical-align: top;\n",
              "    }\n",
              "\n",
              "    .dataframe thead th {\n",
              "        text-align: right;\n",
              "    }\n",
              "</style>\n",
              "<table border=\"1\" class=\"dataframe\">\n",
              "  <thead>\n",
              "    <tr style=\"text-align: right;\">\n",
              "      <th></th>\n",
              "      <th>County</th>\n",
              "      <th>Location</th>\n",
              "      <th>Precipitation (inches)</th>\n",
              "    </tr>\n",
              "    <tr>\n",
              "      <th>Date</th>\n",
              "      <th></th>\n",
              "      <th></th>\n",
              "      <th></th>\n",
              "    </tr>\n",
              "  </thead>\n",
              "  <tbody>\n",
              "    <tr>\n",
              "      <th>1991-07-17</th>\n",
              "      <td>Abbeville</td>\n",
              "      <td>Calhoun Falls</td>\n",
              "      <td>7.80</td>\n",
              "    </tr>\n",
              "    <tr>\n",
              "      <th>1969-04-16</th>\n",
              "      <td>Aiken</td>\n",
              "      <td>Aiken 4SE</td>\n",
              "      <td>9.68</td>\n",
              "    </tr>\n",
              "    <tr>\n",
              "      <th>1993-06-27</th>\n",
              "      <td>Allendale</td>\n",
              "      <td>Allendale 2NW</td>\n",
              "      <td>8.00</td>\n",
              "    </tr>\n",
              "    <tr>\n",
              "      <th>1995-08-27</th>\n",
              "      <td>Anderson</td>\n",
              "      <td>Pelzer</td>\n",
              "      <td>12.81</td>\n",
              "    </tr>\n",
              "    <tr>\n",
              "      <th>1990-10-11</th>\n",
              "      <td>Bamberg</td>\n",
              "      <td>Branchville</td>\n",
              "      <td>8.45</td>\n",
              "    </tr>\n",
              "  </tbody>\n",
              "</table>\n",
              "</div>"
            ],
            "text/plain": [
              "               County       Location  Precipitation (inches)\n",
              "Date                                                        \n",
              "1991-07-17  Abbeville  Calhoun Falls                    7.80\n",
              "1969-04-16      Aiken      Aiken 4SE                    9.68\n",
              "1993-06-27  Allendale  Allendale 2NW                    8.00\n",
              "1995-08-27   Anderson         Pelzer                   12.81\n",
              "1990-10-11    Bamberg    Branchville                    8.45"
            ]
          },
          "metadata": {
            "tags": []
          },
          "execution_count": 21
        }
      ]
    },
    {
      "cell_type": "code",
      "metadata": {
        "id": "aArH5-uMKARA"
      },
      "source": [
        "# Display figures\n",
        "import matplotlib.pyplot as plt\n",
        "import matplotlib.dates as mdates\n",
        "import seaborn as sns\n",
        "# Use seaborn style defaults; set the default figure size\n",
        "sns.set(rc={'figure.figsize':(11, 4)})"
      ],
      "execution_count": null,
      "outputs": []
    },
    {
      "cell_type": "code",
      "metadata": {
        "colab": {
          "base_uri": "https://localhost:8080/"
        },
        "id": "QxgefoaRKARA",
        "outputId": "99f0f415-90cf-49b7-ba59-593e4a60576d"
      },
      "source": [
        "# Just consumption\n",
        "data2['Precipitation (inches)'].plot();"
      ],
      "execution_count": null,
      "outputs": [
        {
          "output_type": "display_data",
          "data": {
            "image/png": "[encoded data removed]",
            "text/plain": [
              "<Figure size 792x288 with 1 Axes>"
            ]
          },
          "metadata": {
            "tags": []
          }
        }
      ]
    },
    {
      "cell_type": "markdown",
      "metadata": {
        "id": "flG47koyKFGG"
      },
      "source": [
        "#Q1.3"
      ]
    },
    {
      "cell_type": "code",
      "metadata": {
        "colab": {
          "base_uri": "https://localhost:8080/",
          "height": 1000
        },
        "id": "3PAqjr5zKHO6",
        "outputId": "5cdf3f91-0316-401c-9b00-97042a9126ca"
      },
      "source": [
        "data3=data1.copy()\n",
        "data3"
      ],
      "execution_count": null,
      "outputs": [
        {
          "output_type": "execute_result",
          "data": {
            "text/html": [
              "<div>\n",
              "<style scoped>\n",
              "    .dataframe tbody tr th:only-of-type {\n",
              "        vertical-align: middle;\n",
              "    }\n",
              "\n",
              "    .dataframe tbody tr th {\n",
              "        vertical-align: top;\n",
              "    }\n",
              "\n",
              "    .dataframe thead th {\n",
              "        text-align: right;\n",
              "    }\n",
              "</style>\n",
              "<table border=\"1\" class=\"dataframe\">\n",
              "  <thead>\n",
              "    <tr style=\"text-align: right;\">\n",
              "      <th></th>\n",
              "      <th>County</th>\n",
              "      <th>Location</th>\n",
              "      <th>Temperature (F)</th>\n",
              "    </tr>\n",
              "    <tr>\n",
              "      <th>Date</th>\n",
              "      <th></th>\n",
              "      <th></th>\n",
              "      <th></th>\n",
              "    </tr>\n",
              "  </thead>\n",
              "  <tbody>\n",
              "    <tr>\n",
              "      <th>1985-01-21</th>\n",
              "      <td>Abbeville</td>\n",
              "      <td>Calhoun Falls</td>\n",
              "      <td>2</td>\n",
              "    </tr>\n",
              "    <tr>\n",
              "      <th>1985-01-21</th>\n",
              "      <td>Aiken</td>\n",
              "      <td>Aiken 5SE</td>\n",
              "      <td>-4</td>\n",
              "    </tr>\n",
              "    <tr>\n",
              "      <th>1985-01-21</th>\n",
              "      <td>Allendale</td>\n",
              "      <td>Allendale 2NW</td>\n",
              "      <td>-2</td>\n",
              "    </tr>\n",
              "    <tr>\n",
              "      <th>1985-01-21</th>\n",
              "      <td>Anderson</td>\n",
              "      <td>Anderson</td>\n",
              "      <td>-6</td>\n",
              "    </tr>\n",
              "    <tr>\n",
              "      <th>1985-01-21</th>\n",
              "      <td>Bamberg</td>\n",
              "      <td>Bamberg</td>\n",
              "      <td>2</td>\n",
              "    </tr>\n",
              "    <tr>\n",
              "      <th>1899-02-14</th>\n",
              "      <td>Barnwell</td>\n",
              "      <td>Blackville 3W</td>\n",
              "      <td>-3</td>\n",
              "    </tr>\n",
              "    <tr>\n",
              "      <th>1985-01-21</th>\n",
              "      <td>Beaufort</td>\n",
              "      <td>Yemasse</td>\n",
              "      <td>0</td>\n",
              "    </tr>\n",
              "    <tr>\n",
              "      <th>1985-01-22</th>\n",
              "      <td>Berkeley</td>\n",
              "      <td>Pinopolis Dam</td>\n",
              "      <td>8</td>\n",
              "    </tr>\n",
              "    <tr>\n",
              "      <th>1899-02-14</th>\n",
              "      <td>Calhoun</td>\n",
              "      <td>St Matthews</td>\n",
              "      <td>0</td>\n",
              "    </tr>\n",
              "    <tr>\n",
              "      <th>1985-01-21</th>\n",
              "      <td>Charleston</td>\n",
              "      <td>McClelanville</td>\n",
              "      <td>4</td>\n",
              "    </tr>\n",
              "    <tr>\n",
              "      <th>1985-01-21</th>\n",
              "      <td>Cherokee</td>\n",
              "      <td>Ninety Nine Island</td>\n",
              "      <td>-4</td>\n",
              "    </tr>\n",
              "    <tr>\n",
              "      <th>1962-12-13</th>\n",
              "      <td>Chester</td>\n",
              "      <td>Chester 1SE</td>\n",
              "      <td>-5</td>\n",
              "    </tr>\n",
              "    <tr>\n",
              "      <th>1985-01-21</th>\n",
              "      <td>Chesterfield</td>\n",
              "      <td>Cheraw</td>\n",
              "      <td>0</td>\n",
              "    </tr>\n",
              "    <tr>\n",
              "      <th>1985-01-21</th>\n",
              "      <td>Clarendon</td>\n",
              "      <td>Manning</td>\n",
              "      <td>0</td>\n",
              "    </tr>\n",
              "    <tr>\n",
              "      <th>1985-01-21</th>\n",
              "      <td>Colleton</td>\n",
              "      <td>Walterboro 1SW</td>\n",
              "      <td>0</td>\n",
              "    </tr>\n",
              "    <tr>\n",
              "      <th>1985-01-21</th>\n",
              "      <td>Darlington</td>\n",
              "      <td>Florence 8NE</td>\n",
              "      <td>1</td>\n",
              "    </tr>\n",
              "    <tr>\n",
              "      <th>1985-12-25</th>\n",
              "      <td>Dillon</td>\n",
              "      <td>Dillon</td>\n",
              "      <td>-1</td>\n",
              "    </tr>\n",
              "    <tr>\n",
              "      <th>1899-01-12</th>\n",
              "      <td>Dorchester</td>\n",
              "      <td>Summerville</td>\n",
              "      <td>-5</td>\n",
              "    </tr>\n",
              "    <tr>\n",
              "      <th>1985-01-21</th>\n",
              "      <td>Edgefield</td>\n",
              "      <td>Johnston 4SE</td>\n",
              "      <td>-2</td>\n",
              "    </tr>\n",
              "    <tr>\n",
              "      <th>1899-02-14</th>\n",
              "      <td>Fairfield</td>\n",
              "      <td>Winnsboro</td>\n",
              "      <td>-3</td>\n",
              "    </tr>\n",
              "    <tr>\n",
              "      <th>1985-01-21</th>\n",
              "      <td>Florence</td>\n",
              "      <td>Florence</td>\n",
              "      <td>0</td>\n",
              "    </tr>\n",
              "    <tr>\n",
              "      <th>1985-01-21</th>\n",
              "      <td>Georgetown</td>\n",
              "      <td>Andrews</td>\n",
              "      <td>2</td>\n",
              "    </tr>\n",
              "    <tr>\n",
              "      <th>1985-01-21</th>\n",
              "      <td>Greenville</td>\n",
              "      <td>Caesars Head</td>\n",
              "      <td>-19</td>\n",
              "    </tr>\n",
              "    <tr>\n",
              "      <th>1899-02-21</th>\n",
              "      <td>Greenwood</td>\n",
              "      <td>Greenwood</td>\n",
              "      <td>-5</td>\n",
              "    </tr>\n",
              "    <tr>\n",
              "      <th>1985-01-21</th>\n",
              "      <td>Hampton</td>\n",
              "      <td>Hampton 1S</td>\n",
              "      <td>1</td>\n",
              "    </tr>\n",
              "    <tr>\n",
              "      <th>1985-01-21</th>\n",
              "      <td>Horry</td>\n",
              "      <td>Loris</td>\n",
              "      <td>2</td>\n",
              "    </tr>\n",
              "    <tr>\n",
              "      <th>1985-01-21</th>\n",
              "      <td>Jasper</td>\n",
              "      <td>Ridgeland 5NE</td>\n",
              "      <td>2</td>\n",
              "    </tr>\n",
              "    <tr>\n",
              "      <th>1985-01-22</th>\n",
              "      <td>Kershaw</td>\n",
              "      <td>Camden 3W</td>\n",
              "      <td>-3</td>\n",
              "    </tr>\n",
              "    <tr>\n",
              "      <th>1985-01-21</th>\n",
              "      <td>Lancaster</td>\n",
              "      <td>Kershaw 1SW</td>\n",
              "      <td>-4</td>\n",
              "    </tr>\n",
              "    <tr>\n",
              "      <th>1985-01-21</th>\n",
              "      <td>Laurens</td>\n",
              "      <td>Laurens</td>\n",
              "      <td>-2</td>\n",
              "    </tr>\n",
              "    <tr>\n",
              "      <th>1985-01-21</th>\n",
              "      <td>Lee</td>\n",
              "      <td>Bishopville 1ENE</td>\n",
              "      <td>-2</td>\n",
              "    </tr>\n",
              "    <tr>\n",
              "      <th>1899-02-14</th>\n",
              "      <td>Lexington</td>\n",
              "      <td>Batesburg</td>\n",
              "      <td>-4</td>\n",
              "    </tr>\n",
              "    <tr>\n",
              "      <th>1989-01-21</th>\n",
              "      <td>Marion</td>\n",
              "      <td>Marion</td>\n",
              "      <td>0</td>\n",
              "    </tr>\n",
              "    <tr>\n",
              "      <th>1985-01-21</th>\n",
              "      <td>Marlboro</td>\n",
              "      <td>McColl</td>\n",
              "      <td>-5</td>\n",
              "    </tr>\n",
              "    <tr>\n",
              "      <th>1985-01-21</th>\n",
              "      <td>McCormick</td>\n",
              "      <td>Clark Hill 1W</td>\n",
              "      <td>-2</td>\n",
              "    </tr>\n",
              "    <tr>\n",
              "      <th>1899-02-14</th>\n",
              "      <td>Newberry</td>\n",
              "      <td>Newberry</td>\n",
              "      <td>-8</td>\n",
              "    </tr>\n",
              "    <tr>\n",
              "      <th>1985-01-21</th>\n",
              "      <td>Oconee</td>\n",
              "      <td>Long Creek</td>\n",
              "      <td>-8</td>\n",
              "    </tr>\n",
              "    <tr>\n",
              "      <th>1985-01-21</th>\n",
              "      <td>Orangeburg</td>\n",
              "      <td>Orangeburg 2</td>\n",
              "      <td>2</td>\n",
              "    </tr>\n",
              "    <tr>\n",
              "      <th>1985-01-21</th>\n",
              "      <td>Pickens</td>\n",
              "      <td>Pickens</td>\n",
              "      <td>-6</td>\n",
              "    </tr>\n",
              "    <tr>\n",
              "      <th>1994-01-16</th>\n",
              "      <td>Richland</td>\n",
              "      <td>Cedar Creek</td>\n",
              "      <td>-5</td>\n",
              "    </tr>\n",
              "    <tr>\n",
              "      <th>1985-01-21</th>\n",
              "      <td>Saluda</td>\n",
              "      <td>Saluda</td>\n",
              "      <td>-2</td>\n",
              "    </tr>\n",
              "    <tr>\n",
              "      <th>1966-01-30</th>\n",
              "      <td>Spartanburg</td>\n",
              "      <td>Greenville-Spartanburg Intnl.</td>\n",
              "      <td>-6</td>\n",
              "    </tr>\n",
              "    <tr>\n",
              "      <th>1985-01-21</th>\n",
              "      <td>Sumter</td>\n",
              "      <td>Sumter</td>\n",
              "      <td>2</td>\n",
              "    </tr>\n",
              "    <tr>\n",
              "      <th>1899-02-14</th>\n",
              "      <td>Union</td>\n",
              "      <td>Santuck</td>\n",
              "      <td>-11</td>\n",
              "    </tr>\n",
              "    <tr>\n",
              "      <th>1985-01-20</th>\n",
              "      <td>Williamsburg</td>\n",
              "      <td>Cades 4W</td>\n",
              "      <td>0</td>\n",
              "    </tr>\n",
              "    <tr>\n",
              "      <th>1985-01-21</th>\n",
              "      <td>York</td>\n",
              "      <td>Winthrop University</td>\n",
              "      <td>-4</td>\n",
              "    </tr>\n",
              "  </tbody>\n",
              "</table>\n",
              "</div>"
            ],
            "text/plain": [
              "                  County                       Location  Temperature (F)\n",
              "Date                                                                    \n",
              "1985-01-21     Abbeville                  Calhoun Falls                2\n",
              "1985-01-21         Aiken                      Aiken 5SE               -4\n",
              "1985-01-21     Allendale                  Allendale 2NW               -2\n",
              "1985-01-21      Anderson                       Anderson               -6\n",
              "1985-01-21       Bamberg                        Bamberg                2\n",
              "1899-02-14      Barnwell                  Blackville 3W               -3\n",
              "1985-01-21      Beaufort                        Yemasse                0\n",
              "1985-01-22      Berkeley                  Pinopolis Dam                8\n",
              "1899-02-14       Calhoun                    St Matthews                0\n",
              "1985-01-21    Charleston                  McClelanville                4\n",
              "1985-01-21      Cherokee             Ninety Nine Island               -4\n",
              "1962-12-13       Chester                    Chester 1SE               -5\n",
              "1985-01-21  Chesterfield                         Cheraw                0\n",
              "1985-01-21     Clarendon                        Manning                0\n",
              "1985-01-21      Colleton                 Walterboro 1SW                0\n",
              "1985-01-21    Darlington                   Florence 8NE                1\n",
              "1985-12-25        Dillon                         Dillon               -1\n",
              "1899-01-12    Dorchester                    Summerville               -5\n",
              "1985-01-21     Edgefield                   Johnston 4SE               -2\n",
              "1899-02-14     Fairfield                      Winnsboro               -3\n",
              "1985-01-21      Florence                       Florence                0\n",
              "1985-01-21    Georgetown                        Andrews                2\n",
              "1985-01-21    Greenville                   Caesars Head              -19\n",
              "1899-02-21     Greenwood                      Greenwood               -5\n",
              "1985-01-21       Hampton                     Hampton 1S                1\n",
              "1985-01-21         Horry                          Loris                2\n",
              "1985-01-21        Jasper                  Ridgeland 5NE                2\n",
              "1985-01-22       Kershaw                      Camden 3W               -3\n",
              "1985-01-21     Lancaster                    Kershaw 1SW               -4\n",
              "1985-01-21       Laurens                        Laurens               -2\n",
              "1985-01-21           Lee               Bishopville 1ENE               -2\n",
              "1899-02-14     Lexington                      Batesburg               -4\n",
              "1989-01-21        Marion                         Marion                0\n",
              "1985-01-21      Marlboro                         McColl               -5\n",
              "1985-01-21     McCormick                  Clark Hill 1W               -2\n",
              "1899-02-14      Newberry                       Newberry               -8\n",
              "1985-01-21        Oconee                     Long Creek               -8\n",
              "1985-01-21    Orangeburg                   Orangeburg 2                2\n",
              "1985-01-21       Pickens                        Pickens               -6\n",
              "1994-01-16      Richland                    Cedar Creek               -5\n",
              "1985-01-21        Saluda                         Saluda               -2\n",
              "1966-01-30   Spartanburg  Greenville-Spartanburg Intnl.               -6\n",
              "1985-01-21        Sumter                         Sumter                2\n",
              "1899-02-14         Union                        Santuck              -11\n",
              "1985-01-20  Williamsburg                       Cades 4W                0\n",
              "1985-01-21          York            Winthrop University               -4"
            ]
          },
          "metadata": {
            "tags": []
          },
          "execution_count": 25
        }
      ]
    }
  ]
}