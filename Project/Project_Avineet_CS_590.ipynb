{
  "nbformat": 4,
  "nbformat_minor": 0,
  "metadata": {
    "colab": {
      "name": "Project_Avineet_CS-590.ipynb",
      "provenance": [],
      "toc_visible": true
    },
    "kernelspec": {
      "name": "python3",
      "display_name": "Python 3"
    },
    "language_info": {
      "name": "python"
    }
  },
  "cells": [
    {
      "cell_type": "markdown",
      "metadata": {
        "id": "3BLIm6xIixR5"
      },
      "source": [
        "##Data Reading"
      ]
    },
    {
      "cell_type": "code",
      "metadata": {
        "id": "wf7HmlmGzu-P"
      },
      "source": [
        "import numpy as np \n",
        "import pandas as pd \n",
        "import matplotlib.pyplot as plt \n",
        "  \n",
        "from sklearn.cluster import DBSCAN \n",
        "from sklearn.preprocessing import StandardScaler \n",
        "from sklearn.preprocessing import normalize \n",
        "from sklearn.decomposition import PCA "
      ],
      "execution_count": null,
      "outputs": []
    },
    {
      "cell_type": "code",
      "metadata": {
        "colab": {
          "base_uri": "https://localhost:8080/"
        },
        "id": "FvEjweF50CrU",
        "outputId": "d6d6f56f-7dee-458d-8b49-fca411d42fd3"
      },
      "source": [
        "df=pd.read_csv(\"US_births(2018).csv\")"
      ],
      "execution_count": null,
      "outputs": [
        {
          "output_type": "stream",
          "text": [
            "/usr/local/lib/python3.7/dist-packages/IPython/core/interactiveshell.py:2718: DtypeWarning: Columns (7) have mixed types.Specify dtype option on import or set low_memory=False.\n",
            "  interactivity=interactivity, compiler=compiler, result=result)\n"
          ],
          "name": "stderr"
        }
      ]
    },
    {
      "cell_type": "code",
      "metadata": {
        "colab": {
          "base_uri": "https://localhost:8080/"
        },
        "id": "GtbtlTci0F3G",
        "outputId": "a2e1a82a-18ab-4473-f01a-78239b328884"
      },
      "source": [
        "df"
      ],
      "execution_count": null,
      "outputs": [
        {
          "output_type": "execute_result",
          "data": {
            "text/html": [
              "<div>\n",
              "<style scoped>\n",
              "    .dataframe tbody tr th:only-of-type {\n",
              "        vertical-align: middle;\n",
              "    }\n",
              "\n",
              "    .dataframe tbody tr th {\n",
              "        vertical-align: top;\n",
              "    }\n",
              "\n",
              "    .dataframe thead th {\n",
              "        text-align: right;\n",
              "    }\n",
              "</style>\n",
              "<table border=\"1\" class=\"dataframe\">\n",
              "  <thead>\n",
              "    <tr style=\"text-align: right;\">\n",
              "      <th></th>\n",
              "      <th>ATTEND</th>\n",
              "      <th>BFACIL</th>\n",
              "      <th>BMI</th>\n",
              "      <th>CIG_0</th>\n",
              "      <th>DBWT</th>\n",
              "      <th>DLMP_MM</th>\n",
              "      <th>DLMP_YY</th>\n",
              "      <th>DMAR</th>\n",
              "      <th>DOB_MM</th>\n",
              "      <th>DOB_TT</th>\n",
              "      <th>DOB_WK</th>\n",
              "      <th>DOB_YY</th>\n",
              "      <th>DWgt_R</th>\n",
              "      <th>FAGECOMB</th>\n",
              "      <th>FEDUC</th>\n",
              "      <th>FHISPX</th>\n",
              "      <th>FRACE15</th>\n",
              "      <th>FRACE31</th>\n",
              "      <th>FRACE6</th>\n",
              "      <th>ILLB_R</th>\n",
              "      <th>ILOP_R</th>\n",
              "      <th>ILP_R</th>\n",
              "      <th>IMP_SEX</th>\n",
              "      <th>IP_GON</th>\n",
              "      <th>LD_INDL</th>\n",
              "      <th>MAGER</th>\n",
              "      <th>MAGE_IMPFLG</th>\n",
              "      <th>MAR_IMP</th>\n",
              "      <th>MBSTATE_REC</th>\n",
              "      <th>MEDUC</th>\n",
              "      <th>MHISPX</th>\n",
              "      <th>MM_AICU</th>\n",
              "      <th>MRACE15</th>\n",
              "      <th>MRACE31</th>\n",
              "      <th>MRACEIMP</th>\n",
              "      <th>MRAVE6</th>\n",
              "      <th>MTRAN</th>\n",
              "      <th>M_Ht_In</th>\n",
              "      <th>NO_INFEC</th>\n",
              "      <th>NO_MMORB</th>\n",
              "      <th>NO_RISKS</th>\n",
              "      <th>PAY</th>\n",
              "      <th>PAY_REC</th>\n",
              "      <th>PRECARE</th>\n",
              "      <th>PREVIS</th>\n",
              "      <th>PRIORDEAD</th>\n",
              "      <th>PRIORLIVE</th>\n",
              "      <th>PRIORTERM</th>\n",
              "      <th>PWgt_R</th>\n",
              "      <th>RDMETH_REC</th>\n",
              "      <th>RESTATUS</th>\n",
              "      <th>RF_CESAR</th>\n",
              "      <th>RF_CESARN</th>\n",
              "      <th>SEX</th>\n",
              "      <th>WTGAIN</th>\n",
              "    </tr>\n",
              "  </thead>\n",
              "  <tbody>\n",
              "    <tr>\n",
              "      <th>0</th>\n",
              "      <td>1</td>\n",
              "      <td>1</td>\n",
              "      <td>30.7</td>\n",
              "      <td>0</td>\n",
              "      <td>3657</td>\n",
              "      <td>4</td>\n",
              "      <td>2017</td>\n",
              "      <td>1</td>\n",
              "      <td>1</td>\n",
              "      <td>1227</td>\n",
              "      <td>2</td>\n",
              "      <td>2018</td>\n",
              "      <td>231</td>\n",
              "      <td>31</td>\n",
              "      <td>3</td>\n",
              "      <td>1</td>\n",
              "      <td>1</td>\n",
              "      <td>1</td>\n",
              "      <td>1</td>\n",
              "      <td>16</td>\n",
              "      <td>33</td>\n",
              "      <td>16</td>\n",
              "      <td></td>\n",
              "      <td>N</td>\n",
              "      <td>N</td>\n",
              "      <td>30</td>\n",
              "      <td></td>\n",
              "      <td></td>\n",
              "      <td>1</td>\n",
              "      <td>6</td>\n",
              "      <td>0</td>\n",
              "      <td>N</td>\n",
              "      <td>1</td>\n",
              "      <td>1</td>\n",
              "      <td></td>\n",
              "      <td>1</td>\n",
              "      <td>N</td>\n",
              "      <td>66</td>\n",
              "      <td>1</td>\n",
              "      <td>1</td>\n",
              "      <td>1</td>\n",
              "      <td>2</td>\n",
              "      <td>2</td>\n",
              "      <td>3</td>\n",
              "      <td>8</td>\n",
              "      <td>0</td>\n",
              "      <td>1</td>\n",
              "      <td>2</td>\n",
              "      <td>190</td>\n",
              "      <td>1</td>\n",
              "      <td>2</td>\n",
              "      <td>N</td>\n",
              "      <td>0</td>\n",
              "      <td>M</td>\n",
              "      <td>41</td>\n",
              "    </tr>\n",
              "    <tr>\n",
              "      <th>1</th>\n",
              "      <td>1</td>\n",
              "      <td>1</td>\n",
              "      <td>33.3</td>\n",
              "      <td>2</td>\n",
              "      <td>3242</td>\n",
              "      <td>99</td>\n",
              "      <td>9999</td>\n",
              "      <td>2</td>\n",
              "      <td>1</td>\n",
              "      <td>1704</td>\n",
              "      <td>2</td>\n",
              "      <td>2018</td>\n",
              "      <td>185</td>\n",
              "      <td>35</td>\n",
              "      <td>4</td>\n",
              "      <td>0</td>\n",
              "      <td>3</td>\n",
              "      <td>3</td>\n",
              "      <td>3</td>\n",
              "      <td>180</td>\n",
              "      <td>888</td>\n",
              "      <td>180</td>\n",
              "      <td></td>\n",
              "      <td>N</td>\n",
              "      <td>N</td>\n",
              "      <td>35</td>\n",
              "      <td></td>\n",
              "      <td></td>\n",
              "      <td>1</td>\n",
              "      <td>9</td>\n",
              "      <td>0</td>\n",
              "      <td>N</td>\n",
              "      <td>3</td>\n",
              "      <td>3</td>\n",
              "      <td></td>\n",
              "      <td>3</td>\n",
              "      <td>N</td>\n",
              "      <td>63</td>\n",
              "      <td>1</td>\n",
              "      <td>1</td>\n",
              "      <td>0</td>\n",
              "      <td>1</td>\n",
              "      <td>1</td>\n",
              "      <td>3</td>\n",
              "      <td>9</td>\n",
              "      <td>0</td>\n",
              "      <td>2</td>\n",
              "      <td>0</td>\n",
              "      <td>188</td>\n",
              "      <td>4</td>\n",
              "      <td>2</td>\n",
              "      <td>Y</td>\n",
              "      <td>2</td>\n",
              "      <td>F</td>\n",
              "      <td>0</td>\n",
              "    </tr>\n",
              "    <tr>\n",
              "      <th>2</th>\n",
              "      <td>1</td>\n",
              "      <td>1</td>\n",
              "      <td>30.0</td>\n",
              "      <td>0</td>\n",
              "      <td>3470</td>\n",
              "      <td>4</td>\n",
              "      <td>2017</td>\n",
              "      <td>1</td>\n",
              "      <td>1</td>\n",
              "      <td>336</td>\n",
              "      <td>2</td>\n",
              "      <td>2018</td>\n",
              "      <td>273</td>\n",
              "      <td>31</td>\n",
              "      <td>4</td>\n",
              "      <td>0</td>\n",
              "      <td>1</td>\n",
              "      <td>1</td>\n",
              "      <td>1</td>\n",
              "      <td>999</td>\n",
              "      <td>888</td>\n",
              "      <td>999</td>\n",
              "      <td></td>\n",
              "      <td>N</td>\n",
              "      <td>N</td>\n",
              "      <td>28</td>\n",
              "      <td></td>\n",
              "      <td></td>\n",
              "      <td>1</td>\n",
              "      <td>6</td>\n",
              "      <td>0</td>\n",
              "      <td>N</td>\n",
              "      <td>1</td>\n",
              "      <td>1</td>\n",
              "      <td></td>\n",
              "      <td>1</td>\n",
              "      <td>N</td>\n",
              "      <td>71</td>\n",
              "      <td>1</td>\n",
              "      <td>1</td>\n",
              "      <td>0</td>\n",
              "      <td>5</td>\n",
              "      <td>4</td>\n",
              "      <td>5</td>\n",
              "      <td>17</td>\n",
              "      <td>0</td>\n",
              "      <td>1</td>\n",
              "      <td>0</td>\n",
              "      <td>215</td>\n",
              "      <td>1</td>\n",
              "      <td>1</td>\n",
              "      <td>N</td>\n",
              "      <td>0</td>\n",
              "      <td>M</td>\n",
              "      <td>58</td>\n",
              "    </tr>\n",
              "    <tr>\n",
              "      <th>3</th>\n",
              "      <td>3</td>\n",
              "      <td>1</td>\n",
              "      <td>23.7</td>\n",
              "      <td>0</td>\n",
              "      <td>3140</td>\n",
              "      <td>5</td>\n",
              "      <td>2017</td>\n",
              "      <td>2</td>\n",
              "      <td>1</td>\n",
              "      <td>938</td>\n",
              "      <td>2</td>\n",
              "      <td>2018</td>\n",
              "      <td>138</td>\n",
              "      <td>26</td>\n",
              "      <td>2</td>\n",
              "      <td>0</td>\n",
              "      <td>3</td>\n",
              "      <td>3</td>\n",
              "      <td>3</td>\n",
              "      <td>43</td>\n",
              "      <td>888</td>\n",
              "      <td>43</td>\n",
              "      <td></td>\n",
              "      <td>N</td>\n",
              "      <td>N</td>\n",
              "      <td>23</td>\n",
              "      <td></td>\n",
              "      <td></td>\n",
              "      <td>1</td>\n",
              "      <td>2</td>\n",
              "      <td>0</td>\n",
              "      <td>N</td>\n",
              "      <td>3</td>\n",
              "      <td>3</td>\n",
              "      <td></td>\n",
              "      <td>3</td>\n",
              "      <td>N</td>\n",
              "      <td>64</td>\n",
              "      <td>1</td>\n",
              "      <td>1</td>\n",
              "      <td>1</td>\n",
              "      <td>1</td>\n",
              "      <td>1</td>\n",
              "      <td>5</td>\n",
              "      <td>6</td>\n",
              "      <td>0</td>\n",
              "      <td>2</td>\n",
              "      <td>0</td>\n",
              "      <td>138</td>\n",
              "      <td>1</td>\n",
              "      <td>2</td>\n",
              "      <td>N</td>\n",
              "      <td>0</td>\n",
              "      <td>F</td>\n",
              "      <td>0</td>\n",
              "    </tr>\n",
              "    <tr>\n",
              "      <th>4</th>\n",
              "      <td>1</td>\n",
              "      <td>1</td>\n",
              "      <td>35.5</td>\n",
              "      <td>0</td>\n",
              "      <td>2125</td>\n",
              "      <td>99</td>\n",
              "      <td>9999</td>\n",
              "      <td>1</td>\n",
              "      <td>1</td>\n",
              "      <td>830</td>\n",
              "      <td>3</td>\n",
              "      <td>2018</td>\n",
              "      <td>219</td>\n",
              "      <td>35</td>\n",
              "      <td>3</td>\n",
              "      <td>0</td>\n",
              "      <td>2</td>\n",
              "      <td>2</td>\n",
              "      <td>2</td>\n",
              "      <td>999</td>\n",
              "      <td>999</td>\n",
              "      <td>999</td>\n",
              "      <td></td>\n",
              "      <td>N</td>\n",
              "      <td>N</td>\n",
              "      <td>37</td>\n",
              "      <td></td>\n",
              "      <td></td>\n",
              "      <td>1</td>\n",
              "      <td>4</td>\n",
              "      <td>0</td>\n",
              "      <td>N</td>\n",
              "      <td>1</td>\n",
              "      <td>1</td>\n",
              "      <td></td>\n",
              "      <td>1</td>\n",
              "      <td>N</td>\n",
              "      <td>66</td>\n",
              "      <td>1</td>\n",
              "      <td>1</td>\n",
              "      <td>1</td>\n",
              "      <td>1</td>\n",
              "      <td>1</td>\n",
              "      <td>5</td>\n",
              "      <td>15</td>\n",
              "      <td>0</td>\n",
              "      <td>1</td>\n",
              "      <td>4</td>\n",
              "      <td>220</td>\n",
              "      <td>3</td>\n",
              "      <td>1</td>\n",
              "      <td>N</td>\n",
              "      <td>0</td>\n",
              "      <td>M</td>\n",
              "      <td>0</td>\n",
              "    </tr>\n",
              "    <tr>\n",
              "      <th>...</th>\n",
              "      <td>...</td>\n",
              "      <td>...</td>\n",
              "      <td>...</td>\n",
              "      <td>...</td>\n",
              "      <td>...</td>\n",
              "      <td>...</td>\n",
              "      <td>...</td>\n",
              "      <td>...</td>\n",
              "      <td>...</td>\n",
              "      <td>...</td>\n",
              "      <td>...</td>\n",
              "      <td>...</td>\n",
              "      <td>...</td>\n",
              "      <td>...</td>\n",
              "      <td>...</td>\n",
              "      <td>...</td>\n",
              "      <td>...</td>\n",
              "      <td>...</td>\n",
              "      <td>...</td>\n",
              "      <td>...</td>\n",
              "      <td>...</td>\n",
              "      <td>...</td>\n",
              "      <td>...</td>\n",
              "      <td>...</td>\n",
              "      <td>...</td>\n",
              "      <td>...</td>\n",
              "      <td>...</td>\n",
              "      <td>...</td>\n",
              "      <td>...</td>\n",
              "      <td>...</td>\n",
              "      <td>...</td>\n",
              "      <td>...</td>\n",
              "      <td>...</td>\n",
              "      <td>...</td>\n",
              "      <td>...</td>\n",
              "      <td>...</td>\n",
              "      <td>...</td>\n",
              "      <td>...</td>\n",
              "      <td>...</td>\n",
              "      <td>...</td>\n",
              "      <td>...</td>\n",
              "      <td>...</td>\n",
              "      <td>...</td>\n",
              "      <td>...</td>\n",
              "      <td>...</td>\n",
              "      <td>...</td>\n",
              "      <td>...</td>\n",
              "      <td>...</td>\n",
              "      <td>...</td>\n",
              "      <td>...</td>\n",
              "      <td>...</td>\n",
              "      <td>...</td>\n",
              "      <td>...</td>\n",
              "      <td>...</td>\n",
              "      <td>...</td>\n",
              "    </tr>\n",
              "    <tr>\n",
              "      <th>3801529</th>\n",
              "      <td>1</td>\n",
              "      <td>1</td>\n",
              "      <td>26.3</td>\n",
              "      <td>0</td>\n",
              "      <td>2140</td>\n",
              "      <td>4</td>\n",
              "      <td>2018</td>\n",
              "      <td>2</td>\n",
              "      <td>12</td>\n",
              "      <td>1531</td>\n",
              "      <td>2</td>\n",
              "      <td>2018</td>\n",
              "      <td>215</td>\n",
              "      <td>31</td>\n",
              "      <td>3</td>\n",
              "      <td>2</td>\n",
              "      <td>1</td>\n",
              "      <td>1</td>\n",
              "      <td>1</td>\n",
              "      <td>999</td>\n",
              "      <td>888</td>\n",
              "      <td>999</td>\n",
              "      <td></td>\n",
              "      <td>N</td>\n",
              "      <td>N</td>\n",
              "      <td>32</td>\n",
              "      <td></td>\n",
              "      <td></td>\n",
              "      <td>1</td>\n",
              "      <td>3</td>\n",
              "      <td>0</td>\n",
              "      <td>N</td>\n",
              "      <td>2</td>\n",
              "      <td>2</td>\n",
              "      <td></td>\n",
              "      <td>2</td>\n",
              "      <td>N</td>\n",
              "      <td>67</td>\n",
              "      <td>1</td>\n",
              "      <td>1</td>\n",
              "      <td>0</td>\n",
              "      <td>1</td>\n",
              "      <td>1</td>\n",
              "      <td>3</td>\n",
              "      <td>10</td>\n",
              "      <td>0</td>\n",
              "      <td>1</td>\n",
              "      <td>0</td>\n",
              "      <td>168</td>\n",
              "      <td>4</td>\n",
              "      <td>1</td>\n",
              "      <td>Y</td>\n",
              "      <td>1</td>\n",
              "      <td>M</td>\n",
              "      <td>47</td>\n",
              "    </tr>\n",
              "    <tr>\n",
              "      <th>3801530</th>\n",
              "      <td>1</td>\n",
              "      <td>1</td>\n",
              "      <td>32.4</td>\n",
              "      <td>0</td>\n",
              "      <td>3560</td>\n",
              "      <td>3</td>\n",
              "      <td>2018</td>\n",
              "      <td>2</td>\n",
              "      <td>12</td>\n",
              "      <td>2347</td>\n",
              "      <td>2</td>\n",
              "      <td>2018</td>\n",
              "      <td>205</td>\n",
              "      <td>31</td>\n",
              "      <td>2</td>\n",
              "      <td>4</td>\n",
              "      <td>1</td>\n",
              "      <td>1</td>\n",
              "      <td>1</td>\n",
              "      <td>43</td>\n",
              "      <td>999</td>\n",
              "      <td>999</td>\n",
              "      <td></td>\n",
              "      <td>N</td>\n",
              "      <td>N</td>\n",
              "      <td>23</td>\n",
              "      <td></td>\n",
              "      <td></td>\n",
              "      <td>2</td>\n",
              "      <td>2</td>\n",
              "      <td>4</td>\n",
              "      <td>N</td>\n",
              "      <td>1</td>\n",
              "      <td>1</td>\n",
              "      <td></td>\n",
              "      <td>1</td>\n",
              "      <td>N</td>\n",
              "      <td>65</td>\n",
              "      <td>1</td>\n",
              "      <td>1</td>\n",
              "      <td>1</td>\n",
              "      <td>1</td>\n",
              "      <td>1</td>\n",
              "      <td>2</td>\n",
              "      <td>13</td>\n",
              "      <td>0</td>\n",
              "      <td>2</td>\n",
              "      <td>1</td>\n",
              "      <td>195</td>\n",
              "      <td>1</td>\n",
              "      <td>1</td>\n",
              "      <td>N</td>\n",
              "      <td>0</td>\n",
              "      <td>M</td>\n",
              "      <td>10</td>\n",
              "    </tr>\n",
              "    <tr>\n",
              "      <th>3801531</th>\n",
              "      <td>5</td>\n",
              "      <td>7</td>\n",
              "      <td>27.6</td>\n",
              "      <td>0</td>\n",
              "      <td>3367</td>\n",
              "      <td>3</td>\n",
              "      <td>2018</td>\n",
              "      <td>2</td>\n",
              "      <td>11</td>\n",
              "      <td>1354</td>\n",
              "      <td>2</td>\n",
              "      <td>2018</td>\n",
              "      <td>178</td>\n",
              "      <td>45</td>\n",
              "      <td>3</td>\n",
              "      <td>0</td>\n",
              "      <td>5</td>\n",
              "      <td>4</td>\n",
              "      <td>4</td>\n",
              "      <td>999</td>\n",
              "      <td>999</td>\n",
              "      <td>999</td>\n",
              "      <td></td>\n",
              "      <td>N</td>\n",
              "      <td>N</td>\n",
              "      <td>35</td>\n",
              "      <td></td>\n",
              "      <td></td>\n",
              "      <td>2</td>\n",
              "      <td>3</td>\n",
              "      <td>0</td>\n",
              "      <td>N</td>\n",
              "      <td>5</td>\n",
              "      <td>4</td>\n",
              "      <td></td>\n",
              "      <td>4</td>\n",
              "      <td>N</td>\n",
              "      <td>63</td>\n",
              "      <td>1</td>\n",
              "      <td>1</td>\n",
              "      <td>1</td>\n",
              "      <td>1</td>\n",
              "      <td>1</td>\n",
              "      <td>2</td>\n",
              "      <td>11</td>\n",
              "      <td>0</td>\n",
              "      <td>5</td>\n",
              "      <td>1</td>\n",
              "      <td>156</td>\n",
              "      <td>1</td>\n",
              "      <td>1</td>\n",
              "      <td>N</td>\n",
              "      <td>0</td>\n",
              "      <td>F</td>\n",
              "      <td>22</td>\n",
              "    </tr>\n",
              "    <tr>\n",
              "      <th>3801532</th>\n",
              "      <td>5</td>\n",
              "      <td>4</td>\n",
              "      <td>99.9</td>\n",
              "      <td>98</td>\n",
              "      <td>320</td>\n",
              "      <td>3</td>\n",
              "      <td>2018</td>\n",
              "      <td>2</td>\n",
              "      <td>8</td>\n",
              "      <td>859</td>\n",
              "      <td>2</td>\n",
              "      <td>2018</td>\n",
              "      <td>999</td>\n",
              "      <td>99</td>\n",
              "      <td>9</td>\n",
              "      <td>9</td>\n",
              "      <td>99</td>\n",
              "      <td>99</td>\n",
              "      <td>9</td>\n",
              "      <td>888</td>\n",
              "      <td>888</td>\n",
              "      <td>888</td>\n",
              "      <td></td>\n",
              "      <td>U</td>\n",
              "      <td>U</td>\n",
              "      <td>36</td>\n",
              "      <td></td>\n",
              "      <td></td>\n",
              "      <td>3</td>\n",
              "      <td>9</td>\n",
              "      <td>2</td>\n",
              "      <td>U</td>\n",
              "      <td>1</td>\n",
              "      <td>1</td>\n",
              "      <td></td>\n",
              "      <td>1</td>\n",
              "      <td>N</td>\n",
              "      <td>99</td>\n",
              "      <td>9</td>\n",
              "      <td>9</td>\n",
              "      <td>9</td>\n",
              "      <td>1</td>\n",
              "      <td>1</td>\n",
              "      <td>0</td>\n",
              "      <td>0</td>\n",
              "      <td>0</td>\n",
              "      <td>0</td>\n",
              "      <td>0</td>\n",
              "      <td>999</td>\n",
              "      <td>5</td>\n",
              "      <td>1</td>\n",
              "      <td>U</td>\n",
              "      <td>99</td>\n",
              "      <td>M</td>\n",
              "      <td>99</td>\n",
              "    </tr>\n",
              "    <tr>\n",
              "      <th>3801533</th>\n",
              "      <td>1</td>\n",
              "      <td>1</td>\n",
              "      <td>42.1</td>\n",
              "      <td>0</td>\n",
              "      <td>2455</td>\n",
              "      <td>2</td>\n",
              "      <td>2018</td>\n",
              "      <td>1</td>\n",
              "      <td>11</td>\n",
              "      <td>1018</td>\n",
              "      <td>7</td>\n",
              "      <td>2018</td>\n",
              "      <td>302</td>\n",
              "      <td>30</td>\n",
              "      <td>3</td>\n",
              "      <td>0</td>\n",
              "      <td>2</td>\n",
              "      <td>2</td>\n",
              "      <td>2</td>\n",
              "      <td>888</td>\n",
              "      <td>888</td>\n",
              "      <td>888</td>\n",
              "      <td></td>\n",
              "      <td>N</td>\n",
              "      <td>N</td>\n",
              "      <td>30</td>\n",
              "      <td></td>\n",
              "      <td></td>\n",
              "      <td>1</td>\n",
              "      <td>5</td>\n",
              "      <td>6</td>\n",
              "      <td>N</td>\n",
              "      <td>2</td>\n",
              "      <td>2</td>\n",
              "      <td></td>\n",
              "      <td>2</td>\n",
              "      <td>N</td>\n",
              "      <td>62</td>\n",
              "      <td>1</td>\n",
              "      <td>1</td>\n",
              "      <td>1</td>\n",
              "      <td>2</td>\n",
              "      <td>2</td>\n",
              "      <td>2</td>\n",
              "      <td>8</td>\n",
              "      <td>0</td>\n",
              "      <td>0</td>\n",
              "      <td>0</td>\n",
              "      <td>230</td>\n",
              "      <td>1</td>\n",
              "      <td>2</td>\n",
              "      <td>N</td>\n",
              "      <td>0</td>\n",
              "      <td>F</td>\n",
              "      <td>72</td>\n",
              "    </tr>\n",
              "  </tbody>\n",
              "</table>\n",
              "<p>3801534 rows × 55 columns</p>\n",
              "</div>"
            ],
            "text/plain": [
              "         ATTEND  BFACIL   BMI  CIG_0  ...  RF_CESAR  RF_CESARN  SEX WTGAIN\n",
              "0             1       1  30.7      0  ...         N          0    M     41\n",
              "1             1       1  33.3      2  ...         Y          2    F      0\n",
              "2             1       1  30.0      0  ...         N          0    M     58\n",
              "3             3       1  23.7      0  ...         N          0    F      0\n",
              "4             1       1  35.5      0  ...         N          0    M      0\n",
              "...         ...     ...   ...    ...  ...       ...        ...  ...    ...\n",
              "3801529       1       1  26.3      0  ...         Y          1    M     47\n",
              "3801530       1       1  32.4      0  ...         N          0    M     10\n",
              "3801531       5       7  27.6      0  ...         N          0    F     22\n",
              "3801532       5       4  99.9     98  ...         U         99    M     99\n",
              "3801533       1       1  42.1      0  ...         N          0    F     72\n",
              "\n",
              "[3801534 rows x 55 columns]"
            ]
          },
          "metadata": {
            "tags": []
          },
          "execution_count": 4
        }
      ]
    },
    {
      "cell_type": "code",
      "metadata": {
        "colab": {
          "base_uri": "https://localhost:8080/"
        },
        "id": "WnRc0xey0MHw",
        "outputId": "de722666-8b2a-47a6-a425-00fa3d1e5e7e"
      },
      "source": [
        "df.info()"
      ],
      "execution_count": null,
      "outputs": [
        {
          "output_type": "stream",
          "text": [
            "<class 'pandas.core.frame.DataFrame'>\n",
            "RangeIndex: 3801534 entries, 0 to 3801533\n",
            "Data columns (total 55 columns):\n",
            " #   Column       Dtype  \n",
            "---  ------       -----  \n",
            " 0   ATTEND       int64  \n",
            " 1   BFACIL       int64  \n",
            " 2   BMI          float64\n",
            " 3   CIG_0        int64  \n",
            " 4   DBWT         int64  \n",
            " 5   DLMP_MM      int64  \n",
            " 6   DLMP_YY      int64  \n",
            " 7   DMAR         object \n",
            " 8   DOB_MM       int64  \n",
            " 9   DOB_TT       int64  \n",
            " 10  DOB_WK       int64  \n",
            " 11  DOB_YY       int64  \n",
            " 12  DWgt_R       int64  \n",
            " 13  FAGECOMB     int64  \n",
            " 14  FEDUC        int64  \n",
            " 15  FHISPX       int64  \n",
            " 16  FRACE15      int64  \n",
            " 17  FRACE31      int64  \n",
            " 18  FRACE6       int64  \n",
            " 19  ILLB_R       int64  \n",
            " 20  ILOP_R       int64  \n",
            " 21  ILP_R        int64  \n",
            " 22  IMP_SEX      object \n",
            " 23  IP_GON       object \n",
            " 24  LD_INDL      object \n",
            " 25  MAGER        int64  \n",
            " 26  MAGE_IMPFLG  object \n",
            " 27  MAR_IMP      object \n",
            " 28  MBSTATE_REC  int64  \n",
            " 29  MEDUC        int64  \n",
            " 30  MHISPX       int64  \n",
            " 31  MM_AICU      object \n",
            " 32  MRACE15      int64  \n",
            " 33  MRACE31      int64  \n",
            " 34  MRACEIMP     object \n",
            " 35  MRAVE6       int64  \n",
            " 36  MTRAN        object \n",
            " 37  M_Ht_In      int64  \n",
            " 38  NO_INFEC     int64  \n",
            " 39  NO_MMORB     int64  \n",
            " 40  NO_RISKS     int64  \n",
            " 41  PAY          int64  \n",
            " 42  PAY_REC      int64  \n",
            " 43  PRECARE      int64  \n",
            " 44  PREVIS       int64  \n",
            " 45  PRIORDEAD    int64  \n",
            " 46  PRIORLIVE    int64  \n",
            " 47  PRIORTERM    int64  \n",
            " 48  PWgt_R       int64  \n",
            " 49  RDMETH_REC   int64  \n",
            " 50  RESTATUS     int64  \n",
            " 51  RF_CESAR     object \n",
            " 52  RF_CESARN    int64  \n",
            " 53  SEX          object \n",
            " 54  WTGAIN       int64  \n",
            "dtypes: float64(1), int64(43), object(11)\n",
            "memory usage: 1.6+ GB\n"
          ],
          "name": "stdout"
        }
      ]
    },
    {
      "cell_type": "code",
      "metadata": {
        "colab": {
          "base_uri": "https://localhost:8080/"
        },
        "id": "jJm5oW0U5PZJ",
        "outputId": "8a4bc6e1-b286-4eee-8b74-dc6f16bc0d86"
      },
      "source": [
        "df.DMAR.unique()"
      ],
      "execution_count": null,
      "outputs": [
        {
          "output_type": "execute_result",
          "data": {
            "text/plain": [
              "array([1, 2, '2', '1', ' '], dtype=object)"
            ]
          },
          "metadata": {
            "tags": []
          },
          "execution_count": 6
        }
      ]
    },
    {
      "cell_type": "code",
      "metadata": {
        "colab": {
          "base_uri": "https://localhost:8080/"
        },
        "id": "End8vg3a0S43",
        "outputId": "d6afc149-1219-484d-d3e9-e678d14da152"
      },
      "source": [
        "df.nunique()"
      ],
      "execution_count": null,
      "outputs": [
        {
          "output_type": "execute_result",
          "data": {
            "text/plain": [
              "ATTEND            6\n",
              "BFACIL            8\n",
              "BMI             567\n",
              "CIG_0            73\n",
              "DBWT           5357\n",
              "DLMP_MM          13\n",
              "DLMP_YY           4\n",
              "DMAR              5\n",
              "DOB_MM           12\n",
              "DOB_TT         1441\n",
              "DOB_WK            7\n",
              "DOB_YY            1\n",
              "DWgt_R          302\n",
              "FAGECOMB         80\n",
              "FEDUC             9\n",
              "FHISPX            8\n",
              "FRACE15          16\n",
              "FRACE31          32\n",
              "FRACE6            7\n",
              "ILLB_R          300\n",
              "ILOP_R          300\n",
              "ILP_R           300\n",
              "IMP_SEX           2\n",
              "IP_GON            3\n",
              "LD_INDL           3\n",
              "MAGER            39\n",
              "MAGE_IMPFLG       2\n",
              "MAR_IMP           2\n",
              "MBSTATE_REC       3\n",
              "MEDUC             9\n",
              "MHISPX            8\n",
              "MM_AICU           3\n",
              "MRACE15          15\n",
              "MRACE31          31\n",
              "MRACEIMP          2\n",
              "MRAVE6            6\n",
              "MTRAN             3\n",
              "M_Ht_In          48\n",
              "NO_INFEC          3\n",
              "NO_MMORB          3\n",
              "NO_RISKS          3\n",
              "PAY               8\n",
              "PAY_REC           5\n",
              "PRECARE          12\n",
              "PREVIS           85\n",
              "PRIORDEAD        15\n",
              "PRIORLIVE        20\n",
              "PRIORTERM        30\n",
              "PWgt_R          302\n",
              "RDMETH_REC        7\n",
              "RESTATUS          4\n",
              "RF_CESAR          3\n",
              "RF_CESARN        13\n",
              "SEX               2\n",
              "WTGAIN          100\n",
              "dtype: int64"
            ]
          },
          "metadata": {
            "tags": []
          },
          "execution_count": 7
        }
      ]
    },
    {
      "cell_type": "code",
      "metadata": {
        "colab": {
          "base_uri": "https://localhost:8080/"
        },
        "id": "YID70KXN02vY",
        "outputId": "3e53ae12-556a-4b43-a3a6-98f9ba63d694"
      },
      "source": [
        "df.isnull().sum()"
      ],
      "execution_count": null,
      "outputs": [
        {
          "output_type": "execute_result",
          "data": {
            "text/plain": [
              "ATTEND         0\n",
              "BFACIL         0\n",
              "BMI            0\n",
              "CIG_0          0\n",
              "DBWT           0\n",
              "DLMP_MM        0\n",
              "DLMP_YY        0\n",
              "DMAR           0\n",
              "DOB_MM         0\n",
              "DOB_TT         0\n",
              "DOB_WK         0\n",
              "DOB_YY         0\n",
              "DWgt_R         0\n",
              "FAGECOMB       0\n",
              "FEDUC          0\n",
              "FHISPX         0\n",
              "FRACE15        0\n",
              "FRACE31        0\n",
              "FRACE6         0\n",
              "ILLB_R         0\n",
              "ILOP_R         0\n",
              "ILP_R          0\n",
              "IMP_SEX        0\n",
              "IP_GON         0\n",
              "LD_INDL        0\n",
              "MAGER          0\n",
              "MAGE_IMPFLG    0\n",
              "MAR_IMP        0\n",
              "MBSTATE_REC    0\n",
              "MEDUC          0\n",
              "MHISPX         0\n",
              "MM_AICU        0\n",
              "MRACE15        0\n",
              "MRACE31        0\n",
              "MRACEIMP       0\n",
              "MRAVE6         0\n",
              "MTRAN          0\n",
              "M_Ht_In        0\n",
              "NO_INFEC       0\n",
              "NO_MMORB       0\n",
              "NO_RISKS       0\n",
              "PAY            0\n",
              "PAY_REC        0\n",
              "PRECARE        0\n",
              "PREVIS         0\n",
              "PRIORDEAD      0\n",
              "PRIORLIVE      0\n",
              "PRIORTERM      0\n",
              "PWgt_R         0\n",
              "RDMETH_REC     0\n",
              "RESTATUS       0\n",
              "RF_CESAR       0\n",
              "RF_CESARN      0\n",
              "SEX            0\n",
              "WTGAIN         0\n",
              "dtype: int64"
            ]
          },
          "metadata": {
            "tags": []
          },
          "execution_count": 8
        }
      ]
    },
    {
      "cell_type": "code",
      "metadata": {
        "id": "Z3l4q_ed1BXI"
      },
      "source": [
        "#df[df['xxxx'].isnull()]"
      ],
      "execution_count": null,
      "outputs": []
    },
    {
      "cell_type": "markdown",
      "metadata": {
        "id": "E9Dwgpjm896p"
      },
      "source": [
        "##Drop Data"
      ]
    },
    {
      "cell_type": "code",
      "metadata": {
        "id": "HrtKbLuQ1QIv"
      },
      "source": [
        "#not required features\n",
        "df = df.drop('IMP_SEX', axis = 1)\n",
        "df = df.drop('DOB_WK', axis = 1)\n",
        "df = df.drop('FRACE15', axis = 1)\n",
        "df = df.drop('FRACE31', axis = 1)\n",
        "df = df.drop('MAGE_IMPFLG', axis = 1)\n",
        "df = df.drop('MAR_IMP', axis = 1)\n",
        "df = df.drop('MRACEIMP', axis = 1)\n",
        "df = df.drop('DWgt_R', axis = 1)"
      ],
      "execution_count": null,
      "outputs": []
    },
    {
      "cell_type": "code",
      "metadata": {
        "colab": {
          "base_uri": "https://localhost:8080/"
        },
        "id": "mCLe0zwJ1K9l",
        "outputId": "9aa871e4-ef0d-44ce-e6f0-3ac601f86dad"
      },
      "source": [
        "df.info()"
      ],
      "execution_count": null,
      "outputs": [
        {
          "output_type": "stream",
          "text": [
            "<class 'pandas.core.frame.DataFrame'>\n",
            "RangeIndex: 3801534 entries, 0 to 3801533\n",
            "Data columns (total 47 columns):\n",
            " #   Column       Dtype  \n",
            "---  ------       -----  \n",
            " 0   ATTEND       int64  \n",
            " 1   BFACIL       int64  \n",
            " 2   BMI          float64\n",
            " 3   CIG_0        int64  \n",
            " 4   DBWT         int64  \n",
            " 5   DLMP_MM      int64  \n",
            " 6   DLMP_YY      int64  \n",
            " 7   DMAR         object \n",
            " 8   DOB_MM       int64  \n",
            " 9   DOB_TT       int64  \n",
            " 10  DOB_YY       int64  \n",
            " 11  FAGECOMB     int64  \n",
            " 12  FEDUC        int64  \n",
            " 13  FHISPX       int64  \n",
            " 14  FRACE6       int64  \n",
            " 15  ILLB_R       int64  \n",
            " 16  ILOP_R       int64  \n",
            " 17  ILP_R        int64  \n",
            " 18  IP_GON       object \n",
            " 19  LD_INDL      object \n",
            " 20  MAGER        int64  \n",
            " 21  MBSTATE_REC  int64  \n",
            " 22  MEDUC        int64  \n",
            " 23  MHISPX       int64  \n",
            " 24  MM_AICU      object \n",
            " 25  MRACE15      int64  \n",
            " 26  MRACE31      int64  \n",
            " 27  MRAVE6       int64  \n",
            " 28  MTRAN        object \n",
            " 29  M_Ht_In      int64  \n",
            " 30  NO_INFEC     int64  \n",
            " 31  NO_MMORB     int64  \n",
            " 32  NO_RISKS     int64  \n",
            " 33  PAY          int64  \n",
            " 34  PAY_REC      int64  \n",
            " 35  PRECARE      int64  \n",
            " 36  PREVIS       int64  \n",
            " 37  PRIORDEAD    int64  \n",
            " 38  PRIORLIVE    int64  \n",
            " 39  PRIORTERM    int64  \n",
            " 40  PWgt_R       int64  \n",
            " 41  RDMETH_REC   int64  \n",
            " 42  RESTATUS     int64  \n",
            " 43  RF_CESAR     object \n",
            " 44  RF_CESARN    int64  \n",
            " 45  SEX          object \n",
            " 46  WTGAIN       int64  \n",
            "dtypes: float64(1), int64(39), object(7)\n",
            "memory usage: 1.3+ GB\n"
          ],
          "name": "stdout"
        }
      ]
    },
    {
      "cell_type": "code",
      "metadata": {
        "id": "3YoTv0Hd1Yjf"
      },
      "source": [
        "df['IP_GON'] = df['IP_GON'].replace(['Y','N', 'U'],['2','1','0'])\n",
        "df['IP_GON']  = df['IP_GON'].str.lstrip('$').astype('int')\n",
        "df.drop(df[df['IP_GON'].eq(0)].index, inplace=True)"
      ],
      "execution_count": null,
      "outputs": []
    },
    {
      "cell_type": "code",
      "metadata": {
        "id": "fn7k3JG32cCL"
      },
      "source": [
        "df['LD_INDL'] = df['LD_INDL'].replace(['Y','N', 'U'],['2','1','0'])\n",
        "df['LD_INDL']  = df['LD_INDL'].str.lstrip('$').astype('int')\n",
        "df.drop(df[df['LD_INDL'].eq(0)].index, inplace=True)"
      ],
      "execution_count": null,
      "outputs": []
    },
    {
      "cell_type": "code",
      "metadata": {
        "id": "--VXRd-12v1q"
      },
      "source": [
        "df['MM_AICU'] = df['MM_AICU'].replace(['Y','N', 'U'],['2','1','0'])\n",
        "df['MM_AICU']  = df['MM_AICU'].str.lstrip('$').astype('int')\n",
        "df.drop(df[df['MM_AICU'].eq(0)].index, inplace=True)"
      ],
      "execution_count": null,
      "outputs": []
    },
    {
      "cell_type": "code",
      "metadata": {
        "id": "7lbRA0zv29E6"
      },
      "source": [
        "df['MTRAN'] = df['MTRAN'].replace(['Y','N', 'U'],['2','1','0'])\n",
        "df['MTRAN']  = df['MTRAN'].str.lstrip('$').astype('int')\n",
        "df.drop(df[df['MTRAN'].eq(0)].index, inplace=True)"
      ],
      "execution_count": null,
      "outputs": []
    },
    {
      "cell_type": "code",
      "metadata": {
        "id": "7kg_76rG3Ns8"
      },
      "source": [
        "df['RF_CESAR'] = df['RF_CESAR'].replace(['Y','N', 'U'],['2','1','0'])\n",
        "df['RF_CESAR']  = df['RF_CESAR'].str.lstrip('$').astype('int')\n",
        "df.drop(df[df['RF_CESAR'].eq(0)].index, inplace=True)"
      ],
      "execution_count": null,
      "outputs": []
    },
    {
      "cell_type": "code",
      "metadata": {
        "id": "V8js9vrvxw8I"
      },
      "source": [
        "df.replace(' ', np.nan, inplace=True)"
      ],
      "execution_count": null,
      "outputs": []
    },
    {
      "cell_type": "code",
      "metadata": {
        "colab": {
          "base_uri": "https://localhost:8080/"
        },
        "id": "A_G6Gp_n-Dym",
        "outputId": "c946852b-01c6-4d89-cb22-e77e57753792"
      },
      "source": [
        "#drop rows whose values are unknown and the feature is important for a classifier.\n",
        "df['DBWT']=df['DBWT'].fillna(9999)\n",
        "df.drop(df[df['DBWT'].eq(9999)].index, inplace=True)\n",
        "df['BMI']=df['BMI'].fillna(99.9) \n",
        "df.drop(df[df['BMI'].eq(99.9)].index, inplace=True)\n",
        "df['WTGAIN']=df['WTGAIN'].fillna(99)\n",
        "df.drop(df[df['WTGAIN'].eq(99)].index, inplace=True)\n",
        "df['PWgt_R']=df['PWgt_R'].fillna(999)\n",
        "df.drop(df[df['PWgt_R'].eq(999)].index, inplace=True)\n",
        "df['DLMP_MM']=df['DLMP_MM'].fillna(99)\n",
        "df.drop(df[df['DLMP_MM'].eq(99)].index, inplace=True)\n",
        "df['DLMP_YY']=df['DLMP_YY'].fillna(9999)\n",
        "df.drop(df[df['DLMP_YY'].eq(9999)].index, inplace=True)\n",
        "df.shape"
      ],
      "execution_count": null,
      "outputs": [
        {
          "output_type": "execute_result",
          "data": {
            "text/plain": [
              "(3509203, 47)"
            ]
          },
          "metadata": {
            "tags": []
          },
          "execution_count": 18
        }
      ]
    },
    {
      "cell_type": "code",
      "metadata": {
        "colab": {
          "base_uri": "https://localhost:8080/"
        },
        "id": "N3MGxVou0mMh",
        "outputId": "4fee4e93-640d-457b-d725-1c2dc4c8d56d"
      },
      "source": [
        "df.shape"
      ],
      "execution_count": null,
      "outputs": [
        {
          "output_type": "execute_result",
          "data": {
            "text/plain": [
              "(3509203, 47)"
            ]
          },
          "metadata": {
            "tags": []
          },
          "execution_count": 19
        }
      ]
    },
    {
      "cell_type": "code",
      "metadata": {
        "colab": {
          "base_uri": "https://localhost:8080/"
        },
        "id": "Si-WoaX1x9eE",
        "outputId": "c3990431-489d-4ce0-90d3-94df4c0fd59e"
      },
      "source": [
        "df.WTGAIN.unique()"
      ],
      "execution_count": null,
      "outputs": [
        {
          "output_type": "execute_result",
          "data": {
            "text/plain": [
              "array([41, 58,  0, 47, 10, 29, 20, 30, 56, 50, 26, 28, 34, 23, 48, 33, 18,\n",
              "       40, 45, 44, 14, 22, 46, 25, 27, 31, 19, 43, 32, 37, 11, 15, 39, 17,\n",
              "       61, 60, 64, 24,  4, 53, 35, 16, 12,  8, 13,  6, 62, 42, 36, 68,  3,\n",
              "       54, 72, 83, 78, 92, 49, 52, 66, 38,  1, 98, 51, 74,  7, 89,  9, 21,\n",
              "       69, 59, 65,  2, 63, 57, 77, 67, 70, 85, 71,  5, 75, 73, 88, 81, 55,\n",
              "       79, 84, 86, 90, 97, 76, 80, 82, 91, 96, 94, 95, 87, 93])"
            ]
          },
          "metadata": {
            "tags": []
          },
          "execution_count": 20
        }
      ]
    },
    {
      "cell_type": "code",
      "metadata": {
        "id": "NNgR28Iaqyux"
      },
      "source": [
        "#dropping because of huge dataset\n",
        "df['CIG_0']=df['CIG_0'].fillna(99)\n",
        "df.drop(df[df['CIG_0'].eq(99)].index, inplace=True)\n",
        "df['DLMP_MM']=df['DLMP_MM'].fillna(99)  \n",
        "df.drop(df[df['DLMP_MM'].eq(99)].index, inplace=True)\n",
        "df['DLMP_YY']=df['DLMP_YY'].fillna(9999)\n",
        "df.drop(df[df['DLMP_YY'].eq(9999)].index, inplace=True)\n",
        "df['DOB_TT']=df['DOB_TT'].fillna(9999)\n",
        "df.drop(df[df['DOB_TT'].eq(9999)].index, inplace=True)\n",
        "df['FAGECOMB']=df['FAGECOMB'].fillna(99)\n",
        "df.drop(df[df['FAGECOMB'].eq(99)].index, inplace=True)\n",
        "df['ILLB_R']=df['ILLB_R'].fillna(999)\n",
        "df.drop(df[df['ILLB_R'].eq(999)].index, inplace=True)\n",
        "df['ILOP_R']=df['ILOP_R'].fillna(999)\n",
        "df.drop(df[df['ILOP_R'].eq(999)].index, inplace=True)\n",
        "df['ILP_R']=df['ILP_R'].fillna(999)\n",
        "df.drop(df[df['ILP_R'].eq(999)].index, inplace=True)\n",
        "df['ILLB_R']=df['ILLB_R'].fillna(999)\n",
        "df.drop(df[df['ILLB_R'].eq(999)].index, inplace=True)\n",
        "\n",
        "\n",
        "\n"
      ],
      "execution_count": null,
      "outputs": []
    },
    {
      "cell_type": "code",
      "metadata": {
        "colab": {
          "base_uri": "https://localhost:8080/"
        },
        "id": "YHX6W0un4YGy",
        "outputId": "0e8b4915-d485-433c-f57d-8b2951e365e7"
      },
      "source": [
        "df.shape"
      ],
      "execution_count": null,
      "outputs": [
        {
          "output_type": "execute_result",
          "data": {
            "text/plain": [
              "(2774394, 47)"
            ]
          },
          "metadata": {
            "tags": []
          },
          "execution_count": 22
        }
      ]
    },
    {
      "cell_type": "code",
      "metadata": {
        "colab": {
          "base_uri": "https://localhost:8080/"
        },
        "id": "HQHbKrRitGza",
        "outputId": "39946f29-97f5-4d1b-daff-8c3428f47576"
      },
      "source": [
        "df['M_Ht_In']=df['M_Ht_In'].fillna(99)\n",
        "df.drop(df[df['M_Ht_In'].eq(99)].index, inplace=True)\n",
        "df['PRECARE']=df['PRECARE'].fillna(99)\n",
        "df.drop(df[df['PRECARE'].eq(99)].index, inplace=True)\n",
        "df['PREVIS']=df['PREVIS'].fillna(99)\n",
        "df.drop(df[df['PREVIS'].eq(99)].index, inplace=True)\n",
        "df['PRIORDEAD']=df['PRIORDEAD'].fillna(99)\n",
        "df.drop(df[df['PRIORDEAD'].eq(99)].index, inplace=True)\n",
        "df['PRIORLIVE']=df['PRIORLIVE'].fillna(99)\n",
        "df.drop(df[df['PRIORLIVE'].eq(99)].index, inplace=True)\n",
        "df['PRIORTERM']=df['PRIORTERM'].fillna(99)\n",
        "df.drop(df[df['PRIORTERM'].eq(99)].index, inplace=True)\n",
        "df['RF_CESARN']=df['RF_CESARN'].fillna(99)\n",
        "df.drop(df[df['RF_CESARN'].eq(99)].index, inplace=True)\n",
        "df.shape"
      ],
      "execution_count": null,
      "outputs": [
        {
          "output_type": "execute_result",
          "data": {
            "text/plain": [
              "(2728417, 47)"
            ]
          },
          "metadata": {
            "tags": []
          },
          "execution_count": 23
        }
      ]
    },
    {
      "cell_type": "code",
      "metadata": {
        "colab": {
          "base_uri": "https://localhost:8080/"
        },
        "id": "QSI0QOREuGta",
        "outputId": "58932ac8-0cf7-49c1-ded4-95b6d0ac6c82"
      },
      "source": [
        "df['NO_INFEC']=df['NO_INFEC'].fillna(9)\n",
        "df.drop(df[df['NO_INFEC'].eq(9)].index, inplace=True)\n",
        "df['NO_MMORB']=df['NO_MMORB'].fillna(9)\n",
        "df.drop(df[df['NO_MMORB'].eq(9)].index, inplace=True)\n",
        "df['NO_RISKS']=df['NO_RISKS'].fillna(9)\n",
        "df.drop(df[df['NO_RISKS'].eq(9)].index, inplace=True)\n",
        "df['PAY_REC']=df['PAY_REC'].fillna(9)\n",
        "df.drop(df[df['PAY_REC'].eq(9)].index, inplace=True)\n",
        "df['RDMETH_REC']=df['RDMETH_REC'].fillna(9)\n",
        "df.drop(df[df['RDMETH_REC'].eq(9)].index, inplace=True)\n",
        "df['ATTEND']=df['ATTEND'].fillna(9)\n",
        "df.drop(df[df['ATTEND'].eq(9)].index, inplace=True)\n",
        "df['BFACIL']=df['BFACIL'].fillna(9)\n",
        "df.drop(df[df['BFACIL'].eq(9)].index, inplace=True)\n",
        "df['FEDUC']=df['FEDUC'].fillna(9)\n",
        "df.drop(df[df['FEDUC'].eq(9)].index, inplace=True)\n",
        "df['FHISPX']=df['FHISPX'].fillna(9)\n",
        "df.drop(df[df['FHISPX'].eq(9)].index, inplace=True)\n",
        "df.shape\n",
        "\n"
      ],
      "execution_count": null,
      "outputs": [
        {
          "output_type": "execute_result",
          "data": {
            "text/plain": [
              "(2643684, 47)"
            ]
          },
          "metadata": {
            "tags": []
          },
          "execution_count": 24
        }
      ]
    },
    {
      "cell_type": "code",
      "metadata": {
        "colab": {
          "base_uri": "https://localhost:8080/"
        },
        "id": "KoiRO_InAZb7",
        "outputId": "70684ce1-0d11-48eb-ee3b-11f4bda8f255"
      },
      "source": [
        "df"
      ],
      "execution_count": null,
      "outputs": [
        {
          "output_type": "execute_result",
          "data": {
            "text/html": [
              "<div>\n",
              "<style scoped>\n",
              "    .dataframe tbody tr th:only-of-type {\n",
              "        vertical-align: middle;\n",
              "    }\n",
              "\n",
              "    .dataframe tbody tr th {\n",
              "        vertical-align: top;\n",
              "    }\n",
              "\n",
              "    .dataframe thead th {\n",
              "        text-align: right;\n",
              "    }\n",
              "</style>\n",
              "<table border=\"1\" class=\"dataframe\">\n",
              "  <thead>\n",
              "    <tr style=\"text-align: right;\">\n",
              "      <th></th>\n",
              "      <th>ATTEND</th>\n",
              "      <th>BFACIL</th>\n",
              "      <th>BMI</th>\n",
              "      <th>CIG_0</th>\n",
              "      <th>DBWT</th>\n",
              "      <th>DLMP_MM</th>\n",
              "      <th>DLMP_YY</th>\n",
              "      <th>DMAR</th>\n",
              "      <th>DOB_MM</th>\n",
              "      <th>DOB_TT</th>\n",
              "      <th>DOB_YY</th>\n",
              "      <th>FAGECOMB</th>\n",
              "      <th>FEDUC</th>\n",
              "      <th>FHISPX</th>\n",
              "      <th>FRACE6</th>\n",
              "      <th>ILLB_R</th>\n",
              "      <th>ILOP_R</th>\n",
              "      <th>ILP_R</th>\n",
              "      <th>IP_GON</th>\n",
              "      <th>LD_INDL</th>\n",
              "      <th>MAGER</th>\n",
              "      <th>MBSTATE_REC</th>\n",
              "      <th>MEDUC</th>\n",
              "      <th>MHISPX</th>\n",
              "      <th>MM_AICU</th>\n",
              "      <th>MRACE15</th>\n",
              "      <th>MRACE31</th>\n",
              "      <th>MRAVE6</th>\n",
              "      <th>MTRAN</th>\n",
              "      <th>M_Ht_In</th>\n",
              "      <th>NO_INFEC</th>\n",
              "      <th>NO_MMORB</th>\n",
              "      <th>NO_RISKS</th>\n",
              "      <th>PAY</th>\n",
              "      <th>PAY_REC</th>\n",
              "      <th>PRECARE</th>\n",
              "      <th>PREVIS</th>\n",
              "      <th>PRIORDEAD</th>\n",
              "      <th>PRIORLIVE</th>\n",
              "      <th>PRIORTERM</th>\n",
              "      <th>PWgt_R</th>\n",
              "      <th>RDMETH_REC</th>\n",
              "      <th>RESTATUS</th>\n",
              "      <th>RF_CESAR</th>\n",
              "      <th>RF_CESARN</th>\n",
              "      <th>SEX</th>\n",
              "      <th>WTGAIN</th>\n",
              "    </tr>\n",
              "  </thead>\n",
              "  <tbody>\n",
              "    <tr>\n",
              "      <th>0</th>\n",
              "      <td>1</td>\n",
              "      <td>1</td>\n",
              "      <td>30.7</td>\n",
              "      <td>0</td>\n",
              "      <td>3657</td>\n",
              "      <td>4</td>\n",
              "      <td>2017</td>\n",
              "      <td>1</td>\n",
              "      <td>1</td>\n",
              "      <td>1227</td>\n",
              "      <td>2018</td>\n",
              "      <td>31</td>\n",
              "      <td>3</td>\n",
              "      <td>1</td>\n",
              "      <td>1</td>\n",
              "      <td>16</td>\n",
              "      <td>33</td>\n",
              "      <td>16</td>\n",
              "      <td>1</td>\n",
              "      <td>1</td>\n",
              "      <td>30</td>\n",
              "      <td>1</td>\n",
              "      <td>6</td>\n",
              "      <td>0</td>\n",
              "      <td>1</td>\n",
              "      <td>1</td>\n",
              "      <td>1</td>\n",
              "      <td>1</td>\n",
              "      <td>1</td>\n",
              "      <td>66</td>\n",
              "      <td>1</td>\n",
              "      <td>1</td>\n",
              "      <td>1</td>\n",
              "      <td>2</td>\n",
              "      <td>2</td>\n",
              "      <td>3</td>\n",
              "      <td>8</td>\n",
              "      <td>0</td>\n",
              "      <td>1</td>\n",
              "      <td>2</td>\n",
              "      <td>190</td>\n",
              "      <td>1</td>\n",
              "      <td>2</td>\n",
              "      <td>1</td>\n",
              "      <td>0</td>\n",
              "      <td>M</td>\n",
              "      <td>41</td>\n",
              "    </tr>\n",
              "    <tr>\n",
              "      <th>3</th>\n",
              "      <td>3</td>\n",
              "      <td>1</td>\n",
              "      <td>23.7</td>\n",
              "      <td>0</td>\n",
              "      <td>3140</td>\n",
              "      <td>5</td>\n",
              "      <td>2017</td>\n",
              "      <td>2</td>\n",
              "      <td>1</td>\n",
              "      <td>938</td>\n",
              "      <td>2018</td>\n",
              "      <td>26</td>\n",
              "      <td>2</td>\n",
              "      <td>0</td>\n",
              "      <td>3</td>\n",
              "      <td>43</td>\n",
              "      <td>888</td>\n",
              "      <td>43</td>\n",
              "      <td>1</td>\n",
              "      <td>1</td>\n",
              "      <td>23</td>\n",
              "      <td>1</td>\n",
              "      <td>2</td>\n",
              "      <td>0</td>\n",
              "      <td>1</td>\n",
              "      <td>3</td>\n",
              "      <td>3</td>\n",
              "      <td>3</td>\n",
              "      <td>1</td>\n",
              "      <td>64</td>\n",
              "      <td>1</td>\n",
              "      <td>1</td>\n",
              "      <td>1</td>\n",
              "      <td>1</td>\n",
              "      <td>1</td>\n",
              "      <td>5</td>\n",
              "      <td>6</td>\n",
              "      <td>0</td>\n",
              "      <td>2</td>\n",
              "      <td>0</td>\n",
              "      <td>138</td>\n",
              "      <td>1</td>\n",
              "      <td>2</td>\n",
              "      <td>1</td>\n",
              "      <td>0</td>\n",
              "      <td>F</td>\n",
              "      <td>0</td>\n",
              "    </tr>\n",
              "    <tr>\n",
              "      <th>5</th>\n",
              "      <td>4</td>\n",
              "      <td>2</td>\n",
              "      <td>31.3</td>\n",
              "      <td>0</td>\n",
              "      <td>4082</td>\n",
              "      <td>3</td>\n",
              "      <td>2017</td>\n",
              "      <td>1</td>\n",
              "      <td>1</td>\n",
              "      <td>28</td>\n",
              "      <td>2018</td>\n",
              "      <td>28</td>\n",
              "      <td>6</td>\n",
              "      <td>6</td>\n",
              "      <td>1</td>\n",
              "      <td>39</td>\n",
              "      <td>888</td>\n",
              "      <td>39</td>\n",
              "      <td>1</td>\n",
              "      <td>1</td>\n",
              "      <td>26</td>\n",
              "      <td>1</td>\n",
              "      <td>6</td>\n",
              "      <td>0</td>\n",
              "      <td>1</td>\n",
              "      <td>1</td>\n",
              "      <td>1</td>\n",
              "      <td>1</td>\n",
              "      <td>1</td>\n",
              "      <td>67</td>\n",
              "      <td>1</td>\n",
              "      <td>1</td>\n",
              "      <td>1</td>\n",
              "      <td>2</td>\n",
              "      <td>2</td>\n",
              "      <td>2</td>\n",
              "      <td>13</td>\n",
              "      <td>0</td>\n",
              "      <td>1</td>\n",
              "      <td>0</td>\n",
              "      <td>200</td>\n",
              "      <td>1</td>\n",
              "      <td>1</td>\n",
              "      <td>1</td>\n",
              "      <td>0</td>\n",
              "      <td>F</td>\n",
              "      <td>47</td>\n",
              "    </tr>\n",
              "    <tr>\n",
              "      <th>6</th>\n",
              "      <td>1</td>\n",
              "      <td>1</td>\n",
              "      <td>23.0</td>\n",
              "      <td>0</td>\n",
              "      <td>3180</td>\n",
              "      <td>3</td>\n",
              "      <td>2017</td>\n",
              "      <td>1</td>\n",
              "      <td>1</td>\n",
              "      <td>341</td>\n",
              "      <td>2018</td>\n",
              "      <td>25</td>\n",
              "      <td>6</td>\n",
              "      <td>0</td>\n",
              "      <td>1</td>\n",
              "      <td>27</td>\n",
              "      <td>888</td>\n",
              "      <td>27</td>\n",
              "      <td>1</td>\n",
              "      <td>2</td>\n",
              "      <td>28</td>\n",
              "      <td>1</td>\n",
              "      <td>4</td>\n",
              "      <td>0</td>\n",
              "      <td>1</td>\n",
              "      <td>1</td>\n",
              "      <td>1</td>\n",
              "      <td>1</td>\n",
              "      <td>1</td>\n",
              "      <td>70</td>\n",
              "      <td>1</td>\n",
              "      <td>1</td>\n",
              "      <td>1</td>\n",
              "      <td>5</td>\n",
              "      <td>4</td>\n",
              "      <td>3</td>\n",
              "      <td>6</td>\n",
              "      <td>0</td>\n",
              "      <td>2</td>\n",
              "      <td>0</td>\n",
              "      <td>160</td>\n",
              "      <td>1</td>\n",
              "      <td>1</td>\n",
              "      <td>1</td>\n",
              "      <td>0</td>\n",
              "      <td>F</td>\n",
              "      <td>10</td>\n",
              "    </tr>\n",
              "    <tr>\n",
              "      <th>7</th>\n",
              "      <td>1</td>\n",
              "      <td>1</td>\n",
              "      <td>28.2</td>\n",
              "      <td>0</td>\n",
              "      <td>3230</td>\n",
              "      <td>3</td>\n",
              "      <td>2017</td>\n",
              "      <td>1</td>\n",
              "      <td>1</td>\n",
              "      <td>1615</td>\n",
              "      <td>2018</td>\n",
              "      <td>29</td>\n",
              "      <td>7</td>\n",
              "      <td>0</td>\n",
              "      <td>1</td>\n",
              "      <td>888</td>\n",
              "      <td>888</td>\n",
              "      <td>888</td>\n",
              "      <td>1</td>\n",
              "      <td>1</td>\n",
              "      <td>31</td>\n",
              "      <td>1</td>\n",
              "      <td>3</td>\n",
              "      <td>0</td>\n",
              "      <td>1</td>\n",
              "      <td>1</td>\n",
              "      <td>1</td>\n",
              "      <td>1</td>\n",
              "      <td>1</td>\n",
              "      <td>67</td>\n",
              "      <td>1</td>\n",
              "      <td>1</td>\n",
              "      <td>1</td>\n",
              "      <td>2</td>\n",
              "      <td>2</td>\n",
              "      <td>3</td>\n",
              "      <td>18</td>\n",
              "      <td>0</td>\n",
              "      <td>0</td>\n",
              "      <td>0</td>\n",
              "      <td>180</td>\n",
              "      <td>3</td>\n",
              "      <td>1</td>\n",
              "      <td>1</td>\n",
              "      <td>0</td>\n",
              "      <td>F</td>\n",
              "      <td>29</td>\n",
              "    </tr>\n",
              "    <tr>\n",
              "      <th>...</th>\n",
              "      <td>...</td>\n",
              "      <td>...</td>\n",
              "      <td>...</td>\n",
              "      <td>...</td>\n",
              "      <td>...</td>\n",
              "      <td>...</td>\n",
              "      <td>...</td>\n",
              "      <td>...</td>\n",
              "      <td>...</td>\n",
              "      <td>...</td>\n",
              "      <td>...</td>\n",
              "      <td>...</td>\n",
              "      <td>...</td>\n",
              "      <td>...</td>\n",
              "      <td>...</td>\n",
              "      <td>...</td>\n",
              "      <td>...</td>\n",
              "      <td>...</td>\n",
              "      <td>...</td>\n",
              "      <td>...</td>\n",
              "      <td>...</td>\n",
              "      <td>...</td>\n",
              "      <td>...</td>\n",
              "      <td>...</td>\n",
              "      <td>...</td>\n",
              "      <td>...</td>\n",
              "      <td>...</td>\n",
              "      <td>...</td>\n",
              "      <td>...</td>\n",
              "      <td>...</td>\n",
              "      <td>...</td>\n",
              "      <td>...</td>\n",
              "      <td>...</td>\n",
              "      <td>...</td>\n",
              "      <td>...</td>\n",
              "      <td>...</td>\n",
              "      <td>...</td>\n",
              "      <td>...</td>\n",
              "      <td>...</td>\n",
              "      <td>...</td>\n",
              "      <td>...</td>\n",
              "      <td>...</td>\n",
              "      <td>...</td>\n",
              "      <td>...</td>\n",
              "      <td>...</td>\n",
              "      <td>...</td>\n",
              "      <td>...</td>\n",
              "    </tr>\n",
              "    <tr>\n",
              "      <th>3801522</th>\n",
              "      <td>1</td>\n",
              "      <td>1</td>\n",
              "      <td>21.6</td>\n",
              "      <td>0</td>\n",
              "      <td>3290</td>\n",
              "      <td>3</td>\n",
              "      <td>2018</td>\n",
              "      <td>1</td>\n",
              "      <td>12</td>\n",
              "      <td>1108</td>\n",
              "      <td>2018</td>\n",
              "      <td>50</td>\n",
              "      <td>2</td>\n",
              "      <td>0</td>\n",
              "      <td>1</td>\n",
              "      <td>32</td>\n",
              "      <td>888</td>\n",
              "      <td>32</td>\n",
              "      <td>1</td>\n",
              "      <td>1</td>\n",
              "      <td>36</td>\n",
              "      <td>2</td>\n",
              "      <td>2</td>\n",
              "      <td>0</td>\n",
              "      <td>1</td>\n",
              "      <td>1</td>\n",
              "      <td>1</td>\n",
              "      <td>1</td>\n",
              "      <td>1</td>\n",
              "      <td>67</td>\n",
              "      <td>1</td>\n",
              "      <td>1</td>\n",
              "      <td>0</td>\n",
              "      <td>1</td>\n",
              "      <td>1</td>\n",
              "      <td>1</td>\n",
              "      <td>10</td>\n",
              "      <td>0</td>\n",
              "      <td>1</td>\n",
              "      <td>0</td>\n",
              "      <td>138</td>\n",
              "      <td>4</td>\n",
              "      <td>1</td>\n",
              "      <td>2</td>\n",
              "      <td>1</td>\n",
              "      <td>M</td>\n",
              "      <td>36</td>\n",
              "    </tr>\n",
              "    <tr>\n",
              "      <th>3801525</th>\n",
              "      <td>1</td>\n",
              "      <td>1</td>\n",
              "      <td>36.0</td>\n",
              "      <td>0</td>\n",
              "      <td>3310</td>\n",
              "      <td>3</td>\n",
              "      <td>2018</td>\n",
              "      <td>2</td>\n",
              "      <td>12</td>\n",
              "      <td>1357</td>\n",
              "      <td>2018</td>\n",
              "      <td>18</td>\n",
              "      <td>2</td>\n",
              "      <td>1</td>\n",
              "      <td>2</td>\n",
              "      <td>888</td>\n",
              "      <td>888</td>\n",
              "      <td>888</td>\n",
              "      <td>1</td>\n",
              "      <td>1</td>\n",
              "      <td>17</td>\n",
              "      <td>1</td>\n",
              "      <td>2</td>\n",
              "      <td>2</td>\n",
              "      <td>1</td>\n",
              "      <td>2</td>\n",
              "      <td>2</td>\n",
              "      <td>2</td>\n",
              "      <td>1</td>\n",
              "      <td>64</td>\n",
              "      <td>1</td>\n",
              "      <td>1</td>\n",
              "      <td>0</td>\n",
              "      <td>1</td>\n",
              "      <td>1</td>\n",
              "      <td>2</td>\n",
              "      <td>6</td>\n",
              "      <td>0</td>\n",
              "      <td>0</td>\n",
              "      <td>0</td>\n",
              "      <td>210</td>\n",
              "      <td>1</td>\n",
              "      <td>1</td>\n",
              "      <td>1</td>\n",
              "      <td>0</td>\n",
              "      <td>F</td>\n",
              "      <td>47</td>\n",
              "    </tr>\n",
              "    <tr>\n",
              "      <th>3801526</th>\n",
              "      <td>1</td>\n",
              "      <td>1</td>\n",
              "      <td>26.4</td>\n",
              "      <td>0</td>\n",
              "      <td>3180</td>\n",
              "      <td>3</td>\n",
              "      <td>2018</td>\n",
              "      <td>2</td>\n",
              "      <td>12</td>\n",
              "      <td>532</td>\n",
              "      <td>2018</td>\n",
              "      <td>28</td>\n",
              "      <td>3</td>\n",
              "      <td>1</td>\n",
              "      <td>1</td>\n",
              "      <td>888</td>\n",
              "      <td>888</td>\n",
              "      <td>888</td>\n",
              "      <td>1</td>\n",
              "      <td>1</td>\n",
              "      <td>23</td>\n",
              "      <td>1</td>\n",
              "      <td>3</td>\n",
              "      <td>1</td>\n",
              "      <td>1</td>\n",
              "      <td>1</td>\n",
              "      <td>1</td>\n",
              "      <td>1</td>\n",
              "      <td>1</td>\n",
              "      <td>61</td>\n",
              "      <td>1</td>\n",
              "      <td>1</td>\n",
              "      <td>1</td>\n",
              "      <td>1</td>\n",
              "      <td>1</td>\n",
              "      <td>1</td>\n",
              "      <td>10</td>\n",
              "      <td>0</td>\n",
              "      <td>0</td>\n",
              "      <td>0</td>\n",
              "      <td>140</td>\n",
              "      <td>3</td>\n",
              "      <td>1</td>\n",
              "      <td>1</td>\n",
              "      <td>0</td>\n",
              "      <td>F</td>\n",
              "      <td>15</td>\n",
              "    </tr>\n",
              "    <tr>\n",
              "      <th>3801528</th>\n",
              "      <td>1</td>\n",
              "      <td>1</td>\n",
              "      <td>29.4</td>\n",
              "      <td>0</td>\n",
              "      <td>3655</td>\n",
              "      <td>4</td>\n",
              "      <td>2018</td>\n",
              "      <td>2</td>\n",
              "      <td>12</td>\n",
              "      <td>825</td>\n",
              "      <td>2018</td>\n",
              "      <td>39</td>\n",
              "      <td>3</td>\n",
              "      <td>0</td>\n",
              "      <td>2</td>\n",
              "      <td>85</td>\n",
              "      <td>888</td>\n",
              "      <td>85</td>\n",
              "      <td>1</td>\n",
              "      <td>1</td>\n",
              "      <td>33</td>\n",
              "      <td>1</td>\n",
              "      <td>5</td>\n",
              "      <td>0</td>\n",
              "      <td>1</td>\n",
              "      <td>2</td>\n",
              "      <td>2</td>\n",
              "      <td>2</td>\n",
              "      <td>1</td>\n",
              "      <td>66</td>\n",
              "      <td>1</td>\n",
              "      <td>1</td>\n",
              "      <td>0</td>\n",
              "      <td>2</td>\n",
              "      <td>2</td>\n",
              "      <td>3</td>\n",
              "      <td>9</td>\n",
              "      <td>0</td>\n",
              "      <td>3</td>\n",
              "      <td>0</td>\n",
              "      <td>182</td>\n",
              "      <td>4</td>\n",
              "      <td>1</td>\n",
              "      <td>2</td>\n",
              "      <td>3</td>\n",
              "      <td>F</td>\n",
              "      <td>32</td>\n",
              "    </tr>\n",
              "    <tr>\n",
              "      <th>3801533</th>\n",
              "      <td>1</td>\n",
              "      <td>1</td>\n",
              "      <td>42.1</td>\n",
              "      <td>0</td>\n",
              "      <td>2455</td>\n",
              "      <td>2</td>\n",
              "      <td>2018</td>\n",
              "      <td>1</td>\n",
              "      <td>11</td>\n",
              "      <td>1018</td>\n",
              "      <td>2018</td>\n",
              "      <td>30</td>\n",
              "      <td>3</td>\n",
              "      <td>0</td>\n",
              "      <td>2</td>\n",
              "      <td>888</td>\n",
              "      <td>888</td>\n",
              "      <td>888</td>\n",
              "      <td>1</td>\n",
              "      <td>1</td>\n",
              "      <td>30</td>\n",
              "      <td>1</td>\n",
              "      <td>5</td>\n",
              "      <td>6</td>\n",
              "      <td>1</td>\n",
              "      <td>2</td>\n",
              "      <td>2</td>\n",
              "      <td>2</td>\n",
              "      <td>1</td>\n",
              "      <td>62</td>\n",
              "      <td>1</td>\n",
              "      <td>1</td>\n",
              "      <td>1</td>\n",
              "      <td>2</td>\n",
              "      <td>2</td>\n",
              "      <td>2</td>\n",
              "      <td>8</td>\n",
              "      <td>0</td>\n",
              "      <td>0</td>\n",
              "      <td>0</td>\n",
              "      <td>230</td>\n",
              "      <td>1</td>\n",
              "      <td>2</td>\n",
              "      <td>1</td>\n",
              "      <td>0</td>\n",
              "      <td>F</td>\n",
              "      <td>72</td>\n",
              "    </tr>\n",
              "  </tbody>\n",
              "</table>\n",
              "<p>2643684 rows × 47 columns</p>\n",
              "</div>"
            ],
            "text/plain": [
              "         ATTEND  BFACIL   BMI  CIG_0  ...  RF_CESAR  RF_CESARN  SEX WTGAIN\n",
              "0             1       1  30.7      0  ...         1          0    M     41\n",
              "3             3       1  23.7      0  ...         1          0    F      0\n",
              "5             4       2  31.3      0  ...         1          0    F     47\n",
              "6             1       1  23.0      0  ...         1          0    F     10\n",
              "7             1       1  28.2      0  ...         1          0    F     29\n",
              "...         ...     ...   ...    ...  ...       ...        ...  ...    ...\n",
              "3801522       1       1  21.6      0  ...         2          1    M     36\n",
              "3801525       1       1  36.0      0  ...         1          0    F     47\n",
              "3801526       1       1  26.4      0  ...         1          0    F     15\n",
              "3801528       1       1  29.4      0  ...         2          3    F     32\n",
              "3801533       1       1  42.1      0  ...         1          0    F     72\n",
              "\n",
              "[2643684 rows x 47 columns]"
            ]
          },
          "metadata": {
            "tags": []
          },
          "execution_count": 25
        }
      ]
    },
    {
      "cell_type": "code",
      "metadata": {
        "colab": {
          "base_uri": "https://localhost:8080/"
        },
        "id": "7xiZv53w5ijj",
        "outputId": "10b1e073-d6a3-4fcf-bb8d-9a3fe4b5e72c"
      },
      "source": [
        "df.info()"
      ],
      "execution_count": null,
      "outputs": [
        {
          "output_type": "stream",
          "text": [
            "<class 'pandas.core.frame.DataFrame'>\n",
            "Int64Index: 2643684 entries, 0 to 3801533\n",
            "Data columns (total 47 columns):\n",
            " #   Column       Dtype  \n",
            "---  ------       -----  \n",
            " 0   ATTEND       int64  \n",
            " 1   BFACIL       int64  \n",
            " 2   BMI          float64\n",
            " 3   CIG_0        int64  \n",
            " 4   DBWT         int64  \n",
            " 5   DLMP_MM      int64  \n",
            " 6   DLMP_YY      int64  \n",
            " 7   DMAR         object \n",
            " 8   DOB_MM       int64  \n",
            " 9   DOB_TT       int64  \n",
            " 10  DOB_YY       int64  \n",
            " 11  FAGECOMB     int64  \n",
            " 12  FEDUC        int64  \n",
            " 13  FHISPX       int64  \n",
            " 14  FRACE6       int64  \n",
            " 15  ILLB_R       int64  \n",
            " 16  ILOP_R       int64  \n",
            " 17  ILP_R        int64  \n",
            " 18  IP_GON       int64  \n",
            " 19  LD_INDL      int64  \n",
            " 20  MAGER        int64  \n",
            " 21  MBSTATE_REC  int64  \n",
            " 22  MEDUC        int64  \n",
            " 23  MHISPX       int64  \n",
            " 24  MM_AICU      int64  \n",
            " 25  MRACE15      int64  \n",
            " 26  MRACE31      int64  \n",
            " 27  MRAVE6       int64  \n",
            " 28  MTRAN        int64  \n",
            " 29  M_Ht_In      int64  \n",
            " 30  NO_INFEC     int64  \n",
            " 31  NO_MMORB     int64  \n",
            " 32  NO_RISKS     int64  \n",
            " 33  PAY          int64  \n",
            " 34  PAY_REC      int64  \n",
            " 35  PRECARE      int64  \n",
            " 36  PREVIS       int64  \n",
            " 37  PRIORDEAD    int64  \n",
            " 38  PRIORLIVE    int64  \n",
            " 39  PRIORTERM    int64  \n",
            " 40  PWgt_R       int64  \n",
            " 41  RDMETH_REC   int64  \n",
            " 42  RESTATUS     int64  \n",
            " 43  RF_CESAR     int64  \n",
            " 44  RF_CESARN    int64  \n",
            " 45  SEX          object \n",
            " 46  WTGAIN       int64  \n",
            "dtypes: float64(1), int64(44), object(2)\n",
            "memory usage: 968.1+ MB\n"
          ],
          "name": "stdout"
        }
      ]
    },
    {
      "cell_type": "code",
      "metadata": {
        "colab": {
          "base_uri": "https://localhost:8080/"
        },
        "id": "kMCr6Uul50ir",
        "outputId": "30544283-d01a-4544-b5a0-0bfcbd33472c"
      },
      "source": [
        "df.DMAR.unique()"
      ],
      "execution_count": null,
      "outputs": [
        {
          "output_type": "execute_result",
          "data": {
            "text/plain": [
              "array([1, 2, '2', '1', nan], dtype=object)"
            ]
          },
          "metadata": {
            "tags": []
          },
          "execution_count": 27
        }
      ]
    },
    {
      "cell_type": "code",
      "metadata": {
        "colab": {
          "base_uri": "https://localhost:8080/"
        },
        "id": "ccZT4eKu6C1H",
        "outputId": "2fe771d8-3e74-4f7b-a97e-527b0e2bfcf2"
      },
      "source": [
        "#df.drop(df[df['DMAR'].eq(0)].index, inplace=True)\n",
        "df['DMAR'] = df['DMAR'].str.lstrip('$').astype('float')\n",
        "df.shape"
      ],
      "execution_count": null,
      "outputs": [
        {
          "output_type": "execute_result",
          "data": {
            "text/plain": [
              "(2643684, 47)"
            ]
          },
          "metadata": {
            "tags": []
          },
          "execution_count": 28
        }
      ]
    },
    {
      "cell_type": "code",
      "metadata": {
        "id": "rDY4xMbZ6Mcb"
      },
      "source": [
        "df['DMAR']=df['DMAR'].fillna(0)"
      ],
      "execution_count": null,
      "outputs": []
    },
    {
      "cell_type": "code",
      "metadata": {
        "colab": {
          "base_uri": "https://localhost:8080/"
        },
        "id": "vPv7Q0pCdTTe",
        "outputId": "b7409570-c029-40a3-a012-a5d55051a2bc"
      },
      "source": [
        "df.DMAR.unique()"
      ],
      "execution_count": null,
      "outputs": [
        {
          "output_type": "execute_result",
          "data": {
            "text/plain": [
              "array([0., 2., 1.])"
            ]
          },
          "metadata": {
            "tags": []
          },
          "execution_count": 30
        }
      ]
    },
    {
      "cell_type": "markdown",
      "metadata": {
        "id": "gdjYBmDIBzc9"
      },
      "source": [
        "## Feature Engineering"
      ]
    },
    {
      "cell_type": "markdown",
      "metadata": {
        "id": "o5idtBI3iUGZ"
      },
      "source": [
        "### Feature Extraction"
      ]
    },
    {
      "cell_type": "code",
      "metadata": {
        "id": "jlCxI8kREK_f"
      },
      "source": [
        "#creating new column called 'first_birth': Is the baby the Mom's first child? Yes:1 No:0\n",
        "df['first_birth?'] = np.where(df['ILLB_R'].eq(888), 1, 0) #888 Not applicable / 1st live birth \n",
        "df['plural_delivery?'] = np.where(df['ILLB_R'].lt(4), 'Yes', 'No')  #less than 4 is Plural delivery"
      ],
      "execution_count": null,
      "outputs": []
    },
    {
      "cell_type": "code",
      "metadata": {
        "id": "XhAx_TpNIGPs"
      },
      "source": [
        "#recode 'CIG_0' column\n",
        "def group_cig(cig):\n",
        "  if cig ==0:\n",
        "    return 0\n",
        "  elif cig < 6 and cig >= 1:\n",
        "    return 1\n",
        "  elif cig < 11 and cig >=6:\n",
        "    return 2\n",
        "  elif cig < 21 and cig >= 11:\n",
        "    return 3\n",
        "  elif cig < 41 and cig >= 21:\n",
        "    return 4\n",
        "  elif cig < 99 and cig >= 41:\n",
        "    return 5          \n",
        "  else:\n",
        "    return 6\n"
      ],
      "execution_count": null,
      "outputs": []
    },
    {
      "cell_type": "code",
      "metadata": {
        "id": "zTG1UOSpGZIk"
      },
      "source": [
        "df['smoke_category'] = np.array([group_cig(cig) for cig in df['CIG_0']])\n",
        "#drop 'CIG_0' after this.\n",
        "#df = df.drop('CIG_0', axis = 1)"
      ],
      "execution_count": null,
      "outputs": []
    },
    {
      "cell_type": "code",
      "metadata": {
        "id": "llY6k6DojlA0"
      },
      "source": [
        "#recode 'BMI' column\n",
        "def group_BMI(cig):\n",
        "  if cig ==0:\n",
        "    return 0\n",
        "  elif cig < 18.5 :                                      \n",
        "    return 1\n",
        "  elif cig < 24.9 and cig >=18.5:  \n",
        "    return 2\n",
        "  elif cig < 29.9 and cig >= 24.9:   \n",
        "    return 3\n",
        "  elif cig < 34.9 and cig >= 29.9:   \n",
        "    return 4\n",
        "  elif cig < 39.9 and cig >= 34.9:   \n",
        "    return 5          \n",
        "  elif cig < 99.9 and cig >= 39.9:   \n",
        "    return 6\n",
        "  else:\n",
        "    return 7"
      ],
      "execution_count": null,
      "outputs": []
    },
    {
      "cell_type": "code",
      "metadata": {
        "id": "vDRZkWD9jtMg"
      },
      "source": [
        "df['BMI_category'] = np.array([group_BMI(bmi) for bmi in df['BMI']])"
      ],
      "execution_count": null,
      "outputs": []
    },
    {
      "cell_type": "code",
      "metadata": {
        "id": "EqUMNlmcKKA2"
      },
      "source": [
        "#creating new column 'PRIORDEAD_cat': Did the mother previously have miscarriages? Yes: Yes, No: None, Unknown: Unknown\n",
        "conditions = [df['PRIORDEAD'].eq(0),df['PRIORDEAD'].eq(99)]\n",
        "choices = ['None','Unknown']\n",
        "df['Neonatal'] = np.select(conditions, choices, 'Yes')\n",
        "#neonatal means child dies after birth within 28 days, caused because of premature deliveries\n",
        "#recode this variable"
      ],
      "execution_count": null,
      "outputs": []
    },
    {
      "cell_type": "code",
      "metadata": {
        "id": "U-dnWlHRNE-n"
      },
      "source": [
        "#creating new column 'PRIORTERM_cat': Did the mother previously have terminations? Yes: Yes, No:None, Unknown: Unknown\n",
        "conditions = [df['PRIORTERM'].eq(0),df['PRIORTERM'].eq(99)]\n",
        "choices = ['None','Unknown']\n",
        "df['PRIORTERM_cat'] = np.select(conditions, choices, 'Yes')\n",
        "#An abortion (termination) is the medical process of ending a pregnancy so it does not result in the birth of a baby. Depending on how many weeks you have been pregnant, the pregnancy can be ended by taking medication or by having a surgical procedure."
      ],
      "execution_count": null,
      "outputs": []
    },
    {
      "cell_type": "code",
      "metadata": {
        "id": "dDXTcolGOx_E"
      },
      "source": [
        "#creating new column 'PRIORLIVE_cat': Did the mother previously birth living children: Yes: Yes, No: None, Unknown: Unknown\n",
        "conditions = [df['PRIORLIVE'].eq(0), df['PRIORLIVE'].eq(99)]\n",
        "choices = ['None','Unknown']\n",
        "df['PRIORLIVE_cat'] = np.select(conditions, choices, 'Yes')"
      ],
      "execution_count": null,
      "outputs": []
    },
    {
      "cell_type": "code",
      "metadata": {
        "id": "MksN8M2APZ3j"
      },
      "source": [
        "#creating new column 'pregnancy_length': An estimation of the gestation period by subtracting the month/year of last menses from month/year of baby born\n",
        "conditions = [(df['DOB_MM'] > df['DLMP_MM']) & (2018 == df['DLMP_YY']),(df['DOB_MM'] > df['DLMP_MM']) & (2018 > df['DLMP_YY']),\n",
        "                  (df['DOB_MM'] < df['DLMP_MM']) & (2018 > df['DLMP_YY'])]\n",
        "choices = [df['DOB_MM'] - df['DLMP_MM'],((df['DOB_YY'] - df['DLMP_YY'])* 12) + df['DOB_MM'] - df['DLMP_MM'],\n",
        "               ((df['DOB_YY'] - df['DLMP_YY'])* 12) - df['DLMP_MM'] + df['DOB_MM']]\n",
        "df['gestational_age'] = np.select(conditions,choices, 12)"
      ],
      "execution_count": null,
      "outputs": []
    },
    {
      "cell_type": "code",
      "metadata": {
        "id": "4l06SEmERRdy"
      },
      "source": [
        "#creating new column 'BMI_log':np.log(BMI) to normalize BMI\n",
        "#df['BMI_log'] = np.log(df['BMI'])\n",
        "#drop BMI at the end"
      ],
      "execution_count": null,
      "outputs": []
    },
    {
      "cell_type": "code",
      "metadata": {
        "id": "-QLw1x_IRxeW"
      },
      "source": [
        "#creating new column 'first_pregnancy': Is it mother's first live birth? Yes: 1, No: 0\n",
        "df['first_live_birth'] = np.where(df['ILP_R'].eq(888), 1, 0)"
      ],
      "execution_count": null,
      "outputs": []
    },
    {
      "cell_type": "code",
      "metadata": {
        "id": "cFmGixAwXtQq"
      },
      "source": [
        "#creating new column 'first_natal': Is it mother's first natality event? Yes: 1, No: 0\n",
        "df['first_natal'] = np.where(df['ILOP_R'].eq(888),1, 0)"
      ],
      "execution_count": null,
      "outputs": []
    },
    {
      "cell_type": "code",
      "metadata": {
        "id": "QyN-6iQ3X_XV"
      },
      "source": [
        "#adjusting 'PRECARE' values: if Unkonwn, impute 0\n",
        "df['PRECARE'] = np.where(df['PRECARE'].eq(99), 0, df['PRECARE'])"
      ],
      "execution_count": null,
      "outputs": []
    },
    {
      "cell_type": "code",
      "metadata": {
        "id": "HFqC7sWhYJwt"
      },
      "source": [
        "#adjusting 'PREVIS' values: if Unkonwn, impute 0\n",
        "df['PREVIS'] = np.where(df['PREVIS'].eq(99), 0, df['PREVIS'])"
      ],
      "execution_count": null,
      "outputs": []
    },
    {
      "cell_type": "code",
      "metadata": {
        "id": "vUbHGcM4YO2p"
      },
      "source": [
        "#creating new column 'MOM_weight': manually computing mom's weight incase of missing values\n",
        "df['MOM_weight'] = (df['M_Ht_In']**2)*df['BMI']/704"
      ],
      "execution_count": null,
      "outputs": []
    },
    {
      "cell_type": "code",
      "metadata": {
        "id": "zkWqbyuaP40Z"
      },
      "source": [
        "#creating new column '...': Weight gained divided by Mom's Weight\n",
        "df['WTGAIN_div_MOM_weight'] = df['WTGAIN']/df['MOM_weight']"
      ],
      "execution_count": null,
      "outputs": []
    },
    {
      "cell_type": "code",
      "metadata": {
        "id": "A2rWKy5JZaGF"
      },
      "source": [
        "#creating new column '...': Weight gained divided by gestation period\n",
        "df['WTGAIN_div_length'] = df['WTGAIN'] / df['gestational_age']"
      ],
      "execution_count": null,
      "outputs": []
    },
    {
      "cell_type": "code",
      "metadata": {
        "id": "ovotaK99ZfCo"
      },
      "source": [
        "#creating new column '...': calculating percentage of weight gained due to pregnancy\n",
        "df['WT_percent_gain'] = df['WTGAIN'] / df['PWgt_R']"
      ],
      "execution_count": null,
      "outputs": []
    },
    {
      "cell_type": "code",
      "metadata": {
        "id": "5O2YM3DgZjVg"
      },
      "source": [
        "#adjusting 'DMAR': assigning blanks to a new variable 0 for unknowns\n",
        "df['DMAR'] = np.where(df['DMAR'].eq(' '),0,df['DMAR'])"
      ],
      "execution_count": null,
      "outputs": []
    },
    {
      "cell_type": "code",
      "metadata": {
        "colab": {
          "base_uri": "https://localhost:8080/"
        },
        "id": "NYt5Ty4Tai2F",
        "outputId": "651f8608-49fa-4cbc-d708-464a86c720a7"
      },
      "source": [
        "df.info()"
      ],
      "execution_count": null,
      "outputs": [
        {
          "output_type": "stream",
          "text": [
            "<class 'pandas.core.frame.DataFrame'>\n",
            "Int64Index: 2643684 entries, 0 to 3801533\n",
            "Data columns (total 61 columns):\n",
            " #   Column                 Dtype  \n",
            "---  ------                 -----  \n",
            " 0   ATTEND                 int64  \n",
            " 1   BFACIL                 int64  \n",
            " 2   BMI                    float64\n",
            " 3   CIG_0                  int64  \n",
            " 4   DBWT                   int64  \n",
            " 5   DLMP_MM                int64  \n",
            " 6   DLMP_YY                int64  \n",
            " 7   DMAR                   float64\n",
            " 8   DOB_MM                 int64  \n",
            " 9   DOB_TT                 int64  \n",
            " 10  DOB_YY                 int64  \n",
            " 11  FAGECOMB               int64  \n",
            " 12  FEDUC                  int64  \n",
            " 13  FHISPX                 int64  \n",
            " 14  FRACE6                 int64  \n",
            " 15  ILLB_R                 int64  \n",
            " 16  ILOP_R                 int64  \n",
            " 17  ILP_R                  int64  \n",
            " 18  IP_GON                 int64  \n",
            " 19  LD_INDL                int64  \n",
            " 20  MAGER                  int64  \n",
            " 21  MBSTATE_REC            int64  \n",
            " 22  MEDUC                  int64  \n",
            " 23  MHISPX                 int64  \n",
            " 24  MM_AICU                int64  \n",
            " 25  MRACE15                int64  \n",
            " 26  MRACE31                int64  \n",
            " 27  MRAVE6                 int64  \n",
            " 28  MTRAN                  int64  \n",
            " 29  M_Ht_In                int64  \n",
            " 30  NO_INFEC               int64  \n",
            " 31  NO_MMORB               int64  \n",
            " 32  NO_RISKS               int64  \n",
            " 33  PAY                    int64  \n",
            " 34  PAY_REC                int64  \n",
            " 35  PRECARE                int64  \n",
            " 36  PREVIS                 int64  \n",
            " 37  PRIORDEAD              int64  \n",
            " 38  PRIORLIVE              int64  \n",
            " 39  PRIORTERM              int64  \n",
            " 40  PWgt_R                 int64  \n",
            " 41  RDMETH_REC             int64  \n",
            " 42  RESTATUS               int64  \n",
            " 43  RF_CESAR               int64  \n",
            " 44  RF_CESARN              int64  \n",
            " 45  SEX                    object \n",
            " 46  WTGAIN                 int64  \n",
            " 47  first_birth?           int64  \n",
            " 48  plural_delivery?       object \n",
            " 49  smoke_category         int64  \n",
            " 50  BMI_category           int64  \n",
            " 51  Neonatal               object \n",
            " 52  PRIORTERM_cat          object \n",
            " 53  PRIORLIVE_cat          object \n",
            " 54  gestational_age        int64  \n",
            " 55  first_live_birth       int64  \n",
            " 56  first_natal            int64  \n",
            " 57  MOM_weight             float64\n",
            " 58  WTGAIN_div_MOM_weight  float64\n",
            " 59  WTGAIN_div_length      float64\n",
            " 60  WT_percent_gain        float64\n",
            "dtypes: float64(6), int64(50), object(5)\n",
            "memory usage: 1.2+ GB\n"
          ],
          "name": "stdout"
        }
      ]
    },
    {
      "cell_type": "markdown",
      "metadata": {
        "id": "QbVheDIIiZQO"
      },
      "source": [
        "### Recoding Features"
      ]
    },
    {
      "cell_type": "code",
      "metadata": {
        "id": "67jjiYxifzeO"
      },
      "source": [
        "df['SEX'] = df['SEX'].replace(['M','F'],['2','1'])\n",
        "df['SEX']  = df['SEX'].str.lstrip('$').astype('int')"
      ],
      "execution_count": null,
      "outputs": []
    },
    {
      "cell_type": "code",
      "metadata": {
        "id": "aNm9_2iAgtvr"
      },
      "source": [
        "df = df.rename(columns={'plural_delivery?': 'plural_delivery'})"
      ],
      "execution_count": null,
      "outputs": []
    },
    {
      "cell_type": "code",
      "metadata": {
        "id": "ppub9axDgPTW"
      },
      "source": [
        "df['plural_delivery'] = df['plural_delivery'].replace(['Yes','No'],['2','1'])\n",
        "df['plural_delivery']  = df['plural_delivery'].str.lstrip('$').astype('int')"
      ],
      "execution_count": null,
      "outputs": []
    },
    {
      "cell_type": "code",
      "metadata": {
        "id": "E-ASXcuXhHLw"
      },
      "source": [
        "df['Neonatal'] = df['Neonatal'].replace(['None', 'Yes', 'Unknown'],['1','2', '0'])\n",
        "df['Neonatal']  = df['Neonatal'].str.lstrip('$').astype('int')"
      ],
      "execution_count": null,
      "outputs": []
    },
    {
      "cell_type": "code",
      "metadata": {
        "id": "B5p94Umqhuo3"
      },
      "source": [
        "df['PRIORTERM_cat'] = df['PRIORTERM_cat'].replace(['None', 'Yes', 'Unknown'],['1','2', '0'])\n",
        "df['PRIORTERM_cat']  = df['PRIORTERM_cat'].str.lstrip('$').astype('int')"
      ],
      "execution_count": null,
      "outputs": []
    },
    {
      "cell_type": "code",
      "metadata": {
        "id": "0gLid90eh0Bc"
      },
      "source": [
        "df['PRIORLIVE_cat'] = df['PRIORLIVE_cat'].replace(['None', 'Yes', 'Unknown'],['1','2', '0'])\n",
        "df['PRIORLIVE_cat']  = df['PRIORLIVE_cat'].str.lstrip('$').astype('int')"
      ],
      "execution_count": null,
      "outputs": []
    },
    {
      "cell_type": "code",
      "metadata": {
        "colab": {
          "base_uri": "https://localhost:8080/"
        },
        "id": "0vu_5pvJdk9S",
        "outputId": "af40612e-f8fc-470a-d442-eeb9015bed47"
      },
      "source": [
        "df.BMI_category.unique()"
      ],
      "execution_count": null,
      "outputs": [
        {
          "output_type": "execute_result",
          "data": {
            "text/plain": [
              "array([4, 2, 3, 5, 6, 1])"
            ]
          },
          "metadata": {
            "tags": []
          },
          "execution_count": 57
        }
      ]
    },
    {
      "cell_type": "code",
      "metadata": {
        "id": "xgpomO1eQZ3C"
      },
      "source": [
        "#dropping rows that with gestation period greater than 12 and less than 5, treating them as outliers\n",
        "df.drop(df[df['gestational_age'].gt(12)].index,inplace=True)\n",
        "df.drop(df[df['gestational_age'].lt(5)].index,inplace=True)"
      ],
      "execution_count": null,
      "outputs": []
    },
    {
      "cell_type": "code",
      "metadata": {
        "id": "rcFY9cMWaC8L"
      },
      "source": [
        "#drop recoded columns\n",
        "df = df.drop('CIG_0', axis = 1)\n",
        "df = df.drop('BMI', axis = 1)\n",
        "df = df.drop('DOB_MM', axis = 1)\n",
        "df = df.drop('DOB_YY', axis = 1)"
      ],
      "execution_count": null,
      "outputs": []
    },
    {
      "cell_type": "code",
      "metadata": {
        "colab": {
          "base_uri": "https://localhost:8080/"
        },
        "id": "zO57rvB379Fg",
        "outputId": "a49e506e-5933-40c7-b1c5-fc2b1465ebf8"
      },
      "source": [
        "df.drop(df[df['Neonatal'].eq(0)].index, inplace=True)\n",
        "df.drop(df[df['PRIORTERM_cat'].eq(0)].index, inplace=True)\n",
        "df.drop(df[df['PRIORLIVE_cat'].eq(0)].index, inplace=True)\n",
        "df.shape"
      ],
      "execution_count": null,
      "outputs": [
        {
          "output_type": "execute_result",
          "data": {
            "text/plain": [
              "(2637302, 57)"
            ]
          },
          "metadata": {
            "tags": []
          },
          "execution_count": 60
        }
      ]
    },
    {
      "cell_type": "code",
      "metadata": {
        "colab": {
          "base_uri": "https://localhost:8080/"
        },
        "id": "vsxMse8Gi15R",
        "outputId": "1b83c0c1-91df-4cbf-d199-1b1e55227158"
      },
      "source": [
        "df"
      ],
      "execution_count": null,
      "outputs": [
        {
          "output_type": "execute_result",
          "data": {
            "text/html": [
              "<div>\n",
              "<style scoped>\n",
              "    .dataframe tbody tr th:only-of-type {\n",
              "        vertical-align: middle;\n",
              "    }\n",
              "\n",
              "    .dataframe tbody tr th {\n",
              "        vertical-align: top;\n",
              "    }\n",
              "\n",
              "    .dataframe thead th {\n",
              "        text-align: right;\n",
              "    }\n",
              "</style>\n",
              "<table border=\"1\" class=\"dataframe\">\n",
              "  <thead>\n",
              "    <tr style=\"text-align: right;\">\n",
              "      <th></th>\n",
              "      <th>ATTEND</th>\n",
              "      <th>BFACIL</th>\n",
              "      <th>DBWT</th>\n",
              "      <th>DLMP_MM</th>\n",
              "      <th>DLMP_YY</th>\n",
              "      <th>DMAR</th>\n",
              "      <th>DOB_TT</th>\n",
              "      <th>FAGECOMB</th>\n",
              "      <th>FEDUC</th>\n",
              "      <th>FHISPX</th>\n",
              "      <th>FRACE6</th>\n",
              "      <th>ILLB_R</th>\n",
              "      <th>ILOP_R</th>\n",
              "      <th>ILP_R</th>\n",
              "      <th>IP_GON</th>\n",
              "      <th>LD_INDL</th>\n",
              "      <th>MAGER</th>\n",
              "      <th>MBSTATE_REC</th>\n",
              "      <th>MEDUC</th>\n",
              "      <th>MHISPX</th>\n",
              "      <th>MM_AICU</th>\n",
              "      <th>MRACE15</th>\n",
              "      <th>MRACE31</th>\n",
              "      <th>MRAVE6</th>\n",
              "      <th>MTRAN</th>\n",
              "      <th>M_Ht_In</th>\n",
              "      <th>NO_INFEC</th>\n",
              "      <th>NO_MMORB</th>\n",
              "      <th>NO_RISKS</th>\n",
              "      <th>PAY</th>\n",
              "      <th>PAY_REC</th>\n",
              "      <th>PRECARE</th>\n",
              "      <th>PREVIS</th>\n",
              "      <th>PRIORDEAD</th>\n",
              "      <th>PRIORLIVE</th>\n",
              "      <th>PRIORTERM</th>\n",
              "      <th>PWgt_R</th>\n",
              "      <th>RDMETH_REC</th>\n",
              "      <th>RESTATUS</th>\n",
              "      <th>RF_CESAR</th>\n",
              "      <th>RF_CESARN</th>\n",
              "      <th>SEX</th>\n",
              "      <th>WTGAIN</th>\n",
              "      <th>first_birth?</th>\n",
              "      <th>plural_delivery</th>\n",
              "      <th>smoke_category</th>\n",
              "      <th>BMI_category</th>\n",
              "      <th>Neonatal</th>\n",
              "      <th>PRIORTERM_cat</th>\n",
              "      <th>PRIORLIVE_cat</th>\n",
              "      <th>gestational_age</th>\n",
              "      <th>first_live_birth</th>\n",
              "      <th>first_natal</th>\n",
              "      <th>MOM_weight</th>\n",
              "      <th>WTGAIN_div_MOM_weight</th>\n",
              "      <th>WTGAIN_div_length</th>\n",
              "      <th>WT_percent_gain</th>\n",
              "    </tr>\n",
              "  </thead>\n",
              "  <tbody>\n",
              "    <tr>\n",
              "      <th>0</th>\n",
              "      <td>1</td>\n",
              "      <td>1</td>\n",
              "      <td>3657</td>\n",
              "      <td>4</td>\n",
              "      <td>2017</td>\n",
              "      <td>0.0</td>\n",
              "      <td>1227</td>\n",
              "      <td>31</td>\n",
              "      <td>3</td>\n",
              "      <td>1</td>\n",
              "      <td>1</td>\n",
              "      <td>16</td>\n",
              "      <td>33</td>\n",
              "      <td>16</td>\n",
              "      <td>1</td>\n",
              "      <td>1</td>\n",
              "      <td>30</td>\n",
              "      <td>1</td>\n",
              "      <td>6</td>\n",
              "      <td>0</td>\n",
              "      <td>1</td>\n",
              "      <td>1</td>\n",
              "      <td>1</td>\n",
              "      <td>1</td>\n",
              "      <td>1</td>\n",
              "      <td>66</td>\n",
              "      <td>1</td>\n",
              "      <td>1</td>\n",
              "      <td>1</td>\n",
              "      <td>2</td>\n",
              "      <td>2</td>\n",
              "      <td>3</td>\n",
              "      <td>8</td>\n",
              "      <td>0</td>\n",
              "      <td>1</td>\n",
              "      <td>2</td>\n",
              "      <td>190</td>\n",
              "      <td>1</td>\n",
              "      <td>2</td>\n",
              "      <td>1</td>\n",
              "      <td>0</td>\n",
              "      <td>2</td>\n",
              "      <td>41</td>\n",
              "      <td>0</td>\n",
              "      <td>1</td>\n",
              "      <td>0</td>\n",
              "      <td>4</td>\n",
              "      <td>1</td>\n",
              "      <td>2</td>\n",
              "      <td>2</td>\n",
              "      <td>9</td>\n",
              "      <td>0</td>\n",
              "      <td>0</td>\n",
              "      <td>189.956250</td>\n",
              "      <td>0.215839</td>\n",
              "      <td>4.555556</td>\n",
              "      <td>0.215789</td>\n",
              "    </tr>\n",
              "    <tr>\n",
              "      <th>3</th>\n",
              "      <td>3</td>\n",
              "      <td>1</td>\n",
              "      <td>3140</td>\n",
              "      <td>5</td>\n",
              "      <td>2017</td>\n",
              "      <td>0.0</td>\n",
              "      <td>938</td>\n",
              "      <td>26</td>\n",
              "      <td>2</td>\n",
              "      <td>0</td>\n",
              "      <td>3</td>\n",
              "      <td>43</td>\n",
              "      <td>888</td>\n",
              "      <td>43</td>\n",
              "      <td>1</td>\n",
              "      <td>1</td>\n",
              "      <td>23</td>\n",
              "      <td>1</td>\n",
              "      <td>2</td>\n",
              "      <td>0</td>\n",
              "      <td>1</td>\n",
              "      <td>3</td>\n",
              "      <td>3</td>\n",
              "      <td>3</td>\n",
              "      <td>1</td>\n",
              "      <td>64</td>\n",
              "      <td>1</td>\n",
              "      <td>1</td>\n",
              "      <td>1</td>\n",
              "      <td>1</td>\n",
              "      <td>1</td>\n",
              "      <td>5</td>\n",
              "      <td>6</td>\n",
              "      <td>0</td>\n",
              "      <td>2</td>\n",
              "      <td>0</td>\n",
              "      <td>138</td>\n",
              "      <td>1</td>\n",
              "      <td>2</td>\n",
              "      <td>1</td>\n",
              "      <td>0</td>\n",
              "      <td>1</td>\n",
              "      <td>0</td>\n",
              "      <td>0</td>\n",
              "      <td>1</td>\n",
              "      <td>0</td>\n",
              "      <td>2</td>\n",
              "      <td>1</td>\n",
              "      <td>1</td>\n",
              "      <td>2</td>\n",
              "      <td>8</td>\n",
              "      <td>0</td>\n",
              "      <td>1</td>\n",
              "      <td>137.890909</td>\n",
              "      <td>0.000000</td>\n",
              "      <td>0.000000</td>\n",
              "      <td>0.000000</td>\n",
              "    </tr>\n",
              "    <tr>\n",
              "      <th>5</th>\n",
              "      <td>4</td>\n",
              "      <td>2</td>\n",
              "      <td>4082</td>\n",
              "      <td>3</td>\n",
              "      <td>2017</td>\n",
              "      <td>0.0</td>\n",
              "      <td>28</td>\n",
              "      <td>28</td>\n",
              "      <td>6</td>\n",
              "      <td>6</td>\n",
              "      <td>1</td>\n",
              "      <td>39</td>\n",
              "      <td>888</td>\n",
              "      <td>39</td>\n",
              "      <td>1</td>\n",
              "      <td>1</td>\n",
              "      <td>26</td>\n",
              "      <td>1</td>\n",
              "      <td>6</td>\n",
              "      <td>0</td>\n",
              "      <td>1</td>\n",
              "      <td>1</td>\n",
              "      <td>1</td>\n",
              "      <td>1</td>\n",
              "      <td>1</td>\n",
              "      <td>67</td>\n",
              "      <td>1</td>\n",
              "      <td>1</td>\n",
              "      <td>1</td>\n",
              "      <td>2</td>\n",
              "      <td>2</td>\n",
              "      <td>2</td>\n",
              "      <td>13</td>\n",
              "      <td>0</td>\n",
              "      <td>1</td>\n",
              "      <td>0</td>\n",
              "      <td>200</td>\n",
              "      <td>1</td>\n",
              "      <td>1</td>\n",
              "      <td>1</td>\n",
              "      <td>0</td>\n",
              "      <td>1</td>\n",
              "      <td>47</td>\n",
              "      <td>0</td>\n",
              "      <td>1</td>\n",
              "      <td>0</td>\n",
              "      <td>4</td>\n",
              "      <td>1</td>\n",
              "      <td>1</td>\n",
              "      <td>2</td>\n",
              "      <td>10</td>\n",
              "      <td>0</td>\n",
              "      <td>1</td>\n",
              "      <td>199.581960</td>\n",
              "      <td>0.235492</td>\n",
              "      <td>4.700000</td>\n",
              "      <td>0.235000</td>\n",
              "    </tr>\n",
              "    <tr>\n",
              "      <th>6</th>\n",
              "      <td>1</td>\n",
              "      <td>1</td>\n",
              "      <td>3180</td>\n",
              "      <td>3</td>\n",
              "      <td>2017</td>\n",
              "      <td>0.0</td>\n",
              "      <td>341</td>\n",
              "      <td>25</td>\n",
              "      <td>6</td>\n",
              "      <td>0</td>\n",
              "      <td>1</td>\n",
              "      <td>27</td>\n",
              "      <td>888</td>\n",
              "      <td>27</td>\n",
              "      <td>1</td>\n",
              "      <td>2</td>\n",
              "      <td>28</td>\n",
              "      <td>1</td>\n",
              "      <td>4</td>\n",
              "      <td>0</td>\n",
              "      <td>1</td>\n",
              "      <td>1</td>\n",
              "      <td>1</td>\n",
              "      <td>1</td>\n",
              "      <td>1</td>\n",
              "      <td>70</td>\n",
              "      <td>1</td>\n",
              "      <td>1</td>\n",
              "      <td>1</td>\n",
              "      <td>5</td>\n",
              "      <td>4</td>\n",
              "      <td>3</td>\n",
              "      <td>6</td>\n",
              "      <td>0</td>\n",
              "      <td>2</td>\n",
              "      <td>0</td>\n",
              "      <td>160</td>\n",
              "      <td>1</td>\n",
              "      <td>1</td>\n",
              "      <td>1</td>\n",
              "      <td>0</td>\n",
              "      <td>1</td>\n",
              "      <td>10</td>\n",
              "      <td>0</td>\n",
              "      <td>1</td>\n",
              "      <td>0</td>\n",
              "      <td>2</td>\n",
              "      <td>1</td>\n",
              "      <td>1</td>\n",
              "      <td>2</td>\n",
              "      <td>10</td>\n",
              "      <td>0</td>\n",
              "      <td>1</td>\n",
              "      <td>160.085227</td>\n",
              "      <td>0.062467</td>\n",
              "      <td>1.000000</td>\n",
              "      <td>0.062500</td>\n",
              "    </tr>\n",
              "    <tr>\n",
              "      <th>7</th>\n",
              "      <td>1</td>\n",
              "      <td>1</td>\n",
              "      <td>3230</td>\n",
              "      <td>3</td>\n",
              "      <td>2017</td>\n",
              "      <td>0.0</td>\n",
              "      <td>1615</td>\n",
              "      <td>29</td>\n",
              "      <td>7</td>\n",
              "      <td>0</td>\n",
              "      <td>1</td>\n",
              "      <td>888</td>\n",
              "      <td>888</td>\n",
              "      <td>888</td>\n",
              "      <td>1</td>\n",
              "      <td>1</td>\n",
              "      <td>31</td>\n",
              "      <td>1</td>\n",
              "      <td>3</td>\n",
              "      <td>0</td>\n",
              "      <td>1</td>\n",
              "      <td>1</td>\n",
              "      <td>1</td>\n",
              "      <td>1</td>\n",
              "      <td>1</td>\n",
              "      <td>67</td>\n",
              "      <td>1</td>\n",
              "      <td>1</td>\n",
              "      <td>1</td>\n",
              "      <td>2</td>\n",
              "      <td>2</td>\n",
              "      <td>3</td>\n",
              "      <td>18</td>\n",
              "      <td>0</td>\n",
              "      <td>0</td>\n",
              "      <td>0</td>\n",
              "      <td>180</td>\n",
              "      <td>3</td>\n",
              "      <td>1</td>\n",
              "      <td>1</td>\n",
              "      <td>0</td>\n",
              "      <td>1</td>\n",
              "      <td>29</td>\n",
              "      <td>1</td>\n",
              "      <td>1</td>\n",
              "      <td>0</td>\n",
              "      <td>3</td>\n",
              "      <td>1</td>\n",
              "      <td>1</td>\n",
              "      <td>1</td>\n",
              "      <td>10</td>\n",
              "      <td>1</td>\n",
              "      <td>1</td>\n",
              "      <td>179.815057</td>\n",
              "      <td>0.161277</td>\n",
              "      <td>2.900000</td>\n",
              "      <td>0.161111</td>\n",
              "    </tr>\n",
              "    <tr>\n",
              "      <th>...</th>\n",
              "      <td>...</td>\n",
              "      <td>...</td>\n",
              "      <td>...</td>\n",
              "      <td>...</td>\n",
              "      <td>...</td>\n",
              "      <td>...</td>\n",
              "      <td>...</td>\n",
              "      <td>...</td>\n",
              "      <td>...</td>\n",
              "      <td>...</td>\n",
              "      <td>...</td>\n",
              "      <td>...</td>\n",
              "      <td>...</td>\n",
              "      <td>...</td>\n",
              "      <td>...</td>\n",
              "      <td>...</td>\n",
              "      <td>...</td>\n",
              "      <td>...</td>\n",
              "      <td>...</td>\n",
              "      <td>...</td>\n",
              "      <td>...</td>\n",
              "      <td>...</td>\n",
              "      <td>...</td>\n",
              "      <td>...</td>\n",
              "      <td>...</td>\n",
              "      <td>...</td>\n",
              "      <td>...</td>\n",
              "      <td>...</td>\n",
              "      <td>...</td>\n",
              "      <td>...</td>\n",
              "      <td>...</td>\n",
              "      <td>...</td>\n",
              "      <td>...</td>\n",
              "      <td>...</td>\n",
              "      <td>...</td>\n",
              "      <td>...</td>\n",
              "      <td>...</td>\n",
              "      <td>...</td>\n",
              "      <td>...</td>\n",
              "      <td>...</td>\n",
              "      <td>...</td>\n",
              "      <td>...</td>\n",
              "      <td>...</td>\n",
              "      <td>...</td>\n",
              "      <td>...</td>\n",
              "      <td>...</td>\n",
              "      <td>...</td>\n",
              "      <td>...</td>\n",
              "      <td>...</td>\n",
              "      <td>...</td>\n",
              "      <td>...</td>\n",
              "      <td>...</td>\n",
              "      <td>...</td>\n",
              "      <td>...</td>\n",
              "      <td>...</td>\n",
              "      <td>...</td>\n",
              "      <td>...</td>\n",
              "    </tr>\n",
              "    <tr>\n",
              "      <th>3801522</th>\n",
              "      <td>1</td>\n",
              "      <td>1</td>\n",
              "      <td>3290</td>\n",
              "      <td>3</td>\n",
              "      <td>2018</td>\n",
              "      <td>0.0</td>\n",
              "      <td>1108</td>\n",
              "      <td>50</td>\n",
              "      <td>2</td>\n",
              "      <td>0</td>\n",
              "      <td>1</td>\n",
              "      <td>32</td>\n",
              "      <td>888</td>\n",
              "      <td>32</td>\n",
              "      <td>1</td>\n",
              "      <td>1</td>\n",
              "      <td>36</td>\n",
              "      <td>2</td>\n",
              "      <td>2</td>\n",
              "      <td>0</td>\n",
              "      <td>1</td>\n",
              "      <td>1</td>\n",
              "      <td>1</td>\n",
              "      <td>1</td>\n",
              "      <td>1</td>\n",
              "      <td>67</td>\n",
              "      <td>1</td>\n",
              "      <td>1</td>\n",
              "      <td>0</td>\n",
              "      <td>1</td>\n",
              "      <td>1</td>\n",
              "      <td>1</td>\n",
              "      <td>10</td>\n",
              "      <td>0</td>\n",
              "      <td>1</td>\n",
              "      <td>0</td>\n",
              "      <td>138</td>\n",
              "      <td>4</td>\n",
              "      <td>1</td>\n",
              "      <td>2</td>\n",
              "      <td>1</td>\n",
              "      <td>2</td>\n",
              "      <td>36</td>\n",
              "      <td>0</td>\n",
              "      <td>1</td>\n",
              "      <td>0</td>\n",
              "      <td>2</td>\n",
              "      <td>1</td>\n",
              "      <td>1</td>\n",
              "      <td>2</td>\n",
              "      <td>9</td>\n",
              "      <td>0</td>\n",
              "      <td>1</td>\n",
              "      <td>137.730682</td>\n",
              "      <td>0.261380</td>\n",
              "      <td>4.000000</td>\n",
              "      <td>0.260870</td>\n",
              "    </tr>\n",
              "    <tr>\n",
              "      <th>3801525</th>\n",
              "      <td>1</td>\n",
              "      <td>1</td>\n",
              "      <td>3310</td>\n",
              "      <td>3</td>\n",
              "      <td>2018</td>\n",
              "      <td>0.0</td>\n",
              "      <td>1357</td>\n",
              "      <td>18</td>\n",
              "      <td>2</td>\n",
              "      <td>1</td>\n",
              "      <td>2</td>\n",
              "      <td>888</td>\n",
              "      <td>888</td>\n",
              "      <td>888</td>\n",
              "      <td>1</td>\n",
              "      <td>1</td>\n",
              "      <td>17</td>\n",
              "      <td>1</td>\n",
              "      <td>2</td>\n",
              "      <td>2</td>\n",
              "      <td>1</td>\n",
              "      <td>2</td>\n",
              "      <td>2</td>\n",
              "      <td>2</td>\n",
              "      <td>1</td>\n",
              "      <td>64</td>\n",
              "      <td>1</td>\n",
              "      <td>1</td>\n",
              "      <td>0</td>\n",
              "      <td>1</td>\n",
              "      <td>1</td>\n",
              "      <td>2</td>\n",
              "      <td>6</td>\n",
              "      <td>0</td>\n",
              "      <td>0</td>\n",
              "      <td>0</td>\n",
              "      <td>210</td>\n",
              "      <td>1</td>\n",
              "      <td>1</td>\n",
              "      <td>1</td>\n",
              "      <td>0</td>\n",
              "      <td>1</td>\n",
              "      <td>47</td>\n",
              "      <td>1</td>\n",
              "      <td>1</td>\n",
              "      <td>0</td>\n",
              "      <td>5</td>\n",
              "      <td>1</td>\n",
              "      <td>1</td>\n",
              "      <td>1</td>\n",
              "      <td>9</td>\n",
              "      <td>1</td>\n",
              "      <td>1</td>\n",
              "      <td>209.454545</td>\n",
              "      <td>0.224392</td>\n",
              "      <td>5.222222</td>\n",
              "      <td>0.223810</td>\n",
              "    </tr>\n",
              "    <tr>\n",
              "      <th>3801526</th>\n",
              "      <td>1</td>\n",
              "      <td>1</td>\n",
              "      <td>3180</td>\n",
              "      <td>3</td>\n",
              "      <td>2018</td>\n",
              "      <td>0.0</td>\n",
              "      <td>532</td>\n",
              "      <td>28</td>\n",
              "      <td>3</td>\n",
              "      <td>1</td>\n",
              "      <td>1</td>\n",
              "      <td>888</td>\n",
              "      <td>888</td>\n",
              "      <td>888</td>\n",
              "      <td>1</td>\n",
              "      <td>1</td>\n",
              "      <td>23</td>\n",
              "      <td>1</td>\n",
              "      <td>3</td>\n",
              "      <td>1</td>\n",
              "      <td>1</td>\n",
              "      <td>1</td>\n",
              "      <td>1</td>\n",
              "      <td>1</td>\n",
              "      <td>1</td>\n",
              "      <td>61</td>\n",
              "      <td>1</td>\n",
              "      <td>1</td>\n",
              "      <td>1</td>\n",
              "      <td>1</td>\n",
              "      <td>1</td>\n",
              "      <td>1</td>\n",
              "      <td>10</td>\n",
              "      <td>0</td>\n",
              "      <td>0</td>\n",
              "      <td>0</td>\n",
              "      <td>140</td>\n",
              "      <td>3</td>\n",
              "      <td>1</td>\n",
              "      <td>1</td>\n",
              "      <td>0</td>\n",
              "      <td>1</td>\n",
              "      <td>15</td>\n",
              "      <td>1</td>\n",
              "      <td>1</td>\n",
              "      <td>0</td>\n",
              "      <td>3</td>\n",
              "      <td>1</td>\n",
              "      <td>1</td>\n",
              "      <td>1</td>\n",
              "      <td>9</td>\n",
              "      <td>1</td>\n",
              "      <td>1</td>\n",
              "      <td>139.537500</td>\n",
              "      <td>0.107498</td>\n",
              "      <td>1.666667</td>\n",
              "      <td>0.107143</td>\n",
              "    </tr>\n",
              "    <tr>\n",
              "      <th>3801528</th>\n",
              "      <td>1</td>\n",
              "      <td>1</td>\n",
              "      <td>3655</td>\n",
              "      <td>4</td>\n",
              "      <td>2018</td>\n",
              "      <td>0.0</td>\n",
              "      <td>825</td>\n",
              "      <td>39</td>\n",
              "      <td>3</td>\n",
              "      <td>0</td>\n",
              "      <td>2</td>\n",
              "      <td>85</td>\n",
              "      <td>888</td>\n",
              "      <td>85</td>\n",
              "      <td>1</td>\n",
              "      <td>1</td>\n",
              "      <td>33</td>\n",
              "      <td>1</td>\n",
              "      <td>5</td>\n",
              "      <td>0</td>\n",
              "      <td>1</td>\n",
              "      <td>2</td>\n",
              "      <td>2</td>\n",
              "      <td>2</td>\n",
              "      <td>1</td>\n",
              "      <td>66</td>\n",
              "      <td>1</td>\n",
              "      <td>1</td>\n",
              "      <td>0</td>\n",
              "      <td>2</td>\n",
              "      <td>2</td>\n",
              "      <td>3</td>\n",
              "      <td>9</td>\n",
              "      <td>0</td>\n",
              "      <td>3</td>\n",
              "      <td>0</td>\n",
              "      <td>182</td>\n",
              "      <td>4</td>\n",
              "      <td>1</td>\n",
              "      <td>2</td>\n",
              "      <td>3</td>\n",
              "      <td>1</td>\n",
              "      <td>32</td>\n",
              "      <td>0</td>\n",
              "      <td>1</td>\n",
              "      <td>0</td>\n",
              "      <td>3</td>\n",
              "      <td>1</td>\n",
              "      <td>1</td>\n",
              "      <td>2</td>\n",
              "      <td>8</td>\n",
              "      <td>0</td>\n",
              "      <td>1</td>\n",
              "      <td>181.912500</td>\n",
              "      <td>0.175909</td>\n",
              "      <td>4.000000</td>\n",
              "      <td>0.175824</td>\n",
              "    </tr>\n",
              "    <tr>\n",
              "      <th>3801533</th>\n",
              "      <td>1</td>\n",
              "      <td>1</td>\n",
              "      <td>2455</td>\n",
              "      <td>2</td>\n",
              "      <td>2018</td>\n",
              "      <td>0.0</td>\n",
              "      <td>1018</td>\n",
              "      <td>30</td>\n",
              "      <td>3</td>\n",
              "      <td>0</td>\n",
              "      <td>2</td>\n",
              "      <td>888</td>\n",
              "      <td>888</td>\n",
              "      <td>888</td>\n",
              "      <td>1</td>\n",
              "      <td>1</td>\n",
              "      <td>30</td>\n",
              "      <td>1</td>\n",
              "      <td>5</td>\n",
              "      <td>6</td>\n",
              "      <td>1</td>\n",
              "      <td>2</td>\n",
              "      <td>2</td>\n",
              "      <td>2</td>\n",
              "      <td>1</td>\n",
              "      <td>62</td>\n",
              "      <td>1</td>\n",
              "      <td>1</td>\n",
              "      <td>1</td>\n",
              "      <td>2</td>\n",
              "      <td>2</td>\n",
              "      <td>2</td>\n",
              "      <td>8</td>\n",
              "      <td>0</td>\n",
              "      <td>0</td>\n",
              "      <td>0</td>\n",
              "      <td>230</td>\n",
              "      <td>1</td>\n",
              "      <td>2</td>\n",
              "      <td>1</td>\n",
              "      <td>0</td>\n",
              "      <td>1</td>\n",
              "      <td>72</td>\n",
              "      <td>1</td>\n",
              "      <td>1</td>\n",
              "      <td>0</td>\n",
              "      <td>6</td>\n",
              "      <td>1</td>\n",
              "      <td>1</td>\n",
              "      <td>1</td>\n",
              "      <td>9</td>\n",
              "      <td>1</td>\n",
              "      <td>1</td>\n",
              "      <td>229.875568</td>\n",
              "      <td>0.313213</td>\n",
              "      <td>8.000000</td>\n",
              "      <td>0.313043</td>\n",
              "    </tr>\n",
              "  </tbody>\n",
              "</table>\n",
              "<p>2637302 rows × 57 columns</p>\n",
              "</div>"
            ],
            "text/plain": [
              "         ATTEND  BFACIL  ...  WTGAIN_div_length  WT_percent_gain\n",
              "0             1       1  ...           4.555556         0.215789\n",
              "3             3       1  ...           0.000000         0.000000\n",
              "5             4       2  ...           4.700000         0.235000\n",
              "6             1       1  ...           1.000000         0.062500\n",
              "7             1       1  ...           2.900000         0.161111\n",
              "...         ...     ...  ...                ...              ...\n",
              "3801522       1       1  ...           4.000000         0.260870\n",
              "3801525       1       1  ...           5.222222         0.223810\n",
              "3801526       1       1  ...           1.666667         0.107143\n",
              "3801528       1       1  ...           4.000000         0.175824\n",
              "3801533       1       1  ...           8.000000         0.313043\n",
              "\n",
              "[2637302 rows x 57 columns]"
            ]
          },
          "metadata": {
            "tags": []
          },
          "execution_count": 61
        }
      ]
    },
    {
      "cell_type": "code",
      "metadata": {
        "colab": {
          "base_uri": "https://localhost:8080/"
        },
        "id": "boEMcmL_83iq",
        "outputId": "be2fb9c5-4343-40ed-cbf9-1272bafb4b1c"
      },
      "source": [
        "df['gestational_age'].value_counts()"
      ],
      "execution_count": null,
      "outputs": [
        {
          "output_type": "execute_result",
          "data": {
            "text/plain": [
              "9     1836068\n",
              "10     388840\n",
              "8      338968\n",
              "7       37916\n",
              "11      15947\n",
              "6       11989\n",
              "5        4038\n",
              "12       3536\n",
              "Name: gestational_age, dtype: int64"
            ]
          },
          "metadata": {
            "tags": []
          },
          "execution_count": 62
        }
      ]
    },
    {
      "cell_type": "code",
      "metadata": {
        "id": "IjcjXVaBDy9k"
      },
      "source": [
        "df1=df.copy()"
      ],
      "execution_count": null,
      "outputs": []
    },
    {
      "cell_type": "code",
      "metadata": {
        "id": "wFR9zl8YDj5n"
      },
      "source": [
        "df.reset_index(drop=True, inplace=True)"
      ],
      "execution_count": null,
      "outputs": []
    },
    {
      "cell_type": "markdown",
      "metadata": {
        "id": "xWkrfcRd9Itv"
      },
      "source": [
        "### Undersampling"
      ]
    },
    {
      "cell_type": "code",
      "metadata": {
        "id": "hStOBCKQ9ONA"
      },
      "source": [
        "minority_class_len=50000"
      ],
      "execution_count": null,
      "outputs": []
    },
    {
      "cell_type": "code",
      "metadata": {
        "id": "J5xXJgHDAQ1N"
      },
      "source": [
        "majority_class_indices9=df[df['gestational_age']==9].index\n",
        "majority_class_indices10=df[df['gestational_age']==10].index\n",
        "majority_class_indices8=df[df['gestational_age']==8].index"
      ],
      "execution_count": null,
      "outputs": []
    },
    {
      "cell_type": "code",
      "metadata": {
        "colab": {
          "base_uri": "https://localhost:8080/"
        },
        "id": "SbjjVESKCT6d",
        "outputId": "9cb757c3-5634-4711-ebe1-b01b9be15837"
      },
      "source": [
        "print(majority_class_indices9)"
      ],
      "execution_count": null,
      "outputs": [
        {
          "output_type": "stream",
          "text": [
            "Int64Index([      0,       6,       7,       8,       9,      10,      13,\n",
            "                 15,      19,      22,\n",
            "            ...\n",
            "            2637286, 2637288, 2637289, 2637294, 2637295, 2637296, 2637297,\n",
            "            2637298, 2637299, 2637301],\n",
            "           dtype='int64', length=1836068)\n"
          ],
          "name": "stdout"
        }
      ]
    },
    {
      "cell_type": "code",
      "metadata": {
        "colab": {
          "base_uri": "https://localhost:8080/"
        },
        "id": "bUCqIaJFBMx2",
        "outputId": "214e81f9-41c0-4561-a808-54dfe081f5e6"
      },
      "source": [
        "random_majority_indices9=np.random.choice(majority_class_indices9,minority_class_len,replace=False)\n",
        "random_majority_indices10=np.random.choice(majority_class_indices10,minority_class_len,replace=False)\n",
        "random_majority_indices8=np.random.choice(majority_class_indices8,minority_class_len,replace=False)\n",
        "\n",
        "print(random_majority_indices9)"
      ],
      "execution_count": null,
      "outputs": [
        {
          "output_type": "stream",
          "text": [
            "[1497400 2632586  454244 ...  499484 2422691  740190]\n"
          ],
          "name": "stdout"
        }
      ]
    },
    {
      "cell_type": "code",
      "metadata": {
        "id": "SDnuiSLnENsU"
      },
      "source": [
        "minority_class_indices7=df[df['gestational_age']==7].index\n",
        "minority_class_indices11=df[df['gestational_age']==11].index\n",
        "minority_class_indices6=df[df['gestational_age']==6].index\n",
        "minority_class_indices5=df[df['gestational_age']==5].index\n",
        "minority_class_indices12=df[df['gestational_age']==12].index"
      ],
      "execution_count": null,
      "outputs": []
    },
    {
      "cell_type": "code",
      "metadata": {
        "id": "hKvbLS-PEe7X"
      },
      "source": [
        "undersample_indices=np.concatenate([random_majority_indices9,random_majority_indices10,random_majority_indices8,minority_class_indices7,minority_class_indices11,minority_class_indices6,minority_class_indices5,minority_class_indices12])"
      ],
      "execution_count": null,
      "outputs": []
    },
    {
      "cell_type": "code",
      "metadata": {
        "id": "AjIJ1b47E-Fo"
      },
      "source": [
        "undersample=df.loc[undersample_indices]"
      ],
      "execution_count": null,
      "outputs": []
    },
    {
      "cell_type": "code",
      "metadata": {
        "colab": {
          "base_uri": "https://localhost:8080/"
        },
        "id": "ZkPbZkncFaDU",
        "outputId": "92542e66-9e5d-4415-f7e7-20bf9394fbb3"
      },
      "source": [
        "undersample['gestational_age'].value_counts()"
      ],
      "execution_count": null,
      "outputs": [
        {
          "output_type": "execute_result",
          "data": {
            "text/plain": [
              "10    50000\n",
              "9     50000\n",
              "8     50000\n",
              "7     37916\n",
              "11    15947\n",
              "6     11989\n",
              "5      4038\n",
              "12     3536\n",
              "Name: gestational_age, dtype: int64"
            ]
          },
          "metadata": {
            "tags": []
          },
          "execution_count": 72
        }
      ]
    },
    {
      "cell_type": "code",
      "metadata": {
        "colab": {
          "base_uri": "https://localhost:8080/"
        },
        "id": "bbZE8DcwouHU",
        "outputId": "093ae424-448f-4765-af84-47e35d5a51e4"
      },
      "source": [
        "df.columns"
      ],
      "execution_count": null,
      "outputs": [
        {
          "output_type": "execute_result",
          "data": {
            "text/plain": [
              "Index(['ATTEND', 'BFACIL', 'DBWT', 'DLMP_MM', 'DLMP_YY', 'DMAR', 'DOB_TT',\n",
              "       'FAGECOMB', 'FEDUC', 'FHISPX', 'FRACE6', 'ILLB_R', 'ILOP_R', 'ILP_R',\n",
              "       'IP_GON', 'LD_INDL', 'MAGER', 'MBSTATE_REC', 'MEDUC', 'MHISPX',\n",
              "       'MM_AICU', 'MRACE15', 'MRACE31', 'MRAVE6', 'MTRAN', 'M_Ht_In',\n",
              "       'NO_INFEC', 'NO_MMORB', 'NO_RISKS', 'PAY', 'PAY_REC', 'PRECARE',\n",
              "       'PREVIS', 'PRIORDEAD', 'PRIORLIVE', 'PRIORTERM', 'PWgt_R', 'RDMETH_REC',\n",
              "       'RESTATUS', 'RF_CESAR', 'RF_CESARN', 'SEX', 'WTGAIN', 'first_birth?',\n",
              "       'plural_delivery', 'smoke_category', 'BMI_category', 'Neonatal',\n",
              "       'PRIORTERM_cat', 'PRIORLIVE_cat', 'gestational_age', 'first_live_birth',\n",
              "       'first_natal', 'MOM_weight', 'WTGAIN_div_MOM_weight',\n",
              "       'WTGAIN_div_length', 'WT_percent_gain'],\n",
              "      dtype='object')"
            ]
          },
          "metadata": {
            "tags": []
          },
          "execution_count": 73
        }
      ]
    },
    {
      "cell_type": "markdown",
      "metadata": {
        "id": "YmlogDB-SfGr"
      },
      "source": [
        "## Analysis"
      ]
    },
    {
      "cell_type": "code",
      "metadata": {
        "id": "JcFjrqNrVX6U"
      },
      "source": [
        "df_analysis=df[['DBWT','WTGAIN', 'NO_RISKS', 'ILLB_R', 'MAGER', 'PRECARE', 'RDMETH_REC', 'ILP_R', 'PREVIS', 'ATTEND', 'MEDUC', 'BFACIL', 'Neonatal', 'smoke_category', 'MRAVE6', 'gestational_age']]"
      ],
      "execution_count": null,
      "outputs": []
    },
    {
      "cell_type": "code",
      "metadata": {
        "colab": {
          "base_uri": "https://localhost:8080/",
          "height": 419
        },
        "id": "E84AvFbWWIyY",
        "outputId": "3a53366a-c647-4f0f-aa83-80a3f67e97b2"
      },
      "source": [
        "df_analysis"
      ],
      "execution_count": null,
      "outputs": [
        {
          "output_type": "execute_result",
          "data": {
            "text/html": [
              "<div>\n",
              "<style scoped>\n",
              "    .dataframe tbody tr th:only-of-type {\n",
              "        vertical-align: middle;\n",
              "    }\n",
              "\n",
              "    .dataframe tbody tr th {\n",
              "        vertical-align: top;\n",
              "    }\n",
              "\n",
              "    .dataframe thead th {\n",
              "        text-align: right;\n",
              "    }\n",
              "</style>\n",
              "<table border=\"1\" class=\"dataframe\">\n",
              "  <thead>\n",
              "    <tr style=\"text-align: right;\">\n",
              "      <th></th>\n",
              "      <th>DBWT</th>\n",
              "      <th>WTGAIN</th>\n",
              "      <th>NO_RISKS</th>\n",
              "      <th>ILLB_R</th>\n",
              "      <th>MAGER</th>\n",
              "      <th>PRECARE</th>\n",
              "      <th>RDMETH_REC</th>\n",
              "      <th>ILP_R</th>\n",
              "      <th>PREVIS</th>\n",
              "      <th>ATTEND</th>\n",
              "      <th>MEDUC</th>\n",
              "      <th>BFACIL</th>\n",
              "      <th>Neonatal</th>\n",
              "      <th>smoke_category</th>\n",
              "      <th>MRAVE6</th>\n",
              "      <th>gestational_age</th>\n",
              "    </tr>\n",
              "  </thead>\n",
              "  <tbody>\n",
              "    <tr>\n",
              "      <th>0</th>\n",
              "      <td>3657</td>\n",
              "      <td>41</td>\n",
              "      <td>1</td>\n",
              "      <td>16</td>\n",
              "      <td>30</td>\n",
              "      <td>3</td>\n",
              "      <td>1</td>\n",
              "      <td>16</td>\n",
              "      <td>8</td>\n",
              "      <td>1</td>\n",
              "      <td>6</td>\n",
              "      <td>1</td>\n",
              "      <td>1</td>\n",
              "      <td>0</td>\n",
              "      <td>1</td>\n",
              "      <td>9</td>\n",
              "    </tr>\n",
              "    <tr>\n",
              "      <th>1</th>\n",
              "      <td>3140</td>\n",
              "      <td>0</td>\n",
              "      <td>1</td>\n",
              "      <td>43</td>\n",
              "      <td>23</td>\n",
              "      <td>5</td>\n",
              "      <td>1</td>\n",
              "      <td>43</td>\n",
              "      <td>6</td>\n",
              "      <td>3</td>\n",
              "      <td>2</td>\n",
              "      <td>1</td>\n",
              "      <td>1</td>\n",
              "      <td>0</td>\n",
              "      <td>3</td>\n",
              "      <td>8</td>\n",
              "    </tr>\n",
              "    <tr>\n",
              "      <th>2</th>\n",
              "      <td>4082</td>\n",
              "      <td>47</td>\n",
              "      <td>1</td>\n",
              "      <td>39</td>\n",
              "      <td>26</td>\n",
              "      <td>2</td>\n",
              "      <td>1</td>\n",
              "      <td>39</td>\n",
              "      <td>13</td>\n",
              "      <td>4</td>\n",
              "      <td>6</td>\n",
              "      <td>2</td>\n",
              "      <td>1</td>\n",
              "      <td>0</td>\n",
              "      <td>1</td>\n",
              "      <td>10</td>\n",
              "    </tr>\n",
              "    <tr>\n",
              "      <th>3</th>\n",
              "      <td>3180</td>\n",
              "      <td>10</td>\n",
              "      <td>1</td>\n",
              "      <td>27</td>\n",
              "      <td>28</td>\n",
              "      <td>3</td>\n",
              "      <td>1</td>\n",
              "      <td>27</td>\n",
              "      <td>6</td>\n",
              "      <td>1</td>\n",
              "      <td>4</td>\n",
              "      <td>1</td>\n",
              "      <td>1</td>\n",
              "      <td>0</td>\n",
              "      <td>1</td>\n",
              "      <td>10</td>\n",
              "    </tr>\n",
              "    <tr>\n",
              "      <th>4</th>\n",
              "      <td>3230</td>\n",
              "      <td>29</td>\n",
              "      <td>1</td>\n",
              "      <td>888</td>\n",
              "      <td>31</td>\n",
              "      <td>3</td>\n",
              "      <td>3</td>\n",
              "      <td>888</td>\n",
              "      <td>18</td>\n",
              "      <td>1</td>\n",
              "      <td>3</td>\n",
              "      <td>1</td>\n",
              "      <td>1</td>\n",
              "      <td>0</td>\n",
              "      <td>1</td>\n",
              "      <td>10</td>\n",
              "    </tr>\n",
              "    <tr>\n",
              "      <th>...</th>\n",
              "      <td>...</td>\n",
              "      <td>...</td>\n",
              "      <td>...</td>\n",
              "      <td>...</td>\n",
              "      <td>...</td>\n",
              "      <td>...</td>\n",
              "      <td>...</td>\n",
              "      <td>...</td>\n",
              "      <td>...</td>\n",
              "      <td>...</td>\n",
              "      <td>...</td>\n",
              "      <td>...</td>\n",
              "      <td>...</td>\n",
              "      <td>...</td>\n",
              "      <td>...</td>\n",
              "      <td>...</td>\n",
              "    </tr>\n",
              "    <tr>\n",
              "      <th>2637297</th>\n",
              "      <td>3290</td>\n",
              "      <td>36</td>\n",
              "      <td>0</td>\n",
              "      <td>32</td>\n",
              "      <td>36</td>\n",
              "      <td>1</td>\n",
              "      <td>4</td>\n",
              "      <td>32</td>\n",
              "      <td>10</td>\n",
              "      <td>1</td>\n",
              "      <td>2</td>\n",
              "      <td>1</td>\n",
              "      <td>1</td>\n",
              "      <td>0</td>\n",
              "      <td>1</td>\n",
              "      <td>9</td>\n",
              "    </tr>\n",
              "    <tr>\n",
              "      <th>2637298</th>\n",
              "      <td>3310</td>\n",
              "      <td>47</td>\n",
              "      <td>0</td>\n",
              "      <td>888</td>\n",
              "      <td>17</td>\n",
              "      <td>2</td>\n",
              "      <td>1</td>\n",
              "      <td>888</td>\n",
              "      <td>6</td>\n",
              "      <td>1</td>\n",
              "      <td>2</td>\n",
              "      <td>1</td>\n",
              "      <td>1</td>\n",
              "      <td>0</td>\n",
              "      <td>2</td>\n",
              "      <td>9</td>\n",
              "    </tr>\n",
              "    <tr>\n",
              "      <th>2637299</th>\n",
              "      <td>3180</td>\n",
              "      <td>15</td>\n",
              "      <td>1</td>\n",
              "      <td>888</td>\n",
              "      <td>23</td>\n",
              "      <td>1</td>\n",
              "      <td>3</td>\n",
              "      <td>888</td>\n",
              "      <td>10</td>\n",
              "      <td>1</td>\n",
              "      <td>3</td>\n",
              "      <td>1</td>\n",
              "      <td>1</td>\n",
              "      <td>0</td>\n",
              "      <td>1</td>\n",
              "      <td>9</td>\n",
              "    </tr>\n",
              "    <tr>\n",
              "      <th>2637300</th>\n",
              "      <td>3655</td>\n",
              "      <td>32</td>\n",
              "      <td>0</td>\n",
              "      <td>85</td>\n",
              "      <td>33</td>\n",
              "      <td>3</td>\n",
              "      <td>4</td>\n",
              "      <td>85</td>\n",
              "      <td>9</td>\n",
              "      <td>1</td>\n",
              "      <td>5</td>\n",
              "      <td>1</td>\n",
              "      <td>1</td>\n",
              "      <td>0</td>\n",
              "      <td>2</td>\n",
              "      <td>8</td>\n",
              "    </tr>\n",
              "    <tr>\n",
              "      <th>2637301</th>\n",
              "      <td>2455</td>\n",
              "      <td>72</td>\n",
              "      <td>1</td>\n",
              "      <td>888</td>\n",
              "      <td>30</td>\n",
              "      <td>2</td>\n",
              "      <td>1</td>\n",
              "      <td>888</td>\n",
              "      <td>8</td>\n",
              "      <td>1</td>\n",
              "      <td>5</td>\n",
              "      <td>1</td>\n",
              "      <td>1</td>\n",
              "      <td>0</td>\n",
              "      <td>2</td>\n",
              "      <td>9</td>\n",
              "    </tr>\n",
              "  </tbody>\n",
              "</table>\n",
              "<p>2637302 rows × 16 columns</p>\n",
              "</div>"
            ],
            "text/plain": [
              "         DBWT  WTGAIN  NO_RISKS  ...  smoke_category  MRAVE6  gestational_age\n",
              "0        3657      41         1  ...               0       1                9\n",
              "1        3140       0         1  ...               0       3                8\n",
              "2        4082      47         1  ...               0       1               10\n",
              "3        3180      10         1  ...               0       1               10\n",
              "4        3230      29         1  ...               0       1               10\n",
              "...       ...     ...       ...  ...             ...     ...              ...\n",
              "2637297  3290      36         0  ...               0       1                9\n",
              "2637298  3310      47         0  ...               0       2                9\n",
              "2637299  3180      15         1  ...               0       1                9\n",
              "2637300  3655      32         0  ...               0       2                8\n",
              "2637301  2455      72         1  ...               0       2                9\n",
              "\n",
              "[2637302 rows x 16 columns]"
            ]
          },
          "metadata": {
            "tags": []
          },
          "execution_count": 84
        }
      ]
    },
    {
      "cell_type": "code",
      "metadata": {
        "id": "inqEWOoYShQN"
      },
      "source": [
        "import matplotlib.pyplot as plt\n",
        "import seaborn as sns"
      ],
      "execution_count": null,
      "outputs": []
    },
    {
      "cell_type": "code",
      "metadata": {
        "id": "Y61fKRUTVKtc"
      },
      "source": [
        "# Correlation matrix\n",
        "\n",
        "import matplotlib.pyplot as plt \n",
        "def plotCorrelationMatrix(df, graphWidth):\n",
        "    filename = df.dataframeName\n",
        "    df = df.dropna('columns') # drop columns with NaN\n",
        "    df = df[[col for col in df if df[col].nunique() > 1]] # keep columns where there are more than 1 unique values\n",
        "    if df.shape[1] < 2:\n",
        "        print(f'No correlation plots shown: The number of non-NaN or constant columns ({df.shape[1]}) is less than 2')\n",
        "        return\n",
        "    corr = df.corr()\n",
        "    plt.figure(num=None, figsize=(graphWidth, graphWidth), dpi=80, facecolor='w', edgecolor='k')\n",
        "    corrMat = plt.matshow(corr, fignum = 1)\n",
        "    plt.xticks(range(len(corr.columns)), corr.columns, rotation=90)\n",
        "    plt.yticks(range(len(corr.columns)), corr.columns)\n",
        "    plt.gca().xaxis.tick_bottom()\n",
        "    plt.colorbar(corrMat)\n",
        "    plt.title(f'Correlation Matrix for {filename}', fontsize=15)\n",
        "    plt.show()"
      ],
      "execution_count": null,
      "outputs": []
    },
    {
      "cell_type": "code",
      "metadata": {
        "colab": {
          "base_uri": "https://localhost:8080/",
          "height": 749
        },
        "id": "e5kXdCLoVLmY",
        "outputId": "aef33cb4-be88-4a7b-f401-6eb2e131c054"
      },
      "source": [
        "df_analysis.dataframeName = 'US_births(2018).csv'\n",
        "plotCorrelationMatrix(df_analysis, 11)"
      ],
      "execution_count": null,
      "outputs": [
        {
          "output_type": "display_data",
          "data": {
            "image/png": "[encoded data removed]",
            "text/plain": [
              "<Figure size 880x880 with 2 Axes>"
            ]
          },
          "metadata": {
            "tags": []
          }
        }
      ]
    },
    {
      "cell_type": "code",
      "metadata": {
        "id": "M7yrXouoZfuT"
      },
      "source": [
        "# Distribution graphs (histogram/bar graph) of column data\n",
        "def plotPerColumnDistribution(df, nGraphShown, nGraphPerRow):\n",
        "    nunique = df.nunique()\n",
        "    df = df[[col for col in df if nunique[col] > 1 and nunique[col] < 50]] # For displaying purposes, pick columns that have between 1 and 50 unique values\n",
        "    nRow, nCol = df.shape\n",
        "    columnNames = list(df)\n",
        "    nGraphRow = (nCol + nGraphPerRow - 1) / nGraphPerRow\n",
        "    plt.figure(num = None, figsize = (6 * nGraphPerRow, 8 * nGraphRow), dpi = 80, facecolor = 'w', edgecolor = 'k')\n",
        "    for i in range(min(nCol, nGraphShown)):\n",
        "        plt.subplot(nGraphRow, nGraphPerRow, i + 1)\n",
        "        columnDf = df.iloc[:, i]\n",
        "        if (not np.issubdtype(type(columnDf.iloc[0]), np.number)):\n",
        "            valueCounts = columnDf.value_counts()\n",
        "            valueCounts.plot.bar()\n",
        "        else:\n",
        "            columnDf.hist()\n",
        "        plt.ylabel('counts')\n",
        "        plt.xticks(rotation = 90)\n",
        "        plt.title(f'{columnNames[i]} (column {i})')\n",
        "    plt.tight_layout(pad = 1.0, w_pad = 1.0, h_pad = 1.0)\n",
        "    plt.show()"
      ],
      "execution_count": null,
      "outputs": []
    },
    {
      "cell_type": "code",
      "metadata": {
        "colab": {
          "base_uri": "https://localhost:8080/",
          "height": 1000
        },
        "id": "VwK-zPZgZ6vU",
        "outputId": "94cc1cf4-868c-4823-95f9-12c6444f137b"
      },
      "source": [
        "plotPerColumnDistribution(df_analysis, 10, 5)"
      ],
      "execution_count": null,
      "outputs": [
        {
          "output_type": "display_data",
          "data": {
            "image/png": "[encoded data removed]",
            "text/plain": [
              "<Figure size 2400x1024 with 4 Axes>"
            ]
          },
          "metadata": {
            "tags": []
          }
        }
      ]
    },
    {
      "cell_type": "code",
      "metadata": {
        "id": "Q2x324pXZ0y5"
      },
      "source": [
        "# Scatter and density plots\n",
        "def plotScatterMatrix(df, plotSize, textSize):\n",
        "    df = df.select_dtypes(include =[np.number]) # keep only numerical columns\n",
        "    # Remove rows and columns that would lead to df being singular\n",
        "    df = df.dropna('columns')\n",
        "    df = df[[col for col in df if df[col].nunique() > 1]] # keep columns where there are more than 1 unique values\n",
        "    columnNames = list(df)\n",
        "    if len(columnNames) > 10: # reduce the number of columns for matrix inversion of kernel density plots\n",
        "        columnNames = columnNames[:10]\n",
        "    df = df[columnNames]\n",
        "    ax = pd.plotting.scatter_matrix(df, alpha=0.75, figsize=[plotSize, plotSize], diagonal='kde')\n",
        "    corrs = df.corr().values\n",
        "    for i, j in zip(*plt.np.triu_indices_from(ax, k = 1)):\n",
        "        ax[i, j].annotate('Corr. coef = %.3f' % corrs[i, j], (0.8, 0.2), xycoords='axes fraction', ha='center', va='center', size=textSize)\n",
        "    plt.suptitle('Scatter and Density Plot')\n",
        "    plt.show()"
      ],
      "execution_count": null,
      "outputs": []
    },
    {
      "cell_type": "code",
      "metadata": {
        "colab": {
          "base_uri": "https://localhost:8080/",
          "height": 1000
        },
        "id": "a57BQXUvaFik",
        "outputId": "8619f132-00f1-41d7-b683-10c40e259e6a"
      },
      "source": [
        "plotScatterMatrix(df_analysis, 20, 10)"
      ],
      "execution_count": null,
      "outputs": [
        {
          "output_type": "display_data",
          "data": {
            "image/png": "[encoded data removed]",
            "text/plain": [
              "<Figure size 1440x1440 with 49 Axes>"
            ]
          },
          "metadata": {
            "tags": [],
            "needs_background": "light"
          }
        }
      ]
    },
    {
      "cell_type": "markdown",
      "metadata": {
        "id": "DeDwfpO6n23a"
      },
      "source": [
        "## ML Model "
      ]
    },
    {
      "cell_type": "markdown",
      "metadata": {
        "id": "FSP0S0W5onG5"
      },
      "source": [
        "### Split Data"
      ]
    },
    {
      "cell_type": "code",
      "metadata": {
        "id": "Ke4OwNtHn7QB"
      },
      "source": [
        "from sklearn.model_selection import train_test_split\n",
        "df_train, df_test = train_test_split(undersample, test_size = 0.2)"
      ],
      "execution_count": null,
      "outputs": []
    },
    {
      "cell_type": "code",
      "metadata": {
        "id": "adssVuvEoKTo"
      },
      "source": [
        "tgt_train = df_train['gestational_age']\n",
        "tgt_test = df_test['gestational_age']\n",
        "df_train = df_train.drop(['gestational_age'], axis='columns')\n",
        "df_test = df_test.drop(['gestational_age'], axis='columns')"
      ],
      "execution_count": null,
      "outputs": []
    },
    {
      "cell_type": "markdown",
      "metadata": {
        "id": "00yhGCCQMXhW"
      },
      "source": [
        "### Reports"
      ]
    },
    {
      "cell_type": "code",
      "metadata": {
        "id": "E0qh7FkcMARL"
      },
      "source": [
        "from sklearn.metrics import accuracy_score\n",
        "from sklearn.metrics import precision_score, recall_score\n",
        "from sklearn.metrics import f1_score, roc_auc_score, roc_curve\n",
        "from sklearn import metrics"
      ],
      "execution_count": null,
      "outputs": []
    },
    {
      "cell_type": "code",
      "metadata": {
        "id": "TA6m1Vc2Lc9v"
      },
      "source": [
        "def generate_model_report(y_actual, y_predicted):\n",
        "    print(\"Accuracy = \" , accuracy_score(y_actual, y_predicted))\n",
        "    print(\"Precision = \" ,precision_score(y_actual, y_predicted))\n",
        "    print(\"Recall = \" ,recall_score(y_actual, y_predicted))\n",
        "    print(\"F1 Score = \" ,f1_score(y_actual, y_predicted))\n",
        "    pass"
      ],
      "execution_count": null,
      "outputs": []
    },
    {
      "cell_type": "code",
      "metadata": {
        "id": "SmeAxozGMQXn"
      },
      "source": [
        "def generate_auc_roc_curve(clf, X_test):\n",
        "    y_pred_proba = clf.predict_proba(X_test)[:, 1]\n",
        "    fpr, tpr, thresholds = roc_curve(Y_test,  y_pred_proba)\n",
        "    auc = roc_auc_score(Y_test, y_pred_proba)\n",
        "    plt.plot(fpr,tpr,label=\"AUC ROC Curve with Area Under the curve =\"+str(auc))\n",
        "    plt.legend(loc=4)\n",
        "    plt.show()\n",
        "    pass"
      ],
      "execution_count": null,
      "outputs": []
    },
    {
      "cell_type": "markdown",
      "metadata": {
        "id": "X02V9CV8orD_"
      },
      "source": [
        "### Classifier-XGBoost"
      ]
    },
    {
      "cell_type": "code",
      "metadata": {
        "id": "6M-g945MoUig"
      },
      "source": [
        "from xgboost import XGBClassifier"
      ],
      "execution_count": null,
      "outputs": []
    },
    {
      "cell_type": "code",
      "metadata": {
        "id": "WORPkYwroVSM"
      },
      "source": [
        "xgb = XGBClassifier(seed=42)"
      ],
      "execution_count": null,
      "outputs": []
    },
    {
      "cell_type": "code",
      "metadata": {
        "colab": {
          "base_uri": "https://localhost:8080/"
        },
        "id": "0Qzyx96qoXWH",
        "outputId": "c5fc9a2f-888d-4f53-f668-10c854935cd5"
      },
      "source": [
        "xgb.fit(df_train,tgt_train)"
      ],
      "execution_count": null,
      "outputs": [
        {
          "output_type": "execute_result",
          "data": {
            "text/plain": [
              "XGBClassifier(base_score=0.5, booster='gbtree', colsample_bylevel=1,\n",
              "              colsample_bynode=1, colsample_bytree=1, gamma=0,\n",
              "              learning_rate=0.1, max_delta_step=0, max_depth=3,\n",
              "              min_child_weight=1, missing=None, n_estimators=100, n_jobs=1,\n",
              "              nthread=None, objective='multi:softprob', random_state=0,\n",
              "              reg_alpha=0, reg_lambda=1, scale_pos_weight=1, seed=42,\n",
              "              silent=None, subsample=1, verbosity=1)"
            ]
          },
          "metadata": {
            "tags": []
          },
          "execution_count": 89
        }
      ]
    },
    {
      "cell_type": "code",
      "metadata": {
        "colab": {
          "base_uri": "https://localhost:8080/"
        },
        "id": "usHutyzSofVy",
        "outputId": "400cb993-eb2f-4eed-ecce-1778db434cdb"
      },
      "source": [
        "xgb.score(df_test, tgt_test)"
      ],
      "execution_count": null,
      "outputs": [
        {
          "output_type": "execute_result",
          "data": {
            "text/plain": [
              "0.7935371257217025"
            ]
          },
          "metadata": {
            "tags": []
          },
          "execution_count": 90
        }
      ]
    },
    {
      "cell_type": "code",
      "metadata": {
        "colab": {
          "base_uri": "https://localhost:8080/"
        },
        "id": "bzFyMp5VoicS",
        "outputId": "830b9f44-df44-434e-8b94-134423233df4"
      },
      "source": [
        "features_list = list(df_train.columns)\n",
        "feature_imp = pd.Series(xgb.feature_importances_, index=features_list).sort_values(ascending=False)\n",
        "print(feature_imp)"
      ],
      "execution_count": null,
      "outputs": [
        {
          "output_type": "stream",
          "text": [
            "DBWT                     0.184967\n",
            "WTGAIN                   0.143830\n",
            "DLMP_MM                  0.107981\n",
            "WTGAIN_div_length        0.091938\n",
            "NO_RISKS                 0.079445\n",
            "DLMP_YY                  0.053048\n",
            "ILLB_R                   0.052486\n",
            "MAGER                    0.043147\n",
            "PRECARE                  0.038051\n",
            "RDMETH_REC               0.031872\n",
            "ILP_R                    0.027041\n",
            "PREVIS                   0.022924\n",
            "ILOP_R                   0.020572\n",
            "WTGAIN_div_MOM_weight    0.019342\n",
            "ATTEND                   0.018763\n",
            "WT_percent_gain          0.014038\n",
            "FEDUC                    0.010585\n",
            "MEDUC                    0.009368\n",
            "LD_INDL                  0.009026\n",
            "SEX                      0.007270\n",
            "DOB_TT                   0.007241\n",
            "MOM_weight               0.005412\n",
            "BFACIL                   0.000988\n",
            "M_Ht_In                  0.000664\n",
            "PRIORLIVE_cat            0.000000\n",
            "BMI_category             0.000000\n",
            "IP_GON                   0.000000\n",
            "Neonatal                 0.000000\n",
            "PRIORTERM_cat            0.000000\n",
            "RF_CESAR                 0.000000\n",
            "FRACE6                   0.000000\n",
            "FHISPX                   0.000000\n",
            "FAGECOMB                 0.000000\n",
            "DMAR                     0.000000\n",
            "first_live_birth         0.000000\n",
            "first_natal              0.000000\n",
            "MBSTATE_REC              0.000000\n",
            "MHISPX                   0.000000\n",
            "RESTATUS                 0.000000\n",
            "MM_AICU                  0.000000\n",
            "RF_CESARN                0.000000\n",
            "PWgt_R                   0.000000\n",
            "PRIORTERM                0.000000\n",
            "PRIORLIVE                0.000000\n",
            "PRIORDEAD                0.000000\n",
            "first_birth?             0.000000\n",
            "PAY_REC                  0.000000\n",
            "PAY                      0.000000\n",
            "plural_delivery          0.000000\n",
            "smoke_category           0.000000\n",
            "NO_INFEC                 0.000000\n",
            "MTRAN                    0.000000\n",
            "MRAVE6                   0.000000\n",
            "MRACE31                  0.000000\n",
            "MRACE15                  0.000000\n",
            "NO_MMORB                 0.000000\n",
            "dtype: float32\n"
          ],
          "name": "stdout"
        }
      ]
    },
    {
      "cell_type": "code",
      "metadata": {
        "id": "x-xwXSQ2GVmZ"
      },
      "source": [
        "tgt_test_pred=xgb.predict(df_test)"
      ],
      "execution_count": null,
      "outputs": []
    },
    {
      "cell_type": "code",
      "metadata": {
        "id": "BbuS3A68M_jL"
      },
      "source": [
        "from sklearn.metrics import classification_report\n",
        "import matplotlib.pyplot as plt\n",
        "from mlxtend.evaluate import confusion_matrix"
      ],
      "execution_count": null,
      "outputs": []
    },
    {
      "cell_type": "code",
      "metadata": {
        "id": "1NBfQIdTOEVZ"
      },
      "source": [
        "cm = confusion_matrix(tgt_test, tgt_test_pred, binary=False)"
      ],
      "execution_count": null,
      "outputs": []
    },
    {
      "cell_type": "code",
      "metadata": {
        "colab": {
          "base_uri": "https://localhost:8080/"
        },
        "id": "3gAKrqaOOi4_",
        "outputId": "1c7ded3c-d0cd-4409-8313-712000adcb97"
      },
      "source": [
        "cm"
      ],
      "execution_count": null,
      "outputs": [
        {
          "output_type": "execute_result",
          "data": {
            "text/plain": [
              "array([[ 457,  260,   52,   23,    8,   10,    0,    0],\n",
              "       [  63, 1464,  648,  148,   53,   27,    0,    0],\n",
              "       [  14,  292, 5927, 1098,  191,  144,    0,    0],\n",
              "       [   1,    9,  504, 8138,  797,  394,    0,    0],\n",
              "       [   1,    0,   51,  931, 8132,  897,    0,    0],\n",
              "       [   0,    2,   26,  317,  359, 9310,    5,    0],\n",
              "       [   0,    1,   25,  149,  140, 1050, 1842,    0],\n",
              "       [   0,    0,    8,   34,   39,  188,  267,  190]])"
            ]
          },
          "metadata": {
            "tags": []
          },
          "execution_count": 95
        }
      ]
    },
    {
      "cell_type": "code",
      "metadata": {
        "id": "zWEcIE-oOqhD"
      },
      "source": [
        "from sklearn import metrics"
      ],
      "execution_count": null,
      "outputs": []
    },
    {
      "cell_type": "code",
      "metadata": {
        "colab": {
          "base_uri": "https://localhost:8080/"
        },
        "id": "Pr0544RnOeNT",
        "outputId": "cafdf9a6-3019-425e-dc1e-3d0245ddb508"
      },
      "source": [
        "print(metrics.classification_report(tgt_test, tgt_test_pred))"
      ],
      "execution_count": null,
      "outputs": [
        {
          "output_type": "stream",
          "text": [
            "              precision    recall  f1-score   support\n",
            "\n",
            "           5       0.85      0.56      0.68       810\n",
            "           6       0.72      0.61      0.66      2403\n",
            "           7       0.82      0.77      0.80      7666\n",
            "           8       0.75      0.83      0.79      9843\n",
            "           9       0.84      0.81      0.82     10012\n",
            "          10       0.77      0.93      0.84     10019\n",
            "          11       0.87      0.57      0.69      3207\n",
            "          12       1.00      0.26      0.41       726\n",
            "\n",
            "    accuracy                           0.79     44686\n",
            "   macro avg       0.83      0.67      0.71     44686\n",
            "weighted avg       0.80      0.79      0.79     44686\n",
            "\n"
          ],
          "name": "stdout"
        }
      ]
    },
    {
      "cell_type": "markdown",
      "metadata": {
        "id": "YjyyDTu7PYsH"
      },
      "source": [
        "### Logistic Regression"
      ]
    },
    {
      "cell_type": "code",
      "metadata": {
        "id": "7Lgm0NRKPbgX"
      },
      "source": [
        "from sklearn.linear_model import LogisticRegression"
      ],
      "execution_count": null,
      "outputs": []
    },
    {
      "cell_type": "code",
      "metadata": {
        "colab": {
          "base_uri": "https://localhost:8080/"
        },
        "id": "aD4OwvI9P31A",
        "outputId": "fda61661-9316-45ac-aabb-ab8b2641fbb7"
      },
      "source": [
        "LR1 = LogisticRegression().fit(df_train,tgt_train)"
      ],
      "execution_count": null,
      "outputs": [
        {
          "output_type": "stream",
          "text": [
            "/usr/local/lib/python3.7/dist-packages/sklearn/linear_model/_logistic.py:940: ConvergenceWarning: lbfgs failed to converge (status=1):\n",
            "STOP: TOTAL NO. of ITERATIONS REACHED LIMIT.\n",
            "\n",
            "Increase the number of iterations (max_iter) or scale the data as shown in:\n",
            "    https://scikit-learn.org/stable/modules/preprocessing.html\n",
            "Please also refer to the documentation for alternative solver options:\n",
            "    https://scikit-learn.org/stable/modules/linear_model.html#logistic-regression\n",
            "  extra_warning_msg=_LOGISTIC_SOLVER_CONVERGENCE_MSG)\n"
          ],
          "name": "stderr"
        }
      ]
    },
    {
      "cell_type": "code",
      "metadata": {
        "id": "UF6yjQ37QJuA"
      },
      "source": [
        "tgt_test_Pred = LR1.predict(df_test)"
      ],
      "execution_count": null,
      "outputs": []
    },
    {
      "cell_type": "code",
      "metadata": {
        "colab": {
          "base_uri": "https://localhost:8080/"
        },
        "id": "N4mRUZccRDQw",
        "outputId": "42a3e5b4-d25f-4fc0-879e-2310d68efc58"
      },
      "source": [
        "print(metrics.classification_report(tgt_test, tgt_test_Pred))"
      ],
      "execution_count": null,
      "outputs": [
        {
          "output_type": "stream",
          "text": [
            "              precision    recall  f1-score   support\n",
            "\n",
            "           5       0.00      0.00      0.00       810\n",
            "           6       0.37      0.11      0.17      2403\n",
            "           7       0.57      0.67      0.62      7666\n",
            "           8       0.39      0.49      0.43      9843\n",
            "           9       0.32      0.27      0.29     10012\n",
            "          10       0.40      0.56      0.46     10019\n",
            "          11       0.00      0.00      0.00      3207\n",
            "          12       0.00      0.00      0.00       726\n",
            "\n",
            "    accuracy                           0.42     44686\n",
            "   macro avg       0.26      0.26      0.25     44686\n",
            "weighted avg       0.36      0.42      0.38     44686\n",
            "\n"
          ],
          "name": "stdout"
        },
        {
          "output_type": "stream",
          "text": [
            "/usr/local/lib/python3.7/dist-packages/sklearn/metrics/_classification.py:1272: UndefinedMetricWarning: Precision and F-score are ill-defined and being set to 0.0 in labels with no predicted samples. Use `zero_division` parameter to control this behavior.\n",
            "  _warn_prf(average, modifier, msg_start, len(result))\n"
          ],
          "name": "stderr"
        }
      ]
    },
    {
      "cell_type": "code",
      "metadata": {
        "colab": {
          "base_uri": "https://localhost:8080/"
        },
        "id": "lqgZs0CToEpc",
        "outputId": "644817eb-b036-44ad-e004-84497ec43a7c"
      },
      "source": [
        "LR1.score(df_test, tgt_test)"
      ],
      "execution_count": null,
      "outputs": [
        {
          "output_type": "execute_result",
          "data": {
            "text/plain": [
              "0.41500693729579735"
            ]
          },
          "metadata": {
            "tags": []
          },
          "execution_count": 103
        }
      ]
    },
    {
      "cell_type": "markdown",
      "metadata": {
        "id": "X_97vWnSR5uB"
      },
      "source": [
        "### Random Forest Classfier"
      ]
    },
    {
      "cell_type": "code",
      "metadata": {
        "id": "7HELxQD6R5Uu"
      },
      "source": [
        "from sklearn.ensemble import RandomForestClassifier\n",
        "model = RandomForestClassifier(n_estimators=350, max_depth=40, criterion=\"entropy\")"
      ],
      "execution_count": null,
      "outputs": []
    },
    {
      "cell_type": "code",
      "metadata": {
        "id": "nroDS2V1SFj3",
        "colab": {
          "base_uri": "https://localhost:8080/"
        },
        "outputId": "b2cbf5e3-69cf-4039-8941-cccca0cd58a4"
      },
      "source": [
        "model.fit(df_train,tgt_train)"
      ],
      "execution_count": null,
      "outputs": [
        {
          "output_type": "execute_result",
          "data": {
            "text/plain": [
              "RandomForestClassifier(bootstrap=True, ccp_alpha=0.0, class_weight=None,\n",
              "                       criterion='entropy', max_depth=40, max_features='auto',\n",
              "                       max_leaf_nodes=None, max_samples=None,\n",
              "                       min_impurity_decrease=0.0, min_impurity_split=None,\n",
              "                       min_samples_leaf=1, min_samples_split=2,\n",
              "                       min_weight_fraction_leaf=0.0, n_estimators=350,\n",
              "                       n_jobs=None, oob_score=False, random_state=None,\n",
              "                       verbose=0, warm_start=False)"
            ]
          },
          "metadata": {
            "tags": []
          },
          "execution_count": 79
        }
      ]
    },
    {
      "cell_type": "code",
      "metadata": {
        "id": "6uzdpQHvcI7S"
      },
      "source": [
        "undersample.info()"
      ],
      "execution_count": null,
      "outputs": []
    },
    {
      "cell_type": "code",
      "metadata": {
        "id": "DwwyEO7-SRJK"
      },
      "source": [
        "tgt_test_Pred_RF = model.predict(df_test)"
      ],
      "execution_count": null,
      "outputs": []
    },
    {
      "cell_type": "code",
      "metadata": {
        "id": "PPgr_AeESTvs",
        "colab": {
          "base_uri": "https://localhost:8080/"
        },
        "outputId": "461fbeb5-d272-4d6a-e8f1-7e43fd66fc1b"
      },
      "source": [
        "print(metrics.classification_report(tgt_test,tgt_test_Pred_RF))"
      ],
      "execution_count": null,
      "outputs": [
        {
          "output_type": "stream",
          "text": [
            "              precision    recall  f1-score   support\n",
            "\n",
            "           5       0.87      0.44      0.58       810\n",
            "           6       0.75      0.55      0.63      2403\n",
            "           7       0.77      0.77      0.77      7666\n",
            "           8       0.71      0.85      0.78      9843\n",
            "           9       0.83      0.82      0.82     10012\n",
            "          10       0.72      0.89      0.80     10019\n",
            "          11       0.69      0.19      0.30      3207\n",
            "          12       1.00      0.01      0.02       726\n",
            "\n",
            "    accuracy                           0.75     44686\n",
            "   macro avg       0.79      0.56      0.59     44686\n",
            "weighted avg       0.76      0.75      0.73     44686\n",
            "\n"
          ],
          "name": "stdout"
        }
      ]
    },
    {
      "cell_type": "code",
      "metadata": {
        "colab": {
          "base_uri": "https://localhost:8080/"
        },
        "id": "ecG2v4Efm4cs",
        "outputId": "585f3fcb-ba4e-4767-dda4-d47799dcaf92"
      },
      "source": [
        "model.score(df_test, tgt_test)"
      ],
      "execution_count": null,
      "outputs": [
        {
          "output_type": "execute_result",
          "data": {
            "text/plain": [
              "0.7533455668442017"
            ]
          },
          "metadata": {
            "tags": []
          },
          "execution_count": 98
        }
      ]
    },
    {
      "cell_type": "code",
      "metadata": {
        "colab": {
          "base_uri": "https://localhost:8080/"
        },
        "id": "2AeIaAuGlGbP",
        "outputId": "abd57742-06cd-4f54-8a39-2cfc4f8bdec1"
      },
      "source": [
        "features_list = list(df_train.columns)\n",
        "feature_imp = pd.Series(model.feature_importances_, index=features_list).sort_values(ascending=False)\n",
        "print(feature_imp)"
      ],
      "execution_count": null,
      "outputs": [
        {
          "output_type": "stream",
          "text": [
            "DBWT                     0.161785\n",
            "WTGAIN_div_length        0.128482\n",
            "WTGAIN                   0.084840\n",
            "DLMP_MM                  0.046534\n",
            "PREVIS                   0.044380\n",
            "WTGAIN_div_MOM_weight    0.042477\n",
            "WT_percent_gain          0.041699\n",
            "MOM_weight               0.036322\n",
            "DOB_TT                   0.033114\n",
            "PWgt_R                   0.032787\n",
            "FAGECOMB                 0.026674\n",
            "MAGER                    0.026046\n",
            "M_Ht_In                  0.022685\n",
            "ILP_R                    0.022283\n",
            "ILLB_R                   0.020390\n",
            "PRECARE                  0.018126\n",
            "MEDUC                    0.016320\n",
            "FEDUC                    0.015924\n",
            "DLMP_YY                  0.015206\n",
            "BMI_category             0.011579\n",
            "RDMETH_REC               0.010967\n",
            "PRIORLIVE                0.008991\n",
            "ILOP_R                   0.008419\n",
            "FRACE6                   0.007960\n",
            "RESTATUS                 0.007535\n",
            "SEX                      0.007388\n",
            "NO_RISKS                 0.007224\n",
            "PAY                      0.007195\n",
            "MHISPX                   0.007135\n",
            "LD_INDL                  0.007036\n",
            "FHISPX                   0.007019\n",
            "PAY_REC                  0.006949\n",
            "ATTEND                   0.006558\n",
            "MRACE15                  0.005787\n",
            "MRACE31                  0.005155\n",
            "MRAVE6                   0.004934\n",
            "PRIORTERM                0.004774\n",
            "MBSTATE_REC              0.004625\n",
            "smoke_category           0.003686\n",
            "PRIORTERM_cat            0.002810\n",
            "first_natal              0.002808\n",
            "RF_CESARN                0.002593\n",
            "PRIORLIVE_cat            0.002072\n",
            "first_birth?             0.002024\n",
            "first_live_birth         0.002015\n",
            "plural_delivery          0.001631\n",
            "RF_CESAR                 0.001518\n",
            "MTRAN                    0.001500\n",
            "NO_INFEC                 0.000992\n",
            "BFACIL                   0.000784\n",
            "NO_MMORB                 0.000750\n",
            "PRIORDEAD                0.000563\n",
            "Neonatal                 0.000529\n",
            "DMAR                     0.000213\n",
            "MM_AICU                  0.000117\n",
            "IP_GON                   0.000087\n",
            "dtype: float64\n"
          ],
          "name": "stdout"
        }
      ]
    },
    {
      "cell_type": "markdown",
      "metadata": {
        "id": "RJ0yhcyfovgE"
      },
      "source": [
        "### SVM (did not run completely)"
      ]
    },
    {
      "cell_type": "code",
      "metadata": {
        "id": "Sou7TqFIoxbU"
      },
      "source": [
        "from sklearn.svm import SVC\n",
        "svm1=SVC(kernel=\"linear\", C=0.025,random_state=101)\n",
        "svm1.fit(df_train,tgt_train)\n",
        "tgt_test_Pred_svm = svm1.predict(df_test)"
      ],
      "execution_count": null,
      "outputs": []
    },
    {
      "cell_type": "code",
      "metadata": {
        "id": "fD3kEsdXpM4U"
      },
      "source": [
        "print(metrics.classification_report(tgt_test,tgt_test_Pred_svm))"
      ],
      "execution_count": null,
      "outputs": []
    },
    {
      "cell_type": "code",
      "metadata": {
        "id": "iyAfJ45DpP3c"
      },
      "source": [
        "svm1.score(df_test, tgt_test)"
      ],
      "execution_count": null,
      "outputs": []
    },
    {
      "cell_type": "markdown",
      "metadata": {
        "id": "ygEASInDtZFJ"
      },
      "source": [
        "### Oversample minority class"
      ]
    },
    {
      "cell_type": "code",
      "metadata": {
        "id": "vw826OjLvvWZ"
      },
      "source": [
        "undersample_new=undersample.copy()"
      ],
      "execution_count": null,
      "outputs": []
    },
    {
      "cell_type": "code",
      "metadata": {
        "id": "gNpLkteMtezk"
      },
      "source": [
        "\n",
        "#Define the dependent variable that needs to be predicted (labels)\n",
        "Y = undersample[\"gestational_age\"].values\n",
        "\n",
        "#Define the independent variables.\n",
        "X = undersample.drop(labels = [\"gestational_age\"], axis=1) "
      ],
      "execution_count": null,
      "outputs": []
    },
    {
      "cell_type": "code",
      "metadata": {
        "colab": {
          "base_uri": "https://localhost:8080/"
        },
        "id": "QjnJncJnuFWa",
        "outputId": "6e4e27f2-6ff1-4efd-baf1-21ab67d9d84c"
      },
      "source": [
        "from imblearn.over_sampling import SMOTE\n",
        "from collections import Counter"
      ],
      "execution_count": null,
      "outputs": [
        {
          "output_type": "stream",
          "text": [
            "/usr/local/lib/python3.7/dist-packages/sklearn/externals/six.py:31: FutureWarning: The module is deprecated in version 0.21 and will be removed in version 0.23 since we've dropped support for Python 2.7. Please rely on the official version of six (https://pypi.org/project/six/).\n",
            "  \"(https://pypi.org/project/six/).\", FutureWarning)\n",
            "/usr/local/lib/python3.7/dist-packages/sklearn/utils/deprecation.py:144: FutureWarning: The sklearn.neighbors.base module is  deprecated in version 0.22 and will be removed in version 0.24. The corresponding classes / functions should instead be imported from sklearn.neighbors. Anything that cannot be imported from sklearn.neighbors is now part of the private API.\n",
            "  warnings.warn(message, FutureWarning)\n"
          ],
          "name": "stderr"
        }
      ]
    },
    {
      "cell_type": "code",
      "metadata": {
        "colab": {
          "base_uri": "https://localhost:8080/"
        },
        "id": "8mqL1N8ruMdq",
        "outputId": "f4f2f05e-a967-401c-9380-a77659f7e56f"
      },
      "source": [
        "counter = Counter(Y)\n",
        "print(counter)"
      ],
      "execution_count": null,
      "outputs": [
        {
          "output_type": "stream",
          "text": [
            "Counter({9: 50000, 10: 50000, 8: 50000, 7: 37916, 11: 15947, 6: 11989, 5: 4038, 12: 3536})\n"
          ],
          "name": "stdout"
        }
      ]
    },
    {
      "cell_type": "code",
      "metadata": {
        "colab": {
          "base_uri": "https://localhost:8080/"
        },
        "id": "-kOkttyRuQa5",
        "outputId": "38d3ce4d-179b-49b3-c744-c03ffa884422"
      },
      "source": [
        "#transform the dataset\n",
        "oversample = SMOTE(k_neighbors=3)\n",
        "X, Y = oversample.fit_resample(X, Y)"
      ],
      "execution_count": null,
      "outputs": [
        {
          "output_type": "stream",
          "text": [
            "/usr/local/lib/python3.7/dist-packages/sklearn/utils/deprecation.py:87: FutureWarning: Function safe_indexing is deprecated; safe_indexing is deprecated in version 0.22 and will be removed in version 0.24.\n",
            "  warnings.warn(msg, category=FutureWarning)\n",
            "/usr/local/lib/python3.7/dist-packages/sklearn/utils/deprecation.py:87: FutureWarning: Function safe_indexing is deprecated; safe_indexing is deprecated in version 0.22 and will be removed in version 0.24.\n",
            "  warnings.warn(msg, category=FutureWarning)\n",
            "/usr/local/lib/python3.7/dist-packages/sklearn/utils/deprecation.py:87: FutureWarning: Function safe_indexing is deprecated; safe_indexing is deprecated in version 0.22 and will be removed in version 0.24.\n",
            "  warnings.warn(msg, category=FutureWarning)\n",
            "/usr/local/lib/python3.7/dist-packages/sklearn/utils/deprecation.py:87: FutureWarning: Function safe_indexing is deprecated; safe_indexing is deprecated in version 0.22 and will be removed in version 0.24.\n",
            "  warnings.warn(msg, category=FutureWarning)\n",
            "/usr/local/lib/python3.7/dist-packages/sklearn/utils/deprecation.py:87: FutureWarning: Function safe_indexing is deprecated; safe_indexing is deprecated in version 0.22 and will be removed in version 0.24.\n",
            "  warnings.warn(msg, category=FutureWarning)\n"
          ],
          "name": "stderr"
        }
      ]
    },
    {
      "cell_type": "code",
      "metadata": {
        "colab": {
          "base_uri": "https://localhost:8080/"
        },
        "id": "8BtA72rVuRNr",
        "outputId": "9c1fbfb0-9aaf-4eb6-9a4c-f0d2ac579745"
      },
      "source": [
        "counter = Counter(Y)\n",
        "print(counter)"
      ],
      "execution_count": null,
      "outputs": [
        {
          "output_type": "stream",
          "text": [
            "Counter({9: 50000, 10: 50000, 8: 50000, 7: 50000, 11: 50000, 6: 50000, 5: 50000, 12: 50000})\n"
          ],
          "name": "stdout"
        }
      ]
    },
    {
      "cell_type": "code",
      "metadata": {
        "id": "t-gSkJDSuT74"
      },
      "source": [
        "#Split data into train and test to verify accuracy after fitting the model. \n",
        "from sklearn.model_selection import train_test_split\n",
        "X_train, X_test, y_train, y_test = train_test_split(X, Y, test_size=0.2, random_state=42)"
      ],
      "execution_count": null,
      "outputs": []
    },
    {
      "cell_type": "markdown",
      "metadata": {
        "id": "lfhm2AvYwE-O"
      },
      "source": [
        "#### XGBoost"
      ]
    },
    {
      "cell_type": "code",
      "metadata": {
        "id": "SXdNbpQpufy0"
      },
      "source": [
        "from xgboost import XGBClassifier\n",
        "xgbS = XGBClassifier(seed=42)"
      ],
      "execution_count": null,
      "outputs": []
    },
    {
      "cell_type": "code",
      "metadata": {
        "colab": {
          "base_uri": "https://localhost:8080/"
        },
        "id": "5HIwDzhRuijy",
        "outputId": "6e3643e3-7a35-49eb-c3d9-eae58e695dcc"
      },
      "source": [
        "xgbS.fit(X_train,y_train)"
      ],
      "execution_count": null,
      "outputs": [
        {
          "output_type": "execute_result",
          "data": {
            "text/plain": [
              "XGBClassifier(base_score=0.5, booster='gbtree', colsample_bylevel=1,\n",
              "              colsample_bynode=1, colsample_bytree=1, gamma=0,\n",
              "              learning_rate=0.1, max_delta_step=0, max_depth=3,\n",
              "              min_child_weight=1, missing=None, n_estimators=100, n_jobs=1,\n",
              "              nthread=None, objective='multi:softprob', random_state=0,\n",
              "              reg_alpha=0, reg_lambda=1, scale_pos_weight=1, seed=42,\n",
              "              silent=None, subsample=1, verbosity=1)"
            ]
          },
          "metadata": {
            "tags": []
          },
          "execution_count": 87
        }
      ]
    },
    {
      "cell_type": "code",
      "metadata": {
        "colab": {
          "base_uri": "https://localhost:8080/"
        },
        "id": "QLKXQDJ_ulVl",
        "outputId": "ba35794b-031d-4840-8a90-b5fef02cc438"
      },
      "source": [
        "#Accuracy\n",
        "xgbS.score(X_test, y_test)"
      ],
      "execution_count": null,
      "outputs": [
        {
          "output_type": "execute_result",
          "data": {
            "text/plain": [
              "0.5959"
            ]
          },
          "metadata": {
            "tags": []
          },
          "execution_count": 88
        }
      ]
    },
    {
      "cell_type": "code",
      "metadata": {
        "colab": {
          "base_uri": "https://localhost:8080/"
        },
        "id": "XEq9g7wewwI8",
        "outputId": "9b6db599-afdb-4371-a0a1-a153da3a27f1"
      },
      "source": [
        "tgt_test_Pred_Boost = xgbS.predict(X_test)\n",
        "print(metrics.classification_report(y_test,tgt_test_Pred_Boost))"
      ],
      "execution_count": null,
      "outputs": [
        {
          "output_type": "stream",
          "text": [
            "              precision    recall  f1-score   support\n",
            "\n",
            "           5       0.83      0.93      0.88      9870\n",
            "           6       0.79      0.50      0.62     10035\n",
            "           7       0.65      0.64      0.65     10158\n",
            "           8       0.59      0.65      0.62      9888\n",
            "           9       0.53      0.58      0.55     10010\n",
            "          10       0.53      0.73      0.62      9996\n",
            "          11       0.43      0.66      0.52     10077\n",
            "          12       0.49      0.07      0.12      9966\n",
            "\n",
            "    accuracy                           0.60     80000\n",
            "   macro avg       0.60      0.60      0.57     80000\n",
            "weighted avg       0.60      0.60      0.57     80000\n",
            "\n"
          ],
          "name": "stdout"
        }
      ]
    },
    {
      "cell_type": "code",
      "metadata": {
        "id": "fgkxmpVYyFQu"
      },
      "source": [
        "features_list = list(X_train.columns)\n",
        "feature_imp = pd.Series(xgbS.feature_importances_, index=features_list).sort_values(ascending=False)\n",
        "print(feature_imp)"
      ],
      "execution_count": null,
      "outputs": []
    },
    {
      "cell_type": "markdown",
      "metadata": {
        "id": "0CcFGkK4usFr"
      },
      "source": [
        "#### Random Forest(was taking lot of time to execute)"
      ]
    },
    {
      "cell_type": "code",
      "metadata": {
        "id": "KcnlfD6yusZd"
      },
      "source": [
        "from sklearn.ensemble import RandomForestClassifier"
      ],
      "execution_count": null,
      "outputs": []
    },
    {
      "cell_type": "code",
      "metadata": {
        "id": "PQ60Uiz5utKI"
      },
      "source": [
        "RF_S = RandomForestClassifier(n_estimators=350, max_depth=40, criterion=\"entropy\")"
      ],
      "execution_count": null,
      "outputs": []
    },
    {
      "cell_type": "code",
      "metadata": {
        "id": "PCt5XPW-uv0p"
      },
      "source": [
        "RF_S.fit(X_train, y_train)"
      ],
      "execution_count": null,
      "outputs": []
    },
    {
      "cell_type": "code",
      "metadata": {
        "id": "gxRGVB_qu3ov"
      },
      "source": [
        "RF_S.score(X_test, y_test)"
      ],
      "execution_count": null,
      "outputs": []
    },
    {
      "cell_type": "code",
      "metadata": {
        "id": "1snvYLCsxk7o"
      },
      "source": [
        "tgt_test_Pred_RF = RF_S.predict(X_test)\n",
        "print(metrics.classification_report(y_test,tgt_test_Pred_RF))"
      ],
      "execution_count": null,
      "outputs": []
    },
    {
      "cell_type": "code",
      "metadata": {
        "id": "auL1ZxJEu4nV"
      },
      "source": [
        "features_list = list(X.columns)\n",
        "feature_imp = pd.Series(RF_S.feature_importances_, index=features_list).sort_values(ascending=False)\n",
        "print(feature_imp)"
      ],
      "execution_count": null,
      "outputs": []
    }
  ]
}